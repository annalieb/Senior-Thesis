{
 "cells": [
  {
   "cell_type": "markdown",
   "id": "75f77bfc",
   "metadata": {},
   "source": [
    "# Topic Modeling and Visualization\n",
    "\n",
    "Topic modeling using `sklearn` and `pyLDAvis` to visualize topic modeling that works with the results of both`sklearn` and `gensim`."
   ]
  },
  {
   "cell_type": "markdown",
   "id": "b18c1e3a",
   "metadata": {},
   "source": [
    " <a id=\"sec1\"></a>\n",
    " ## 1. Prepare the notebook materials"
   ]
  },
  {
   "cell_type": "code",
   "execution_count": 1,
   "id": "f89bafa7",
   "metadata": {},
   "outputs": [],
   "source": [
    "from sklearn.feature_extraction.text import CountVectorizer, TfidfVectorizer\n",
    "from sklearn.decomposition import LatentDirichletAllocation"
   ]
  },
  {
   "cell_type": "markdown",
   "id": "d22a87bb",
   "metadata": {},
   "source": [
    "Import the needed packages and enable pyLDAvis to work inside the notebook:"
   ]
  },
  {
   "cell_type": "code",
   "execution_count": 2,
   "id": "f889c05a",
   "metadata": {
    "scrolled": true
   },
   "outputs": [],
   "source": [
    "import pandas\n",
    "import pyLDAvis\n",
    "import pyLDAvis.lda_model\n",
    "pyLDAvis.enable_notebook()"
   ]
  },
  {
   "cell_type": "markdown",
   "id": "a85a5b1b",
   "metadata": {},
   "source": [
    "### Load headline and actor description dataset"
   ]
  },
  {
   "cell_type": "code",
   "execution_count": 6,
   "id": "a3ca9135",
   "metadata": {},
   "outputs": [],
   "source": [
    "actor_desc = pandas.read_csv(\"GPT_actor_blurbs.csv\")"
   ]
  },
  {
   "cell_type": "code",
   "execution_count": 7,
   "id": "eee62267",
   "metadata": {},
   "outputs": [
    {
     "data": {
      "text/html": [
       "<div>\n",
       "<style scoped>\n",
       "    .dataframe tbody tr th:only-of-type {\n",
       "        vertical-align: middle;\n",
       "    }\n",
       "\n",
       "    .dataframe tbody tr th {\n",
       "        vertical-align: top;\n",
       "    }\n",
       "\n",
       "    .dataframe thead th {\n",
       "        text-align: right;\n",
       "    }\n",
       "</style>\n",
       "<table border=\"1\" class=\"dataframe\">\n",
       "  <thead>\n",
       "    <tr style=\"text-align: right;\">\n",
       "      <th></th>\n",
       "      <th>title</th>\n",
       "      <th>actor_blurb</th>\n",
       "    </tr>\n",
       "  </thead>\n",
       "  <tbody>\n",
       "    <tr>\n",
       "      <th>0</th>\n",
       "      <td>CNN Soledad OBrien , Liberal Guest Team Up to ...</td>\n",
       "      <td>The primary actor in the headline is Soledad O...</td>\n",
       "    </tr>\n",
       "    <tr>\n",
       "      <th>1</th>\n",
       "      <td>A Critical Race Tale Told by Leftist Idiots Si...</td>\n",
       "      <td>The headline does not reference a specific pri...</td>\n",
       "    </tr>\n",
       "    <tr>\n",
       "      <th>2</th>\n",
       "      <td>Amazing Benefits of Becoming Salesforce Develo...</td>\n",
       "      <td>The headline does not explicitly reference a p...</td>\n",
       "    </tr>\n",
       "    <tr>\n",
       "      <th>3</th>\n",
       "      <td>The race is on ; Candidates address critical i...</td>\n",
       "      <td>The primary actors in the headline \"The race i...</td>\n",
       "    </tr>\n",
       "    <tr>\n",
       "      <th>4</th>\n",
       "      <td>Journalist declares  one - man war against cri...</td>\n",
       "      <td>The primary actor in the headline is a \"journa...</td>\n",
       "    </tr>\n",
       "    <tr>\n",
       "      <th>5</th>\n",
       "      <td>Reminder : Critical race theory isnt scriptural</td>\n",
       "      <td>The headline does not reference a specific pri...</td>\n",
       "    </tr>\n",
       "    <tr>\n",
       "      <th>6</th>\n",
       "      <td>B . C . Court Of Appeal Weighs In On Legal Rep...</td>\n",
       "      <td>The primary actor in the headline is the \"B.C....</td>\n",
       "    </tr>\n",
       "    <tr>\n",
       "      <th>7</th>\n",
       "      <td>Continued Violence In Kenosha May Tighten 2020...</td>\n",
       "      <td>The headline does not reference a specific pri...</td>\n",
       "    </tr>\n",
       "    <tr>\n",
       "      <th>8</th>\n",
       "      <td>Sandia Labs Goes Nuclear On Employee Who Spark...</td>\n",
       "      <td>The primary actor in the headline is \"Sandia L...</td>\n",
       "    </tr>\n",
       "    <tr>\n",
       "      <th>9</th>\n",
       "      <td>Rebellion Against Critical Race Theory in the ...</td>\n",
       "      <td>The primary actor in the headline \"Rebellion A...</td>\n",
       "    </tr>\n",
       "  </tbody>\n",
       "</table>\n",
       "</div>"
      ],
      "text/plain": [
       "                                               title  \\\n",
       "0  CNN Soledad OBrien , Liberal Guest Team Up to ...   \n",
       "1  A Critical Race Tale Told by Leftist Idiots Si...   \n",
       "2  Amazing Benefits of Becoming Salesforce Develo...   \n",
       "3  The race is on ; Candidates address critical i...   \n",
       "4  Journalist declares  one - man war against cri...   \n",
       "5    Reminder : Critical race theory isnt scriptural   \n",
       "6  B . C . Court Of Appeal Weighs In On Legal Rep...   \n",
       "7  Continued Violence In Kenosha May Tighten 2020...   \n",
       "8  Sandia Labs Goes Nuclear On Employee Who Spark...   \n",
       "9  Rebellion Against Critical Race Theory in the ...   \n",
       "\n",
       "                                         actor_blurb  \n",
       "0  The primary actor in the headline is Soledad O...  \n",
       "1  The headline does not reference a specific pri...  \n",
       "2  The headline does not explicitly reference a p...  \n",
       "3  The primary actors in the headline \"The race i...  \n",
       "4  The primary actor in the headline is a \"journa...  \n",
       "5  The headline does not reference a specific pri...  \n",
       "6  The primary actor in the headline is the \"B.C....  \n",
       "7  The headline does not reference a specific pri...  \n",
       "8  The primary actor in the headline is \"Sandia L...  \n",
       "9  The primary actor in the headline \"Rebellion A...  "
      ]
     },
     "execution_count": 7,
     "metadata": {},
     "output_type": "execute_result"
    }
   ],
   "source": [
    "# displaying the contents of the CSV file\n",
    "actor_desc.head(10)"
   ]
  },
  {
   "cell_type": "code",
   "execution_count": 8,
   "id": "a3056c31",
   "metadata": {},
   "outputs": [
    {
     "name": "stdout",
     "output_type": "stream",
     "text": [
      "11704\n"
     ]
    }
   ],
   "source": [
    "blurbs = actor_desc['actor_blurb'].tolist()\n",
    "print(len(blurbs))"
   ]
  },
  {
   "cell_type": "markdown",
   "id": "081565a0",
   "metadata": {},
   "source": [
    "<a id=\"sec2\"></a>\n",
    "## 2. Convert to document-term matrices\n",
    "\n",
    "Next, the raw documents are converted into document-term matrix (dtm), initially as raw counts (with `CountVectorizer`) and then as TF-IDF values (with `TfidfVectorizer`).\n",
    "\n",
    "We're creating two different vectorizers, to notice the difference that different feature representations make in the process of modeling."
   ]
  },
  {
   "cell_type": "code",
   "execution_count": 9,
   "id": "f50ad7a6",
   "metadata": {},
   "outputs": [
    {
     "name": "stdout",
     "output_type": "stream",
     "text": [
      "(11704, 2188)\n"
     ]
    }
   ],
   "source": [
    "# Create the TF vector represetnation, this only counts the terms in each document\n",
    "\n",
    "tf_vectorizer = CountVectorizer(strip_accents = 'unicode',\n",
    "                                stop_words = 'english',\n",
    "                                lowercase = True,\n",
    "                                token_pattern = r'\\b[a-zA-Z]{3,}\\b',\n",
    "                                max_df = 0.5, \n",
    "                                min_df = 10)\n",
    "\n",
    "dtm_tf = tf_vectorizer.fit_transform(blurbs)\n",
    "print(dtm_tf.shape)"
   ]
  },
  {
   "cell_type": "markdown",
   "id": "9c7183ef",
   "metadata": {},
   "source": [
    "Let's look at some of the features (i.e. words in the corpus):"
   ]
  },
  {
   "cell_type": "code",
   "execution_count": 10,
   "id": "99404606",
   "metadata": {},
   "outputs": [
    {
     "data": {
      "text/plain": [
       "array(['created', 'creating', 'creation', 'creator', 'crenshaw',\n",
       "       'criminal', 'crisis', 'criteria', 'critic', 'criticism',\n",
       "       'criticisms', 'criticize', 'criticized', 'criticizes',\n",
       "       'criticizing', 'critics', 'critique', 'critiques', 'critiquing',\n",
       "       'crt'], dtype=object)"
      ]
     },
     "execution_count": 10,
     "metadata": {},
     "output_type": "execute_result"
    }
   ],
   "source": [
    "tf_vectorizer.get_feature_names_out()[500:520]"
   ]
  },
  {
   "cell_type": "markdown",
   "id": "a996c8c2",
   "metadata": {},
   "source": [
    "To be able to compare the results of TF and TFIDF representation, we will use the same parameters.\n",
    "This is why we will initialize the `TfidfVectorizer` with the parmeters of the `CountVectorizer`."
   ]
  },
  {
   "cell_type": "markdown",
   "id": "1897c093",
   "metadata": {},
   "source": [
    "Initialize and prepare Document-Term-Matrix:"
   ]
  },
  {
   "cell_type": "code",
   "execution_count": 13,
   "id": "b072937c",
   "metadata": {},
   "outputs": [
    {
     "name": "stdout",
     "output_type": "stream",
     "text": [
      "(11704, 2188)\n"
     ]
    },
    {
     "name": "stderr",
     "output_type": "stream",
     "text": [
      "/Users/annalieb/miniconda3/lib/python3.11/site-packages/sklearn/feature_extraction/text.py:2078: UserWarning: Only (<class 'numpy.float64'>, <class 'numpy.float32'>, <class 'numpy.float16'>) 'dtype' should be used. <class 'numpy.int64'> 'dtype' will be converted to np.float64.\n",
      "  warnings.warn(\n"
     ]
    }
   ],
   "source": [
    "# TF IDF = measures term importance relative to the other documents\n",
    "tfidf_vectorizer = TfidfVectorizer(**tf_vectorizer.get_params())\n",
    "\n",
    "dtm_tfidf = tfidf_vectorizer.fit_transform(blurbs)\n",
    "print(dtm_tfidf.shape)"
   ]
  },
  {
   "cell_type": "markdown",
   "id": "f8f70850",
   "metadata": {},
   "source": [
    "<a id=\"sec3\"></a>\n",
    "## 3. Fit Latent Dirichlet Allocation models\n",
    "\n",
    "We will fit two LDA models, each with 3 topics. "
   ]
  },
  {
   "cell_type": "code",
   "execution_count": 14,
   "id": "8fa05a16",
   "metadata": {},
   "outputs": [
    {
     "data": {
      "text/html": [
       "<style>#sk-container-id-1 {color: black;}#sk-container-id-1 pre{padding: 0;}#sk-container-id-1 div.sk-toggleable {background-color: white;}#sk-container-id-1 label.sk-toggleable__label {cursor: pointer;display: block;width: 100%;margin-bottom: 0;padding: 0.3em;box-sizing: border-box;text-align: center;}#sk-container-id-1 label.sk-toggleable__label-arrow:before {content: \"▸\";float: left;margin-right: 0.25em;color: #696969;}#sk-container-id-1 label.sk-toggleable__label-arrow:hover:before {color: black;}#sk-container-id-1 div.sk-estimator:hover label.sk-toggleable__label-arrow:before {color: black;}#sk-container-id-1 div.sk-toggleable__content {max-height: 0;max-width: 0;overflow: hidden;text-align: left;background-color: #f0f8ff;}#sk-container-id-1 div.sk-toggleable__content pre {margin: 0.2em;color: black;border-radius: 0.25em;background-color: #f0f8ff;}#sk-container-id-1 input.sk-toggleable__control:checked~div.sk-toggleable__content {max-height: 200px;max-width: 100%;overflow: auto;}#sk-container-id-1 input.sk-toggleable__control:checked~label.sk-toggleable__label-arrow:before {content: \"▾\";}#sk-container-id-1 div.sk-estimator input.sk-toggleable__control:checked~label.sk-toggleable__label {background-color: #d4ebff;}#sk-container-id-1 div.sk-label input.sk-toggleable__control:checked~label.sk-toggleable__label {background-color: #d4ebff;}#sk-container-id-1 input.sk-hidden--visually {border: 0;clip: rect(1px 1px 1px 1px);clip: rect(1px, 1px, 1px, 1px);height: 1px;margin: -1px;overflow: hidden;padding: 0;position: absolute;width: 1px;}#sk-container-id-1 div.sk-estimator {font-family: monospace;background-color: #f0f8ff;border: 1px dotted black;border-radius: 0.25em;box-sizing: border-box;margin-bottom: 0.5em;}#sk-container-id-1 div.sk-estimator:hover {background-color: #d4ebff;}#sk-container-id-1 div.sk-parallel-item::after {content: \"\";width: 100%;border-bottom: 1px solid gray;flex-grow: 1;}#sk-container-id-1 div.sk-label:hover label.sk-toggleable__label {background-color: #d4ebff;}#sk-container-id-1 div.sk-serial::before {content: \"\";position: absolute;border-left: 1px solid gray;box-sizing: border-box;top: 0;bottom: 0;left: 50%;z-index: 0;}#sk-container-id-1 div.sk-serial {display: flex;flex-direction: column;align-items: center;background-color: white;padding-right: 0.2em;padding-left: 0.2em;position: relative;}#sk-container-id-1 div.sk-item {position: relative;z-index: 1;}#sk-container-id-1 div.sk-parallel {display: flex;align-items: stretch;justify-content: center;background-color: white;position: relative;}#sk-container-id-1 div.sk-item::before, #sk-container-id-1 div.sk-parallel-item::before {content: \"\";position: absolute;border-left: 1px solid gray;box-sizing: border-box;top: 0;bottom: 0;left: 50%;z-index: -1;}#sk-container-id-1 div.sk-parallel-item {display: flex;flex-direction: column;z-index: 1;position: relative;background-color: white;}#sk-container-id-1 div.sk-parallel-item:first-child::after {align-self: flex-end;width: 50%;}#sk-container-id-1 div.sk-parallel-item:last-child::after {align-self: flex-start;width: 50%;}#sk-container-id-1 div.sk-parallel-item:only-child::after {width: 0;}#sk-container-id-1 div.sk-dashed-wrapped {border: 1px dashed gray;margin: 0 0.4em 0.5em 0.4em;box-sizing: border-box;padding-bottom: 0.4em;background-color: white;}#sk-container-id-1 div.sk-label label {font-family: monospace;font-weight: bold;display: inline-block;line-height: 1.2em;}#sk-container-id-1 div.sk-label-container {text-align: center;}#sk-container-id-1 div.sk-container {/* jupyter's `normalize.less` sets `[hidden] { display: none; }` but bootstrap.min.css set `[hidden] { display: none !important; }` so we also need the `!important` here to be able to override the default hidden behavior on the sphinx rendered scikit-learn.org. See: https://github.com/scikit-learn/scikit-learn/issues/21755 */display: inline-block !important;position: relative;}#sk-container-id-1 div.sk-text-repr-fallback {display: none;}</style><div id=\"sk-container-id-1\" class=\"sk-top-container\"><div class=\"sk-text-repr-fallback\"><pre>LatentDirichletAllocation(n_components=4, random_state=0)</pre><b>In a Jupyter environment, please rerun this cell to show the HTML representation or trust the notebook. <br />On GitHub, the HTML representation is unable to render, please try loading this page with nbviewer.org.</b></div><div class=\"sk-container\" hidden><div class=\"sk-item\"><div class=\"sk-estimator sk-toggleable\"><input class=\"sk-toggleable__control sk-hidden--visually\" id=\"sk-estimator-id-1\" type=\"checkbox\" checked><label for=\"sk-estimator-id-1\" class=\"sk-toggleable__label sk-toggleable__label-arrow\">LatentDirichletAllocation</label><div class=\"sk-toggleable__content\"><pre>LatentDirichletAllocation(n_components=4, random_state=0)</pre></div></div></div></div></div>"
      ],
      "text/plain": [
       "LatentDirichletAllocation(n_components=4, random_state=0)"
      ]
     },
     "execution_count": 14,
     "metadata": {},
     "output_type": "execute_result"
    }
   ],
   "source": [
    "# for TF DTM\n",
    "lda_tf = LatentDirichletAllocation(n_components=4, random_state=0)\n",
    "lda_tf.fit(dtm_tf)\n",
    "\n",
    "lda_tf"
   ]
  },
  {
   "cell_type": "code",
   "execution_count": 15,
   "id": "7f22d323",
   "metadata": {},
   "outputs": [
    {
     "data": {
      "text/html": [
       "<style>#sk-container-id-2 {color: black;}#sk-container-id-2 pre{padding: 0;}#sk-container-id-2 div.sk-toggleable {background-color: white;}#sk-container-id-2 label.sk-toggleable__label {cursor: pointer;display: block;width: 100%;margin-bottom: 0;padding: 0.3em;box-sizing: border-box;text-align: center;}#sk-container-id-2 label.sk-toggleable__label-arrow:before {content: \"▸\";float: left;margin-right: 0.25em;color: #696969;}#sk-container-id-2 label.sk-toggleable__label-arrow:hover:before {color: black;}#sk-container-id-2 div.sk-estimator:hover label.sk-toggleable__label-arrow:before {color: black;}#sk-container-id-2 div.sk-toggleable__content {max-height: 0;max-width: 0;overflow: hidden;text-align: left;background-color: #f0f8ff;}#sk-container-id-2 div.sk-toggleable__content pre {margin: 0.2em;color: black;border-radius: 0.25em;background-color: #f0f8ff;}#sk-container-id-2 input.sk-toggleable__control:checked~div.sk-toggleable__content {max-height: 200px;max-width: 100%;overflow: auto;}#sk-container-id-2 input.sk-toggleable__control:checked~label.sk-toggleable__label-arrow:before {content: \"▾\";}#sk-container-id-2 div.sk-estimator input.sk-toggleable__control:checked~label.sk-toggleable__label {background-color: #d4ebff;}#sk-container-id-2 div.sk-label input.sk-toggleable__control:checked~label.sk-toggleable__label {background-color: #d4ebff;}#sk-container-id-2 input.sk-hidden--visually {border: 0;clip: rect(1px 1px 1px 1px);clip: rect(1px, 1px, 1px, 1px);height: 1px;margin: -1px;overflow: hidden;padding: 0;position: absolute;width: 1px;}#sk-container-id-2 div.sk-estimator {font-family: monospace;background-color: #f0f8ff;border: 1px dotted black;border-radius: 0.25em;box-sizing: border-box;margin-bottom: 0.5em;}#sk-container-id-2 div.sk-estimator:hover {background-color: #d4ebff;}#sk-container-id-2 div.sk-parallel-item::after {content: \"\";width: 100%;border-bottom: 1px solid gray;flex-grow: 1;}#sk-container-id-2 div.sk-label:hover label.sk-toggleable__label {background-color: #d4ebff;}#sk-container-id-2 div.sk-serial::before {content: \"\";position: absolute;border-left: 1px solid gray;box-sizing: border-box;top: 0;bottom: 0;left: 50%;z-index: 0;}#sk-container-id-2 div.sk-serial {display: flex;flex-direction: column;align-items: center;background-color: white;padding-right: 0.2em;padding-left: 0.2em;position: relative;}#sk-container-id-2 div.sk-item {position: relative;z-index: 1;}#sk-container-id-2 div.sk-parallel {display: flex;align-items: stretch;justify-content: center;background-color: white;position: relative;}#sk-container-id-2 div.sk-item::before, #sk-container-id-2 div.sk-parallel-item::before {content: \"\";position: absolute;border-left: 1px solid gray;box-sizing: border-box;top: 0;bottom: 0;left: 50%;z-index: -1;}#sk-container-id-2 div.sk-parallel-item {display: flex;flex-direction: column;z-index: 1;position: relative;background-color: white;}#sk-container-id-2 div.sk-parallel-item:first-child::after {align-self: flex-end;width: 50%;}#sk-container-id-2 div.sk-parallel-item:last-child::after {align-self: flex-start;width: 50%;}#sk-container-id-2 div.sk-parallel-item:only-child::after {width: 0;}#sk-container-id-2 div.sk-dashed-wrapped {border: 1px dashed gray;margin: 0 0.4em 0.5em 0.4em;box-sizing: border-box;padding-bottom: 0.4em;background-color: white;}#sk-container-id-2 div.sk-label label {font-family: monospace;font-weight: bold;display: inline-block;line-height: 1.2em;}#sk-container-id-2 div.sk-label-container {text-align: center;}#sk-container-id-2 div.sk-container {/* jupyter's `normalize.less` sets `[hidden] { display: none; }` but bootstrap.min.css set `[hidden] { display: none !important; }` so we also need the `!important` here to be able to override the default hidden behavior on the sphinx rendered scikit-learn.org. See: https://github.com/scikit-learn/scikit-learn/issues/21755 */display: inline-block !important;position: relative;}#sk-container-id-2 div.sk-text-repr-fallback {display: none;}</style><div id=\"sk-container-id-2\" class=\"sk-top-container\"><div class=\"sk-text-repr-fallback\"><pre>LatentDirichletAllocation(n_components=3, random_state=0)</pre><b>In a Jupyter environment, please rerun this cell to show the HTML representation or trust the notebook. <br />On GitHub, the HTML representation is unable to render, please try loading this page with nbviewer.org.</b></div><div class=\"sk-container\" hidden><div class=\"sk-item\"><div class=\"sk-estimator sk-toggleable\"><input class=\"sk-toggleable__control sk-hidden--visually\" id=\"sk-estimator-id-2\" type=\"checkbox\" checked><label for=\"sk-estimator-id-2\" class=\"sk-toggleable__label sk-toggleable__label-arrow\">LatentDirichletAllocation</label><div class=\"sk-toggleable__content\"><pre>LatentDirichletAllocation(n_components=3, random_state=0)</pre></div></div></div></div></div>"
      ],
      "text/plain": [
       "LatentDirichletAllocation(n_components=3, random_state=0)"
      ]
     },
     "execution_count": 15,
     "metadata": {},
     "output_type": "execute_result"
    }
   ],
   "source": [
    "# for TFIDF DTM\n",
    "lda_tfidf = LatentDirichletAllocation(n_components=3, random_state=0)\n",
    "lda_tfidf.fit(dtm_tfidf)"
   ]
  },
  {
   "cell_type": "markdown",
   "id": "ed566cf8",
   "metadata": {},
   "source": [
    "Given that the models are probability distributions over topics and words, we will focus on their visualization to learn more about them."
   ]
  },
  {
   "cell_type": "markdown",
   "id": "35f02065",
   "metadata": {},
   "source": [
    "<a id=\"sec4\"></a>\n",
    "## 4. Visualizing the models with pyLDAvis\n",
    "\n",
    "Note on relevance metric: lambda influences the order in which the words are sorted. Adjust lambda to help with interpretation of the different categories. \n",
    "\n",
    "see this link: https://we1s.ucsb.edu/research/we1s-tools-and-software/topic-model-observatory/tmo-guide/tmo-guide-pyldavis/"
   ]
  },
  {
   "cell_type": "code",
   "execution_count": 16,
   "id": "ad93bdaf",
   "metadata": {
    "scrolled": false
   },
   "outputs": [
    {
     "data": {
      "text/html": [
       "\n",
       "<link rel=\"stylesheet\" type=\"text/css\" href=\"https://cdn.jsdelivr.net/gh/bmabey/pyLDAvis@3.4.0/pyLDAvis/js/ldavis.v1.0.0.css\">\n",
       "\n",
       "\n",
       "<div id=\"ldavis_el7310863267517928334801739\" style=\"background-color:white;\"></div>\n",
       "<script type=\"text/javascript\">\n",
       "\n",
       "var ldavis_el7310863267517928334801739_data = {\"mdsDat\": {\"x\": [0.060597140691343206, -0.16707202203581561, -0.1571624242276683, 0.2636373055721409], \"y\": [-0.017605404173197184, -0.21334932698568487, 0.2268683712870976, 0.0040863598717844314], \"topics\": [1, 2, 3, 4], \"cluster\": [1, 1, 1, 1], \"Freq\": [28.7833285346036, 28.13363875394349, 21.708186259746, 21.3748464517069]}, \"tinfo\": {\"Term\": [\"state\", \"does\", \"specific\", \"reference\", \"political\", \"known\", \"explicitly\", \"legislative\", \"party\", \"responsible\", \"conservative\", \"states\", \"united\", \"individual\", \"school\", \"body\", \"republican\", \"group\", \"laws\", \"government\", \"subject\", \"figure\", \"crt\", \"individuals\", \"educational\", \"discusses\", \"issues\", \"decisions\", \"parents\", \"news\", \"parents\", \"parent\", \"student\", \"king\", \"loudoun\", \"faculty\", \"mother\", \"teacher\", \"father\", \"mask\", \"martin\", \"conditions\", \"attending\", \"sector\", \"luther\", \"voicing\", \"publicly\", \"guardians\", \"unions\", \"professors\", \"pta\", \"naacp\", \"private\", \"mom\", \"whistleblower\", \"professionals\", \"nea\", \"carson\", \"youngkin\", \"protesting\", \"university\", \"children\", \"college\", \"glenn\", \"professional\", \"actively\", \"association\", \"oppose\", \"candidates\", \"union\", \"community\", \"meeting\", \"working\", \"concerns\", \"possibly\", \"students\", \"opposition\", \"school\", \"crt\", \"likely\", \"engaged\", \"individuals\", \"opposing\", \"described\", \"educational\", \"organization\", \"teachers\", \"inclusion\", \"board\", \"suggests\", \"expressing\", \"indicating\", \"related\", \"teaching\", \"involved\", \"schools\", \"education\", \"context\", \"public\", \"individual\", \"groups\", \"curriculum\", \"group\", \"regarding\", \"policies\", \"specifically\", \"issues\", \"body\", \"overseeing\", \"elected\", \"state\", \"executive\", \"governmental\", \"passing\", \"legislature\", \"branch\", \"dakota\", \"lawmakers\", \"governing\", \"regulations\", \"appointed\", \"idaho\", \"jurisdiction\", \"oklahoma\", \"bills\", \"officer\", \"mississippi\", \"debating\", \"noem\", \"gov\", \"oversee\", \"operation\", \"budget\", \"lieutenant\", \"managing\", \"assembly\", \"enforcing\", \"laws\", \"legislative\", \"legislation\", \"officials\", \"superintendent\", \"decisions\", \"responsible\", \"government\", \"standards\", \"senate\", \"federal\", \"authority\", \"making\", \"creating\", \"implementing\", \"governor\", \"texas\", \"florida\", \"policies\", \"house\", \"district\", \"policy\", \"schools\", \"educational\", \"education\", \"refers\", \"role\", \"school\", \"specifically\", \"public\", \"context\", \"states\", \"curriculum\", \"including\", \"political\", \"involved\", \"party\", \"known\", \"republican\", \"conservative\", \"news\", \"gop\", \"television\", \"trump\", \"democratic\", \"senator\", \"host\", \"ron\", \"republicans\", \"donald\", \"fox\", \"desantis\", \"right\", \"left\", \"major\", \"prominent\", \"democrats\", \"rep\", \"baptist\", \"personality\", \"served\", \"cnn\", \"progressive\", \"southern\", \"wing\", \"network\", \"politics\", \"commentary\", \"media\", \"political\", \"christian\", \"journalist\", \"united\", \"american\", \"states\", \"various\", \"figure\", \"issues\", \"social\", \"commentator\", \"member\", \"president\", \"work\", \"including\", \"associated\", \"views\", \"context\", \"policies\", \"public\", \"specifically\", \"governor\", \"involved\", \"education\", \"does\", \"reference\", \"explicitly\", \"subject\", \"discusses\", \"mentions\", \"concept\", \"specify\", \"framework\", \"employed\", \"pledge\", \"examines\", \"relate\", \"implying\", \"instead\", \"categorizations\", \"provided\", \"letter\", \"details\", \"highlighting\", \"specifying\", \"possible\", \"glen\", \"mentioning\", \"ellyn\", \"date\", \"roselle\", \"bartlett\", \"grove\", \"lisle\", \"performing\", \"specific\", \"situation\", \"focuses\", \"society\", \"implies\", \"group\", \"individual\", \"mentioned\", \"culture\", \"power\", \"person\", \"action\", \"topic\", \"actors\", \"individuals\", \"context\", \"crt\", \"teaching\", \"entity\", \"opinion\", \"law\", \"teachers\", \"academic\", \"suggests\", \"regarding\", \"likely\", \"educational\"], \"Freq\": [3543.0, 2706.0, 3095.0, 2140.0, 3834.0, 1543.0, 1157.0, 1532.0, 1135.0, 1975.0, 1085.0, 1883.0, 1758.0, 2925.0, 2535.0, 1137.0, 845.0, 2642.0, 1014.0, 1249.0, 705.0, 1686.0, 2522.0, 2039.0, 3251.0, 629.0, 1482.0, 838.0, 705.0, 557.0, 704.7093871376337, 209.7910634657165, 137.93976787097498, 110.98845393891187, 107.00628830876774, 89.04606987477945, 81.07002790306896, 366.6340912535881, 74.08720215352331, 75.07275296059635, 74.06952479338034, 72.0858765124657, 69.09861096951761, 90.79155618177666, 69.08301405479888, 66.09219810570954, 67.0041694584626, 59.11734581375012, 59.11478932169419, 56.126241335427416, 54.132188936128024, 54.127327038565355, 59.03505864542833, 52.133754856418186, 51.13182676227274, 100.18209386696003, 45.14641878849507, 49.06878253156772, 207.03507902094253, 43.14676071042721, 404.8983536200724, 308.20557509400487, 149.21683648056126, 105.98450033633986, 172.39141384678967, 591.4879666373589, 163.2082989758076, 154.87468057153214, 159.89342038722384, 224.17411402429565, 310.862062582043, 163.77595568105727, 165.51642637204225, 293.58411135982027, 378.07740777056426, 486.2652155377387, 338.1468287641291, 1649.1683697933497, 1576.471101407283, 1486.9519939850347, 271.47698458601883, 1233.2858112269914, 284.3127623834075, 672.5033634102307, 1707.509649444218, 501.6969083314081, 687.9745093227972, 290.2763147007008, 658.6480430034524, 721.5563809703309, 327.83759777903174, 405.2741707479125, 827.8231258416916, 732.4022046544967, 894.0351509578132, 777.016981000431, 802.2724747738423, 966.4412763346029, 778.8440337212023, 910.5658409017896, 415.59766156223094, 477.51317002986195, 669.0691792354651, 467.21367413973536, 457.27876911667096, 419.938583928845, 402.55274193240336, 1136.2668165429882, 532.98800386215, 576.5372943747343, 3537.616620604286, 458.43480296776164, 480.18968466473547, 347.12494291961303, 311.3449405019219, 337.0933718107996, 251.70294899239386, 324.6911306711063, 250.45239907378289, 180.1442751128767, 192.99449289521323, 169.2062863627706, 204.79694070311965, 184.96976592185726, 212.66046382777583, 162.19631193479265, 153.29482697290874, 146.34491094890268, 139.38476458738083, 181.81674829265907, 122.49612608636579, 117.53071514451516, 107.5846140194078, 104.58394830116734, 120.32858767754377, 91.67465597084374, 89.69969411627461, 1000.8411967283932, 1499.8531744756312, 588.7549351801252, 471.9340929846436, 173.95153705597744, 796.5536820710349, 1780.6295760547262, 1128.265520427987, 428.6273988309526, 486.16135404820585, 404.4496162476144, 369.4869869638215, 1087.3048435487167, 253.54826219490886, 285.5989394859651, 857.2987236068792, 594.3941115370811, 569.7146258200939, 1245.2198794206693, 470.963659091996, 604.2453756458993, 678.9885287277656, 939.696860177374, 1179.281911813657, 918.9776778363191, 699.8733638975066, 604.2842263997372, 884.277576290808, 684.8586565839365, 684.3293125045859, 726.7775664650073, 608.3472727099028, 538.9245243482843, 527.7013315146377, 576.1945554879075, 538.1359888661486, 1134.6579784828828, 1542.5280264751973, 844.5484976784209, 1084.3858550137568, 556.3922282685227, 479.41289401792295, 381.3857794527867, 352.2473656335057, 261.3347520639615, 256.3320348102092, 232.3268448747786, 209.30207312837845, 195.3036651429677, 181.30948176783915, 162.3051792473302, 288.75378784378256, 191.1372716145909, 147.14739905616608, 354.8982153935466, 152.09413703107552, 119.27496417974753, 118.27677212544955, 114.28645030613522, 112.28540603026552, 167.90596308781883, 109.28212164093613, 109.27276493549664, 109.26738886445547, 108.27154919644994, 104.28469878061183, 293.60000982172625, 225.8297344130756, 384.13465821916697, 2850.062384827766, 113.80866144176127, 179.17388728708403, 1274.6058013656993, 463.45157519350914, 1274.3779396061445, 647.6275247852359, 1076.2550478891699, 960.2788711788681, 769.347170336745, 434.6010640662341, 404.2936426916396, 415.0709573042475, 304.7796110441176, 490.961382389635, 285.20370789177616, 264.3309987143812, 515.8613848237809, 446.8174288462874, 431.3582317449147, 407.0747650092321, 319.01053394361173, 338.3174224944251, 296.0429037153774, 2706.046710180486, 2139.825965890997, 1156.9465093086978, 704.3575943800934, 628.5979088380042, 445.0567717083462, 446.99528384487246, 414.9491839563486, 415.84604224948805, 368.3182420432989, 249.8353999525906, 242.06335614960534, 236.23980530228746, 240.10596190722262, 229.44390274590555, 228.47204647128052, 200.21157393742197, 163.4003867712138, 163.39618362137037, 154.6579374587091, 149.8078361717525, 133.2915618810295, 117.74334553040451, 111.92571405508986, 110.95983915439345, 109.01481115577991, 103.1908275588865, 103.19046586478015, 103.18346936586184, 102.2166428515885, 139.20185675544673, 2758.41568962144, 211.73829484127032, 429.4447100198302, 324.7436446307344, 326.3995113326477, 1546.9917466939676, 1664.350498501624, 473.93907996299265, 257.8456900418101, 263.49705165215596, 498.2123670582523, 644.3805107420116, 311.9204573334108, 513.8291155465221, 700.942073278943, 846.4971110575401, 728.2514418162178, 556.0519138878732, 381.8009146188955, 304.28616674298627, 360.0411101570316, 409.95666780913666, 355.4051525326645, 419.15100265707764, 410.9490637623762, 433.23119945172783, 363.0989059499333], \"Total\": [3543.0, 2706.0, 3095.0, 2140.0, 3834.0, 1543.0, 1157.0, 1532.0, 1135.0, 1975.0, 1085.0, 1883.0, 1758.0, 2925.0, 2535.0, 1137.0, 845.0, 2642.0, 1014.0, 1249.0, 705.0, 1686.0, 2522.0, 2039.0, 3251.0, 629.0, 1482.0, 838.0, 705.0, 557.0, 705.4690941017096, 210.53822173004883, 138.6933745188669, 111.75153071925533, 107.76014627259183, 89.79899603391614, 81.81620148160029, 370.1194406294227, 74.83134919124643, 75.82901862108399, 74.83114931461115, 72.83560569803483, 69.84211663066283, 91.78801952166152, 69.8419654147981, 66.84853114704896, 67.84595804441193, 59.8635806095529, 59.86354123449019, 56.870131950011306, 54.87446860768763, 54.874452393415176, 59.86334383260951, 52.878707088064225, 51.880941434739, 101.75060278919919, 45.89384674521879, 49.88540048758382, 210.52831113504158, 43.8979899976839, 424.1236066151999, 322.91211372805043, 154.6682527435917, 109.74416935359967, 181.5587337688871, 664.426656137193, 173.64223699268496, 165.3754046371705, 171.65003891305, 247.5154848413506, 351.92042456697004, 177.26257308716094, 179.55334213324613, 336.8756193649814, 469.5679853262213, 626.004344079221, 415.575764503828, 2535.972340576345, 2522.5011020627276, 2440.866585628661, 335.59796068936174, 2039.2476687992284, 356.04362319536347, 1024.3886479496944, 3251.351768644362, 733.4319063126759, 1099.3570637214125, 372.24595249806896, 1139.6367979674626, 1303.8808909181184, 459.8033544597895, 629.289411377062, 1790.34507684231, 1528.4856652209546, 2125.3897918350167, 1992.499520101711, 2105.1614596535887, 3055.5773386809315, 2129.3394960221285, 2925.891267094522, 714.1063104502996, 1064.2684977441133, 2642.8390426833075, 1264.8713288996785, 2149.566937521021, 1799.5359162551022, 1482.8221924583308, 1137.0549774161104, 533.738290736995, 577.4724356407127, 3543.3947054670866, 459.1934750080005, 481.0602897310839, 347.8730263341938, 312.09145131305604, 337.9343090397531, 252.45548980013513, 325.9937267327846, 251.4626577141734, 180.8925072570732, 193.81390863342315, 169.95915478974587, 205.74156636376995, 185.86241124013094, 213.69261478259693, 163.00183302952723, 154.05619336541818, 147.09877712408726, 140.14136918980208, 182.88240044355476, 123.24447539483306, 118.27479641194262, 108.33551093141756, 105.35383505054997, 121.25730380941025, 92.4325621015898, 90.44470085827392, 1014.8867011690946, 1532.8470805640063, 596.3970945583072, 482.0928339449055, 175.92762402963035, 838.0409699108668, 1975.1932187294794, 1249.1061062377787, 461.306419671567, 537.0425792048569, 445.53782089741287, 404.6619482812159, 1425.3755416404874, 270.45009272375785, 311.87581442714287, 1177.873184818325, 774.0811374451046, 773.4794267039549, 2149.566937521021, 624.1730325154668, 925.5762168057965, 1188.3027683565936, 1992.499520101711, 3251.351768644362, 2105.1614596535887, 1416.2779318080618, 1096.6676545295952, 2535.972340576345, 1799.5359162551022, 2129.3394960221285, 3055.5773386809315, 1883.7455898713129, 1064.2684977441133, 1106.7618079131184, 3834.552075391233, 2125.3897918350167, 1135.407985426423, 1543.5573777540783, 845.3012851047932, 1085.3889166689723, 557.1936611766861, 480.1669667032143, 382.1309259665249, 353.119459049911, 262.08678047175823, 257.0849508207222, 233.07612832222816, 210.0675634149973, 196.06240805983785, 182.05735594503386, 163.05037422225982, 290.0932841786356, 192.056026633131, 148.04065943116308, 357.1180250469807, 153.04612100267002, 120.03439197616876, 119.03413568952195, 115.03270492122058, 113.0319701866953, 169.05159715186036, 110.03085429111874, 110.03058885777718, 110.03075080658512, 109.03027184735161, 105.02906178418746, 302.9811074494924, 235.80079604327776, 424.81663900873264, 3834.552075391233, 115.01888449628194, 189.76489093778375, 1758.5212557724506, 574.5941961906066, 1883.7455898713129, 913.1239499849711, 1686.0352853052223, 1482.8221924583308, 1174.7690560844878, 584.816926622224, 599.1900413074165, 639.8582203524278, 416.7305720316002, 1106.7618079131184, 434.65554948258824, 370.25488025519087, 3055.5773386809315, 2149.566937521021, 2129.3394960221285, 1799.5359162551022, 1177.873184818325, 2125.3897918350167, 2105.1614596535887, 2706.7975727013154, 2140.5789333546268, 1157.7089769865504, 705.1225940295775, 629.3679679738352, 445.8076586717141, 447.7501998372162, 415.6999732345141, 416.6730381065478, 369.08196930140286, 250.5935176212775, 242.82387305168317, 236.99646257228432, 240.88186004701578, 230.19788295934143, 229.2266872861597, 201.06404008426836, 164.1552457540361, 164.15536207361183, 155.4143449301289, 150.55810094563168, 134.0475885852885, 118.50840312998606, 112.68081650512063, 111.70946064705524, 109.76709557382131, 103.93971630091076, 103.9397262581558, 103.93991750975876, 102.968582148514, 140.87276061230745, 3095.212133021579, 220.70489149520085, 468.224721161122, 356.3792756284305, 360.25214492708153, 2642.8390426833075, 2925.891267094522, 671.1262207648026, 313.37625169402173, 332.7721682871454, 872.1262929680528, 1314.1368521994, 437.5647149463143, 989.50184408173, 2039.2476687992284, 3055.5773386809315, 2522.5011020627276, 1528.4856652209546, 772.4239517451629, 451.90284108790314, 738.4278337995079, 1099.3570637214125, 735.7922763957698, 1303.8808909181184, 1264.8713288996785, 2440.866585628661, 3251.351768644362], \"Category\": [\"Default\", \"Default\", \"Default\", \"Default\", \"Default\", \"Default\", \"Default\", \"Default\", \"Default\", \"Default\", \"Default\", \"Default\", \"Default\", \"Default\", \"Default\", \"Default\", \"Default\", \"Default\", \"Default\", \"Default\", \"Default\", \"Default\", \"Default\", \"Default\", \"Default\", \"Default\", \"Default\", \"Default\", \"Default\", \"Default\", \"Topic1\", \"Topic1\", \"Topic1\", \"Topic1\", \"Topic1\", \"Topic1\", \"Topic1\", \"Topic1\", \"Topic1\", \"Topic1\", \"Topic1\", \"Topic1\", \"Topic1\", \"Topic1\", \"Topic1\", \"Topic1\", \"Topic1\", \"Topic1\", \"Topic1\", \"Topic1\", \"Topic1\", \"Topic1\", \"Topic1\", \"Topic1\", \"Topic1\", \"Topic1\", \"Topic1\", \"Topic1\", \"Topic1\", \"Topic1\", \"Topic1\", \"Topic1\", \"Topic1\", \"Topic1\", \"Topic1\", \"Topic1\", \"Topic1\", \"Topic1\", \"Topic1\", \"Topic1\", \"Topic1\", \"Topic1\", \"Topic1\", \"Topic1\", \"Topic1\", \"Topic1\", \"Topic1\", \"Topic1\", \"Topic1\", \"Topic1\", \"Topic1\", \"Topic1\", \"Topic1\", \"Topic1\", \"Topic1\", \"Topic1\", \"Topic1\", \"Topic1\", \"Topic1\", \"Topic1\", \"Topic1\", \"Topic1\", \"Topic1\", \"Topic1\", \"Topic1\", \"Topic1\", \"Topic1\", \"Topic1\", \"Topic1\", \"Topic1\", \"Topic1\", \"Topic1\", \"Topic1\", \"Topic1\", \"Topic1\", \"Topic1\", \"Topic1\", \"Topic2\", \"Topic2\", \"Topic2\", \"Topic2\", \"Topic2\", \"Topic2\", \"Topic2\", \"Topic2\", \"Topic2\", \"Topic2\", \"Topic2\", \"Topic2\", \"Topic2\", \"Topic2\", \"Topic2\", \"Topic2\", \"Topic2\", \"Topic2\", \"Topic2\", \"Topic2\", \"Topic2\", \"Topic2\", \"Topic2\", \"Topic2\", \"Topic2\", \"Topic2\", \"Topic2\", \"Topic2\", \"Topic2\", \"Topic2\", \"Topic2\", \"Topic2\", \"Topic2\", \"Topic2\", \"Topic2\", \"Topic2\", \"Topic2\", \"Topic2\", \"Topic2\", \"Topic2\", \"Topic2\", \"Topic2\", \"Topic2\", \"Topic2\", \"Topic2\", \"Topic2\", \"Topic2\", \"Topic2\", \"Topic2\", \"Topic2\", \"Topic2\", \"Topic2\", \"Topic2\", \"Topic2\", \"Topic2\", \"Topic2\", \"Topic2\", \"Topic2\", \"Topic2\", \"Topic2\", \"Topic2\", \"Topic2\", \"Topic2\", \"Topic2\", \"Topic2\", \"Topic2\", \"Topic3\", \"Topic3\", \"Topic3\", \"Topic3\", \"Topic3\", \"Topic3\", \"Topic3\", \"Topic3\", \"Topic3\", \"Topic3\", \"Topic3\", \"Topic3\", \"Topic3\", \"Topic3\", \"Topic3\", \"Topic3\", \"Topic3\", \"Topic3\", \"Topic3\", \"Topic3\", \"Topic3\", \"Topic3\", \"Topic3\", \"Topic3\", \"Topic3\", \"Topic3\", \"Topic3\", \"Topic3\", \"Topic3\", \"Topic3\", \"Topic3\", \"Topic3\", \"Topic3\", \"Topic3\", \"Topic3\", \"Topic3\", \"Topic3\", \"Topic3\", \"Topic3\", \"Topic3\", \"Topic3\", \"Topic3\", \"Topic3\", \"Topic3\", \"Topic3\", \"Topic3\", \"Topic3\", \"Topic3\", \"Topic3\", \"Topic3\", \"Topic3\", \"Topic3\", \"Topic3\", \"Topic3\", \"Topic3\", \"Topic3\", \"Topic3\", \"Topic4\", \"Topic4\", \"Topic4\", \"Topic4\", \"Topic4\", \"Topic4\", \"Topic4\", \"Topic4\", \"Topic4\", \"Topic4\", \"Topic4\", \"Topic4\", \"Topic4\", \"Topic4\", \"Topic4\", \"Topic4\", \"Topic4\", \"Topic4\", \"Topic4\", \"Topic4\", \"Topic4\", \"Topic4\", \"Topic4\", \"Topic4\", \"Topic4\", \"Topic4\", \"Topic4\", \"Topic4\", \"Topic4\", \"Topic4\", \"Topic4\", \"Topic4\", \"Topic4\", \"Topic4\", \"Topic4\", \"Topic4\", \"Topic4\", \"Topic4\", \"Topic4\", \"Topic4\", \"Topic4\", \"Topic4\", \"Topic4\", \"Topic4\", \"Topic4\", \"Topic4\", \"Topic4\", \"Topic4\", \"Topic4\", \"Topic4\", \"Topic4\", \"Topic4\", \"Topic4\", \"Topic4\", \"Topic4\", \"Topic4\", \"Topic4\", \"Topic4\"], \"logprob\": [30.0, 29.0, 28.0, 27.0, 26.0, 25.0, 24.0, 23.0, 22.0, 21.0, 20.0, 19.0, 18.0, 17.0, 16.0, 15.0, 14.0, 13.0, 12.0, 11.0, 10.0, 9.0, 8.0, 7.0, 6.0, 5.0, 4.0, 3.0, 2.0, 1.0, -4.6442, -5.8559, -6.2752, -6.4926, -6.5291, -6.7129, -6.8067, -5.2977, -6.8968, -6.8836, -6.897, -6.9242, -6.9665, -6.6934, -6.9667, -7.011, -6.9973, -7.1225, -7.1225, -7.1744, -7.2106, -7.2107, -7.1239, -7.2482, -7.2676, -6.595, -7.3921, -7.3088, -5.8691, -7.4374, -5.1984, -5.4712, -6.1966, -6.5387, -6.0522, -4.8194, -6.107, -6.1594, -6.1275, -5.7896, -5.4627, -6.1035, -6.0929, -5.5199, -5.2669, -5.0153, -5.3785, -3.794, -3.8391, -3.8975, -5.5981, -4.0846, -5.5519, -4.691, -3.7592, -4.984, -4.6683, -5.5312, -4.7118, -4.6206, -5.4095, -5.1975, -4.4832, -4.6057, -4.4063, -4.5466, -4.5146, -4.3284, -4.5442, -4.388, -5.1723, -5.0334, -4.6961, -5.0552, -5.0767, -5.1619, -5.2042, -4.1437, -4.9007, -4.8221, -3.008, -5.0514, -5.005, -5.3295, -5.4383, -5.3588, -5.6509, -5.3963, -5.6559, -5.9854, -5.9165, -6.0481, -5.8572, -5.959, -5.8195, -6.0904, -6.1468, -6.1932, -6.2419, -5.9762, -6.3711, -6.4125, -6.5009, -6.5292, -6.389, -6.6609, -6.6827, -4.2706, -3.8661, -4.8012, -5.0223, -6.0204, -4.4989, -3.6945, -4.1507, -5.1186, -4.9926, -5.1767, -5.2671, -4.1877, -5.6436, -5.5246, -4.4254, -4.7916, -4.8341, -4.0521, -5.0244, -4.7752, -4.6586, -4.3336, -4.1065, -4.3559, -4.6283, -4.7751, -4.3944, -4.65, -4.6507, -4.5906, -4.7684, -4.8896, -4.9107, -4.8227, -4.8911, -3.8858, -3.5787, -4.1811, -3.9311, -4.5984, -4.7473, -4.9761, -5.0556, -5.3541, -5.3734, -5.4718, -5.5761, -5.6454, -5.7197, -5.8304, -5.2543, -5.6669, -5.9285, -5.0481, -5.8954, -6.1385, -6.1469, -6.1812, -6.1989, -5.7965, -6.226, -6.2261, -6.2261, -6.2353, -6.2728, -5.2377, -5.5001, -4.9689, -2.9648, -6.1854, -5.7316, -3.7695, -4.7812, -3.7697, -4.4466, -3.9387, -4.0527, -4.2744, -4.8455, -4.9178, -4.8915, -5.2003, -4.7235, -5.2667, -5.3427, -4.6741, -4.8178, -4.853, -4.9109, -5.1547, -5.0959, -5.2294, -3.0012, -3.236, -3.8509, -4.3471, -4.4609, -4.8062, -4.8019, -4.8763, -4.8741, -4.9955, -5.3836, -5.4152, -5.4396, -5.4234, -5.4688, -5.473, -5.6051, -5.8082, -5.8083, -5.8632, -5.8951, -6.0119, -6.1359, -6.1866, -6.1953, -6.213, -6.2679, -6.2679, -6.2679, -6.2773, -5.9685, -2.982, -5.5491, -4.8419, -5.1214, -5.1163, -3.5604, -3.4872, -4.7434, -5.3521, -5.3304, -4.6934, -4.4361, -5.1617, -4.6625, -4.352, -4.1633, -4.3138, -4.5836, -4.9595, -5.1865, -5.0182, -4.8884, -5.0312, -4.8662, -4.886, -4.8332, -5.0098], \"loglift\": [30.0, 29.0, 28.0, 27.0, 26.0, 25.0, 24.0, 23.0, 22.0, 21.0, 20.0, 19.0, 18.0, 17.0, 16.0, 15.0, 14.0, 13.0, 12.0, 11.0, 10.0, 9.0, 8.0, 7.0, 6.0, 5.0, 4.0, 3.0, 2.0, 1.0, 1.2443, 1.2418, 1.2399, 1.2385, 1.2384, 1.237, 1.2362, 1.2359, 1.2354, 1.2354, 1.2351, 1.235, 1.2347, 1.2345, 1.2344, 1.234, 1.2329, 1.2328, 1.2328, 1.2322, 1.2318, 1.2317, 1.2314, 1.2312, 1.2308, 1.2298, 1.229, 1.2289, 1.2286, 1.2281, 1.199, 1.1988, 1.2095, 1.2105, 1.1936, 1.1291, 1.1834, 1.1798, 1.1744, 1.1463, 1.1213, 1.1662, 1.164, 1.1078, 1.0287, 0.9928, 1.0392, 0.8151, 0.7753, 0.7497, 1.0333, 0.7425, 1.0204, 0.8245, 0.6013, 0.8656, 0.7766, 0.9967, 0.6971, 0.6537, 0.9071, 0.8053, 0.474, 0.5097, 0.3794, 0.3037, 0.2807, 0.0943, 0.2396, 0.0781, 0.7041, 0.4439, -0.1283, 0.2494, -0.3024, -0.2098, -0.0585, 1.2675, 1.2668, 1.2666, 1.2666, 1.2666, 1.2664, 1.2661, 1.2658, 1.2657, 1.2652, 1.2642, 1.2642, 1.2641, 1.264, 1.2638, 1.2636, 1.2634, 1.2634, 1.2633, 1.2632, 1.2631, 1.2628, 1.2624, 1.2621, 1.2619, 1.2612, 1.2609, 1.2605, 1.26, 1.2599, 1.2543, 1.2464, 1.2553, 1.2469, 1.2569, 1.2174, 1.1645, 1.1665, 1.1947, 1.1687, 1.1714, 1.1773, 0.9975, 1.2037, 1.1802, 0.9505, 1.0041, 0.9624, 0.7222, 0.9866, 0.8418, 0.7085, 0.5166, 0.254, 0.4393, 0.5633, 0.6722, 0.2146, 0.3021, 0.1331, -0.1679, 0.1379, 0.5877, 0.5275, -0.6272, -0.1054, 1.5268, 1.5268, 1.5266, 1.5266, 1.526, 1.5259, 1.5255, 1.525, 1.5246, 1.5245, 1.5243, 1.5238, 1.5236, 1.5234, 1.5229, 1.5229, 1.5227, 1.5214, 1.5212, 1.5212, 1.5211, 1.5211, 1.521, 1.5209, 1.5207, 1.5207, 1.5206, 1.5205, 1.5205, 1.5204, 1.496, 1.4843, 1.4268, 1.2308, 1.5169, 1.4701, 1.2056, 1.3125, 1.1367, 1.1839, 1.0786, 1.093, 1.1042, 1.2306, 1.134, 1.0947, 1.2146, 0.7147, 1.1061, 1.1905, -0.2514, -0.0434, -0.0691, 0.0412, 0.2212, -0.3102, -0.4342, 1.5427, 1.5426, 1.5423, 1.5419, 1.5417, 1.5413, 1.5413, 1.5411, 1.541, 1.5409, 1.5399, 1.5398, 1.5398, 1.5397, 1.5397, 1.5397, 1.5387, 1.5383, 1.5383, 1.5381, 1.538, 1.5373, 1.5365, 1.5362, 1.5362, 1.5361, 1.5357, 1.5357, 1.5357, 1.5356, 1.531, 1.4278, 1.5015, 1.4565, 1.45, 1.4443, 1.0074, 0.9788, 1.1951, 1.3479, 1.3095, 0.983, 0.8303, 1.2045, 0.8876, 0.475, 0.2593, 0.3006, 0.5318, 0.8383, 1.1475, 0.8247, 0.5565, 0.8153, 0.4081, 0.4187, -0.1859, -0.6492]}, \"token.table\": {\"Topic\": [1, 2, 3, 4, 1, 2, 3, 4, 1, 3, 4, 1, 2, 3, 4, 1, 3, 4, 2, 2, 1, 3, 4, 1, 3, 1, 1, 2, 3, 4, 2, 1, 2, 2, 2, 2, 1, 3, 1, 4, 1, 4, 3, 4, 3, 1, 2, 3, 3, 4, 1, 3, 4, 1, 2, 3, 4, 4, 1, 2, 4, 1, 1, 3, 1, 2, 3, 4, 2, 3, 1, 2, 3, 4, 3, 4, 1, 2, 4, 2, 4, 2, 1, 2, 3, 3, 2, 3, 1, 2, 3, 4, 4, 4, 1, 2, 3, 4, 4, 3, 1, 2, 3, 4, 1, 2, 3, 4, 2, 4, 4, 2, 1, 3, 4, 1, 2, 4, 4, 2, 4, 1, 3, 4, 1, 1, 2, 3, 1, 2, 3, 4, 1, 2, 3, 1, 3, 4, 3, 4, 4, 1, 2, 3, 2, 3, 1, 2, 1, 2, 3, 2, 1, 2, 3, 1, 2, 3, 4, 1, 3, 4, 4, 1, 4, 3, 2, 3, 2, 1, 2, 3, 4, 1, 4, 4, 1, 2, 3, 1, 2, 4, 1, 2, 3, 4, 1, 2, 3, 4, 1, 2, 3, 4, 4, 1, 2, 3, 4, 1, 2, 3, 4, 3, 4, 2, 1, 1, 3, 1, 2, 3, 4, 2, 4, 2, 3, 3, 1, 2, 3, 2, 3, 2, 4, 2, 1, 2, 3, 4, 4, 1, 1, 1, 3, 1, 2, 3, 4, 2, 1, 1, 1, 3, 4, 1, 4, 1, 2, 3, 1, 2, 3, 4, 4, 4, 2, 1, 1, 1, 1, 3, 3, 2, 2, 1, 2, 3, 2, 2, 1, 3, 4, 1, 2, 4, 1, 3, 4, 1, 3, 4, 1, 2, 3, 4, 2, 2, 1, 1, 3, 2, 3, 4, 1, 2, 3, 4, 3, 4, 1, 2, 3, 1, 2, 3, 4, 1, 2, 3, 4, 1, 3, 4, 4, 1, 3, 4, 2, 3, 4, 1, 2, 3, 1, 1, 3, 4, 1, 4, 1, 3, 3, 1, 4, 1, 1, 2, 3, 4, 1, 4, 1, 2, 3, 4, 1, 2, 3, 4, 2, 4, 1, 2, 3, 4, 3, 3, 3, 1, 2, 4, 3, 1, 2, 3, 4, 3, 4, 1, 2, 4, 1, 2, 3, 4, 1, 2, 3, 3, 1, 3, 1, 4, 1, 3, 4, 1, 3, 4, 3, 1, 2, 4, 1, 2, 3, 4, 4, 4, 1, 2, 1, 2, 3, 1, 2, 3, 1, 1, 2, 4, 4, 1, 2, 3, 4, 1, 2, 1, 4, 1, 2, 4, 1, 2, 3, 4, 3, 1, 2, 3, 1, 3, 4, 3, 1, 3, 1, 1, 2, 3, 1, 3, 1, 2, 3, 4, 1, 3, 4, 1, 1, 3, 1, 2, 3, 1, 2, 1, 2], \"Freq\": [0.43626443263633785, 0.0013590792293966911, 0.08018567453440477, 0.48247312643582535, 0.22143812458570733, 0.26785642561570094, 0.020545805373931608, 0.49005550595599834, 0.8894886960675586, 0.0933135349512498, 0.016555627168770126, 0.38504223340136645, 0.07478510570000294, 0.02021219072973052, 0.5194533017540744, 0.10790223850335084, 0.8057860714040556, 0.08527757559135793, 0.9958005664342564, 0.9953202411384596, 0.24847261268966347, 0.6556916168199453, 0.09432756592848335, 0.9387117029992347, 0.057589675030627896, 0.9879425671602124, 0.08649194753462978, 0.9118722468650969, 0.9910225103206273, 0.9909589307958941, 0.9967588267694624, 0.5782544062944648, 0.42118682097320653, 0.999072184338432, 0.9972352347342064, 0.9969030382694188, 0.9321291216313015, 0.06408387711215197, 0.9822513104248969, 0.9946485843307227, 0.9538198999229583, 0.043355449996498104, 0.9911415894812049, 0.008694224469133377, 0.9906312252344118, 0.9633521899740569, 0.006465450939423201, 0.032327254697116004, 0.9584361197768011, 0.03816781007960712, 0.006839747308791376, 0.7438225198310622, 0.24965077677088524, 0.8837225073897838, 0.0397817205898938, 0.0454648235313072, 0.0312570661777737, 0.998324512557473, 0.8727256681685575, 0.09795900356994011, 0.02968454653634549, 0.9885275108234959, 0.0009213287372317855, 0.9987203511592555, 0.3161432007533524, 0.23792557655040084, 0.1688715233837783, 0.27687075345479933, 0.9391751263307562, 0.05916063787910275, 0.6247767339769469, 0.03607530634003944, 0.050346856100934166, 0.28860245072031554, 0.17550787496718673, 0.8232914862097123, 0.44913478225954934, 0.5064511456859772, 0.0451014007289924, 0.9981957619519555, 0.9930116072597965, 0.9925303449452855, 0.04892362243860311, 0.9510274898430898, 0.9958533563966789, 0.9913825366285512, 0.00344716701329843, 0.9962312668432463, 0.6569772140163834, 0.03514291189389272, 0.14350022356672862, 0.16400025550483271, 0.9929617768252144, 0.9994153373025643, 0.34356976143729334, 0.6525664651198905, 0.0021608161096685116, 0.0021608161096685116, 0.9997053445335702, 0.9941921822408918, 0.3809684033128612, 0.4365460880854357, 0.14060679224514577, 0.04180201931612442, 0.525319965828288, 0.3626184073252644, 0.00030756438280344733, 0.11164587095765137, 0.9991818905777061, 0.9936490549417585, 0.9970684850754135, 0.9950831739830645, 0.8075138461608373, 0.008939267669677167, 0.18176510928343573, 0.04013340074444957, 0.4647706731373354, 0.494547067238056, 0.9966071167495636, 0.9974009321278362, 0.9993876034472879, 0.7133484277977012, 0.03044779874746286, 0.25663144658575837, 0.9911023945789509, 0.9888903621245455, 0.9067692596472586, 0.09202361298400398, 0.03914508822871524, 0.2746087249984115, 0.6381835596075394, 0.04804169918978689, 0.05559294599888307, 0.7369297492875198, 0.20685747348421607, 0.051257438822289995, 0.032035899263931245, 0.9162267189484337, 0.9935579772369733, 0.9983847332440654, 0.9957099824437899, 0.9658827491642328, 0.02733630422162923, 0.997569664753853, 0.9951750390337473, 0.005467994719965644, 0.003976733599692787, 0.9941833999231968, 0.013609732524006967, 0.9030457815929329, 0.08325954014686615, 0.9977959317081095, 0.0008489878306842004, 0.7275825708963598, 0.2708271179882599, 0.2531368687972598, 0.059784193228650286, 0.10178448087662612, 0.5853553602830506, 0.5825463154606205, 0.0392098481560033, 0.3780949643614604, 0.9909571074109184, 0.9855741905051518, 0.9973339338121254, 0.9953829320489638, 0.754598445405167, 0.2451243357685574, 0.9943565570743604, 0.04488966233471923, 0.9170316734092643, 0.003206404452479945, 0.038476853429759345, 0.09160250803414235, 0.9049217460342547, 0.9963390350487843, 0.07951123662816892, 0.4770674197690135, 0.44363655891398796, 0.7790548105462729, 0.1477517744139483, 0.07253268925775644, 0.6435830520550889, 0.19069127468298933, 0.10488020107564412, 0.06038557031627995, 0.31135811854848733, 0.10253286011475983, 0.01743058621950917, 0.5687155974365345, 0.6046347478362097, 0.026970730844275374, 0.02451884622206852, 0.34375422403340067, 0.9947962902875479, 0.4206287258151077, 0.2531300385777717, 0.15902965248938075, 0.16702818530689398, 0.2717790454241025, 0.05462556496117197, 0.6474141032435197, 0.026301197944267985, 0.943272483731919, 0.05269678680066586, 0.9963956414988171, 0.9932749850098846, 0.0006478541157018922, 0.9996389005280197, 0.12729747674370864, 0.3778297448031352, 0.008125370855981402, 0.48752225135888416, 0.9969516998294905, 0.0030675436917830478, 0.9863169936574221, 0.013794643267935974, 0.9929704485567563, 0.001676735197277582, 0.9875970311964958, 0.010060411183665493, 0.978571195404619, 0.020876185501965204, 0.996502783692203, 0.9929624804329004, 0.9966414601767444, 0.609209863724286, 0.14380138679705742, 0.06923770475413876, 0.17739601277243836, 0.9905934205531063, 0.9929459424575302, 0.9879447061691694, 0.00560038939433788, 0.9940691174949737, 0.08839775646422597, 0.762606041877886, 0.03718318327463473, 0.11225111931965204, 0.9896311086432661, 0.9888930034855302, 0.9890672642721835, 0.07532661638364452, 0.9039193966037342, 0.021185610857900022, 0.9251811995268755, 0.07333753410883768, 0.1001351755931751, 0.225304145084644, 0.6742435156607124, 0.12963284298571506, 0.1564534311896561, 0.0074501633899836245, 0.7062754893704476, 0.9939580087699339, 0.9981883248167596, 0.9931441031850442, 0.9833825912838446, 0.9900239626526313, 0.9840644898440917, 0.9805236037375336, 0.9902021234246388, 0.9978577265682361, 0.9918555869947563, 0.9938538542118986, 0.018668603568225903, 0.9790645426891806, 0.0020742892853584335, 0.9953599480692376, 0.9976766274787274, 0.115068982250291, 0.21022217911110855, 0.6727109731555474, 0.9372615011286963, 0.0060468483943786865, 0.060468483943786865, 0.7976550666775103, 0.07302475962540587, 0.12919765164494884, 0.8133294308043957, 0.12753390483027505, 0.05775120218729437, 0.6844534518873084, 0.001363453091408981, 0.1990641513457112, 0.11725696586117236, 0.9899023839336718, 0.9986167551592081, 0.9974435913554027, 0.9993350607338697, 0.9996406706385196, 0.9974903879631211, 0.0070986044119066855, 0.9867060132550293, 0.271749632949871, 0.11466229238391182, 0.04242504818204737, 0.5710182160718809, 0.990870103520351, 0.9976315523764885, 0.21260096255808314, 0.5791864297260689, 0.20794886272092594, 0.22889789306488975, 0.5714031962906623, 0.19776104731709224, 0.0016830727431241892, 0.09596948816047923, 0.15021311190335881, 0.7432419599384941, 0.010431466104399916, 0.016502679134320315, 0.9703575330980345, 0.013202143307456253, 0.9921849501632626, 0.8049952548136207, 0.006388851228679529, 0.18740630270793285, 0.2043440121510509, 0.003005059002221337, 0.7903305175842116, 0.03281977058672998, 0.3172577823383898, 0.648581180642521, 0.9855780887378494, 0.9473518372238994, 0.038555016631205204, 0.011015719037487201, 0.9827951605080317, 0.009827951605080317, 0.9846996671156636, 0.9906336149931062, 0.9931646682985728, 0.9795437103673476, 0.9947079543223024, 0.9840641990733533, 0.36584114532007184, 0.3212263715005509, 0.20241018438119507, 0.11036286155355184, 0.9875311946533621, 0.9997295435615077, 0.2435962548393047, 0.49425327068844427, 0.17157649253898852, 0.09037774092588695, 0.36920751489105774, 0.2545713485972603, 0.0513886262696333, 0.32493423687414286, 0.9950660905163705, 0.9957954538161919, 0.46248067521171426, 0.2658705330927246, 0.13907933348758075, 0.1329352665463623, 0.9913122762346148, 0.9996435766630168, 0.9945812760826971, 0.05214679709474376, 0.9016839381139674, 0.04657772167685851, 0.9945014657876462, 0.2334344401812495, 0.5507593823026355, 0.14954393824111298, 0.06656528958293444, 0.9949179997252204, 0.9909590257280457, 0.6502436850810587, 0.3485842435486088, 0.0007886521347253592, 0.38996245276904085, 0.4717692478801781, 0.0015056465357878026, 0.13701383475669002, 0.9914147889259605, 0.9049561781852934, 0.09310248746762277, 0.9957797964553794, 0.005915353754994058, 0.9937794308390018, 0.03624749748772087, 0.960558683424603, 0.29452597360133065, 0.654596744796021, 0.05107386825456601, 0.005611998611516478, 0.08137397986698892, 0.9119497743714277, 0.9906321569285935, 0.0016153981650100819, 0.10726243815666943, 0.8910536278195611, 0.23339350785175483, 0.38065369732964777, 0.2261694230849148, 0.16004126252691758, 0.9983161576146669, 0.9962931191206164, 0.06936820871208081, 0.9299675480463333, 0.0002822152436072405, 0.9984775318824168, 0.0014110762180362024, 0.0005308572481214485, 0.3227612068578407, 0.6763121341067254, 0.995000665884205, 0.7763524400375352, 0.08146908321381542, 0.14217153737312888, 0.9984079448891827, 0.5537315601669788, 0.023775177791102966, 0.10200318213602241, 0.32134837078942396, 0.005684155660691333, 0.989043084960292, 0.991571800108317, 0.00810549155401894, 0.6258203296307248, 0.0009096225721376813, 0.37294525457644934, 0.4789053745519973, 0.1557096709608953, 0.0013084846299234898, 0.3637587271187302, 0.9970404751626306, 0.17827588520691287, 0.7673614189341031, 0.05425787810645174, 0.21253998968223559, 0.07313203946055417, 0.7130373847404032, 0.9968298007339416, 0.9049938840940668, 0.09292347917037293, 0.9855748387635868, 0.0017059788104080754, 0.27295660966529206, 0.7250409944234321, 0.9549102989861387, 0.044798260940090456, 0.15112953723563083, 0.13689269677140475, 0.7096517400629622, 0.002190283148342476, 0.22416990140087792, 0.713022336985925, 0.059418528082160416, 0.9873066598100351, 0.9830199412274132, 0.9905505890254585, 0.1871712930005177, 0.07918785473098827, 0.7318877482712552, 0.9245163472190441, 0.0724018826135396, 0.9832406809515591, 0.014249864941326944], \"Term\": [\"academic\", \"academic\", \"academic\", \"academic\", \"action\", \"action\", \"action\", \"action\", \"actively\", \"actively\", \"actively\", \"actors\", \"actors\", \"actors\", \"actors\", \"american\", \"american\", \"american\", \"appointed\", \"assembly\", \"associated\", \"associated\", \"associated\", \"association\", \"association\", \"attending\", \"authority\", \"authority\", \"baptist\", \"bartlett\", \"bills\", \"board\", \"board\", \"body\", \"branch\", \"budget\", \"candidates\", \"candidates\", \"carson\", \"categorizations\", \"children\", \"children\", \"christian\", \"christian\", \"cnn\", \"college\", \"college\", \"college\", \"commentary\", \"commentary\", \"commentator\", \"commentator\", \"commentator\", \"community\", \"community\", \"community\", \"community\", \"concept\", \"concerns\", \"concerns\", \"concerns\", \"conditions\", \"conservative\", \"conservative\", \"context\", \"context\", \"context\", \"context\", \"creating\", \"creating\", \"crt\", \"crt\", \"crt\", \"crt\", \"culture\", \"culture\", \"curriculum\", \"curriculum\", \"curriculum\", \"dakota\", \"date\", \"debating\", \"decisions\", \"decisions\", \"democratic\", \"democrats\", \"desantis\", \"desantis\", \"described\", \"described\", \"described\", \"described\", \"details\", \"discusses\", \"district\", \"district\", \"district\", \"district\", \"does\", \"donald\", \"education\", \"education\", \"education\", \"education\", \"educational\", \"educational\", \"educational\", \"educational\", \"elected\", \"ellyn\", \"employed\", \"enforcing\", \"engaged\", \"engaged\", \"engaged\", \"entity\", \"entity\", \"entity\", \"examines\", \"executive\", \"explicitly\", \"expressing\", \"expressing\", \"expressing\", \"faculty\", \"father\", \"federal\", \"federal\", \"figure\", \"figure\", \"figure\", \"figure\", \"florida\", \"florida\", \"florida\", \"focuses\", \"focuses\", \"focuses\", \"fox\", \"framework\", \"glen\", \"glenn\", \"glenn\", \"gop\", \"gov\", \"gov\", \"governing\", \"governing\", \"government\", \"government\", \"government\", \"governmental\", \"governor\", \"governor\", \"governor\", \"group\", \"group\", \"group\", \"group\", \"groups\", \"groups\", \"groups\", \"grove\", \"guardians\", \"highlighting\", \"host\", \"house\", \"house\", \"idaho\", \"implementing\", \"implementing\", \"implementing\", \"implementing\", \"implies\", \"implies\", \"implying\", \"including\", \"including\", \"including\", \"inclusion\", \"inclusion\", \"inclusion\", \"indicating\", \"indicating\", \"indicating\", \"indicating\", \"individual\", \"individual\", \"individual\", \"individual\", \"individuals\", \"individuals\", \"individuals\", \"individuals\", \"instead\", \"involved\", \"involved\", \"involved\", \"involved\", \"issues\", \"issues\", \"issues\", \"issues\", \"journalist\", \"journalist\", \"jurisdiction\", \"king\", \"known\", \"known\", \"law\", \"law\", \"law\", \"law\", \"lawmakers\", \"lawmakers\", \"laws\", \"laws\", \"left\", \"legislation\", \"legislation\", \"legislation\", \"legislative\", \"legislative\", \"legislature\", \"letter\", \"lieutenant\", \"likely\", \"likely\", \"likely\", \"likely\", \"lisle\", \"loudoun\", \"luther\", \"major\", \"major\", \"making\", \"making\", \"making\", \"making\", \"managing\", \"martin\", \"mask\", \"media\", \"media\", \"media\", \"meeting\", \"meeting\", \"member\", \"member\", \"member\", \"mentioned\", \"mentioned\", \"mentioned\", \"mentioned\", \"mentioning\", \"mentions\", \"mississippi\", \"mom\", \"mother\", \"naacp\", \"nea\", \"network\", \"news\", \"noem\", \"officer\", \"officials\", \"officials\", \"officials\", \"oklahoma\", \"operation\", \"opinion\", \"opinion\", \"opinion\", \"oppose\", \"oppose\", \"oppose\", \"opposing\", \"opposing\", \"opposing\", \"opposition\", \"opposition\", \"opposition\", \"organization\", \"organization\", \"organization\", \"organization\", \"oversee\", \"overseeing\", \"parent\", \"parents\", \"party\", \"passing\", \"performing\", \"performing\", \"person\", \"person\", \"person\", \"person\", \"personality\", \"pledge\", \"policies\", \"policies\", \"policies\", \"policy\", \"policy\", \"policy\", \"policy\", \"political\", \"political\", \"political\", \"political\", \"politics\", \"politics\", \"politics\", \"possible\", \"possibly\", \"possibly\", \"possibly\", \"power\", \"power\", \"power\", \"president\", \"president\", \"president\", \"private\", \"professional\", \"professional\", \"professional\", \"professionals\", \"professionals\", \"professors\", \"progressive\", \"prominent\", \"protesting\", \"provided\", \"pta\", \"public\", \"public\", \"public\", \"public\", \"publicly\", \"reference\", \"refers\", \"refers\", \"refers\", \"refers\", \"regarding\", \"regarding\", \"regarding\", \"regarding\", \"regulations\", \"relate\", \"related\", \"related\", \"related\", \"related\", \"rep\", \"republican\", \"republicans\", \"responsible\", \"responsible\", \"responsible\", \"right\", \"role\", \"role\", \"role\", \"role\", \"ron\", \"roselle\", \"school\", \"school\", \"school\", \"schools\", \"schools\", \"schools\", \"schools\", \"sector\", \"senate\", \"senate\", \"senator\", \"served\", \"served\", \"situation\", \"situation\", \"social\", \"social\", \"social\", \"society\", \"society\", \"society\", \"southern\", \"specific\", \"specific\", \"specific\", \"specifically\", \"specifically\", \"specifically\", \"specifically\", \"specify\", \"specifying\", \"standards\", \"standards\", \"state\", \"state\", \"state\", \"states\", \"states\", \"states\", \"student\", \"students\", \"students\", \"students\", \"subject\", \"suggests\", \"suggests\", \"suggests\", \"suggests\", \"superintendent\", \"superintendent\", \"teacher\", \"teacher\", \"teachers\", \"teachers\", \"teachers\", \"teaching\", \"teaching\", \"teaching\", \"teaching\", \"television\", \"texas\", \"texas\", \"texas\", \"topic\", \"topic\", \"topic\", \"trump\", \"union\", \"union\", \"unions\", \"united\", \"united\", \"united\", \"university\", \"university\", \"various\", \"various\", \"various\", \"various\", \"views\", \"views\", \"views\", \"voicing\", \"whistleblower\", \"wing\", \"work\", \"work\", \"work\", \"working\", \"working\", \"youngkin\", \"youngkin\"]}, \"R\": 30, \"lambda.step\": 0.01, \"plot.opts\": {\"xlab\": \"PC1\", \"ylab\": \"PC2\"}, \"topic.order\": [3, 2, 1, 4]};\n",
       "\n",
       "function LDAvis_load_lib(url, callback){\n",
       "  var s = document.createElement('script');\n",
       "  s.src = url;\n",
       "  s.async = true;\n",
       "  s.onreadystatechange = s.onload = callback;\n",
       "  s.onerror = function(){console.warn(\"failed to load library \" + url);};\n",
       "  document.getElementsByTagName(\"head\")[0].appendChild(s);\n",
       "}\n",
       "\n",
       "if(typeof(LDAvis) !== \"undefined\"){\n",
       "   // already loaded: just create the visualization\n",
       "   !function(LDAvis){\n",
       "       new LDAvis(\"#\" + \"ldavis_el7310863267517928334801739\", ldavis_el7310863267517928334801739_data);\n",
       "   }(LDAvis);\n",
       "}else if(typeof define === \"function\" && define.amd){\n",
       "   // require.js is available: use it to load d3/LDAvis\n",
       "   require.config({paths: {d3: \"https://d3js.org/d3.v5\"}});\n",
       "   require([\"d3\"], function(d3){\n",
       "      window.d3 = d3;\n",
       "      LDAvis_load_lib(\"https://cdn.jsdelivr.net/gh/bmabey/pyLDAvis@3.4.0/pyLDAvis/js/ldavis.v3.0.0.js\", function(){\n",
       "        new LDAvis(\"#\" + \"ldavis_el7310863267517928334801739\", ldavis_el7310863267517928334801739_data);\n",
       "      });\n",
       "    });\n",
       "}else{\n",
       "    // require.js not available: dynamically load d3 & LDAvis\n",
       "    LDAvis_load_lib(\"https://d3js.org/d3.v5.js\", function(){\n",
       "         LDAvis_load_lib(\"https://cdn.jsdelivr.net/gh/bmabey/pyLDAvis@3.4.0/pyLDAvis/js/ldavis.v3.0.0.js\", function(){\n",
       "                 new LDAvis(\"#\" + \"ldavis_el7310863267517928334801739\", ldavis_el7310863267517928334801739_data);\n",
       "            })\n",
       "         });\n",
       "}\n",
       "</script>"
      ],
      "text/plain": [
       "PreparedData(topic_coordinates=              x         y  topics  cluster       Freq\n",
       "topic                                                \n",
       "2      0.060597 -0.017605       1        1  28.783329\n",
       "1     -0.167072 -0.213349       2        1  28.133639\n",
       "0     -0.157162  0.226868       3        1  21.708186\n",
       "3      0.263637  0.004086       4        1  21.374846, topic_info=             Term         Freq        Total Category  logprob  loglift\n",
       "1944        state  3543.000000  3543.000000  Default  30.0000  30.0000\n",
       "651          does  2706.000000  2706.000000  Default  29.0000  29.0000\n",
       "1919     specific  3095.000000  3095.000000  Default  28.0000  28.0000\n",
       "1701    reference  2140.000000  2140.000000  Default  27.0000  27.0000\n",
       "1534    political  3834.000000  3834.000000  Default  26.0000  26.0000\n",
       "...           ...          ...          ...      ...      ...      ...\n",
       "8        academic   355.405153   735.792276   Topic4  -5.0312   0.8153\n",
       "1984     suggests   419.151003  1303.880891   Topic4  -4.8662   0.4081\n",
       "1712    regarding   410.949064  1264.871329   Topic4  -4.8860   0.4187\n",
       "1212       likely   433.231199  2440.866586   Topic4  -4.8332  -0.1859\n",
       "676   educational   363.098906  3251.351769   Topic4  -5.0098  -0.6492\n",
       "\n",
       "[288 rows x 6 columns], token_table=      Topic      Freq      Term\n",
       "term                           \n",
       "8         1  0.436264  academic\n",
       "8         2  0.001359  academic\n",
       "8         3  0.080186  academic\n",
       "8         4  0.482473  academic\n",
       "26        1  0.221438    action\n",
       "...     ...       ...       ...\n",
       "2164      3  0.731888      work\n",
       "2168      1  0.924516   working\n",
       "2168      2  0.072402   working\n",
       "2185      1  0.983241  youngkin\n",
       "2185      2  0.014250  youngkin\n",
       "\n",
       "[461 rows x 3 columns], R=30, lambda_step=0.01, plot_opts={'xlab': 'PC1', 'ylab': 'PC2'}, topic_order=[3, 2, 1, 4])"
      ]
     },
     "execution_count": 16,
     "metadata": {},
     "output_type": "execute_result"
    }
   ],
   "source": [
    "# the TF representation model\n",
    "\n",
    "pyLDAvis.lda_model.prepare(lda_tf, dtm_tf, tf_vectorizer)"
   ]
  },
  {
   "cell_type": "code",
   "execution_count": 17,
   "id": "103736b9",
   "metadata": {},
   "outputs": [
    {
     "data": {
      "text/html": [
       "\n",
       "<link rel=\"stylesheet\" type=\"text/css\" href=\"https://cdn.jsdelivr.net/gh/bmabey/pyLDAvis@3.4.0/pyLDAvis/js/ldavis.v1.0.0.css\">\n",
       "\n",
       "\n",
       "<div id=\"ldavis_el7310863267566082892679054\" style=\"background-color:white;\"></div>\n",
       "<script type=\"text/javascript\">\n",
       "\n",
       "var ldavis_el7310863267566082892679054_data = {\"mdsDat\": {\"x\": [0.026436329240941105, -0.20967860033053784, 0.18324227108959673], \"y\": [-0.17529394124516395, 0.06995589584733446, 0.10533804539782947], \"topics\": [1, 2, 3], \"cluster\": [1, 1, 1], \"Freq\": [37.01835610093277, 36.71967008206868, 26.261973816998534]}, \"tinfo\": {\"Term\": [\"does\", \"reference\", \"specific\", \"political\", \"states\", \"party\", \"united\", \"state\", \"responsible\", \"republican\", \"known\", \"conservative\", \"explicitly\", \"discusses\", \"body\", \"figure\", \"president\", \"house\", \"gop\", \"parents\", \"governor\", \"subject\", \"member\", \"mentions\", \"desantis\", \"focuses\", \"specify\", \"framework\", \"legislative\", \"individual\", \"parents\", \"expressing\", \"parent\", \"children\", \"youngkin\", \"provide\", \"possibly\", \"description\", \"details\", \"educator\", \"concerned\", \"fox\", \"university\", \"concern\", \"writer\", \"student\", \"speaking\", \"expert\", \"glenn\", \"criticism\", \"king\", \"field\", \"appears\", \"rufo\", \"mother\", \"engaged\", \"father\", \"scholar\", \"express\", \"attending\", \"college\", \"activist\", \"teacher\", \"opinions\", \"opposition\", \"opposing\", \"actively\", \"rights\", \"given\", \"described\", \"civil\", \"likely\", \"crt\", \"commentator\", \"suggests\", \"engaging\", \"characterized\", \"individuals\", \"suggesting\", \"groups\", \"public\", \"concerns\", \"organization\", \"school\", \"context\", \"educational\", \"individual\", \"social\", \"related\", \"news\", \"academic\", \"involved\", \"teaching\", \"board\", \"political\", \"group\", \"issues\", \"schools\", \"education\", \"reference\", \"does\", \"mentions\", \"specify\", \"discusses\", \"overseeing\", \"employed\", \"governmental\", \"body\", \"responsible\", \"specifying\", \"mentioning\", \"governing\", \"pledge\", \"standards\", \"jurisdiction\", \"regulations\", \"idaho\", \"mississippi\", \"superintendent\", \"lisle\", \"signing\", \"bartlett\", \"roselle\", \"administrative\", \"ellyn\", \"oklahoma\", \"glen\", \"appointed\", \"date\", \"focuses\", \"specific\", \"decisions\", \"highlighting\", \"explicitly\", \"decision\", \"subject\", \"state\", \"implementing\", \"lawmakers\", \"entity\", \"district\", \"laws\", \"area\", \"general\", \"action\", \"legislative\", \"making\", \"group\", \"schools\", \"government\", \"individual\", \"educational\", \"school\", \"concept\", \"teaching\", \"curriculum\", \"texas\", \"policies\", \"education\", \"context\", \"party\", \"republican\", \"gop\", \"desantis\", \"trump\", \"senator\", \"president\", \"ron\", \"democratic\", \"examines\", \"relate\", \"categorizations\", \"republicans\", \"biden\", \"culture\", \"donald\", \"rep\", \"house\", \"noem\", \"joe\", \"power\", \"served\", \"cruz\", \"democrats\", \"parties\", \"progressive\", \"ted\", \"left\", \"msnbc\", \"baptist\", \"major\", \"representative\", \"united\", \"states\", \"society\", \"framework\", \"member\", \"conservative\", \"known\", \"political\", \"right\", \"figure\", \"federal\", \"representatives\", \"various\", \"governor\", \"issues\", \"including\", \"specifically\", \"policies\", \"social\", \"policy\", \"education\", \"florida\"], \"Freq\": [524.0, 454.0, 484.0, 381.0, 212.0, 170.0, 198.0, 359.0, 207.0, 135.0, 192.0, 160.0, 199.0, 156.0, 144.0, 224.0, 98.0, 98.0, 88.0, 117.0, 182.0, 160.0, 102.0, 108.0, 75.0, 116.0, 101.0, 82.0, 192.0, 326.0, 117.03671277504101, 82.3660221607736, 42.361665818355235, 63.895635546881586, 47.85295793735024, 42.09055927039607, 72.92731973187824, 42.22952963204484, 35.23209322898835, 37.17823431661491, 34.47403741909334, 32.72190232463462, 68.82549164057012, 36.350909255376386, 31.495382185647617, 28.096675567702007, 27.089084987964064, 23.991110008744293, 26.346962545850822, 30.21497561156163, 23.141660154644804, 23.51234041364624, 40.189628914550866, 22.401954914081585, 20.822209750449822, 58.48260724060241, 20.22766397406799, 20.240613304302155, 20.223029251270777, 19.142983817655637, 29.274719208218848, 49.91482086124684, 65.52463113794373, 41.197658998825396, 66.29668897924425, 61.021485730629, 89.66690112589345, 57.35511623562619, 61.859511309302654, 120.22474215959451, 40.13091932909757, 178.48991757855077, 193.88629425792382, 78.71900102798445, 119.51241315486982, 71.68124255169135, 58.08600742819387, 142.9366866005769, 55.5301808002416, 80.79077478016265, 126.2047367300996, 51.08957059381961, 71.22788221197415, 133.44456836419923, 122.13239577626145, 126.0137864059048, 125.92178833965859, 83.37777843324419, 90.37940932675684, 63.39568681215615, 69.90342300950785, 87.8782458023262, 79.92255399363502, 73.60183877878157, 88.928992514521, 83.96417118766135, 74.63301702481608, 71.73176738236636, 70.4230975525166, 453.46837489918914, 523.7767678889845, 107.88491847286656, 100.37815612443308, 155.48945975226113, 75.31574506662369, 74.82992664344839, 83.22064300933773, 143.0885129080292, 205.0613414430045, 47.09992446008592, 45.928496477013304, 43.27833683947322, 50.815524617247306, 72.7686914308361, 38.39341392179874, 35.85819848498186, 35.44529805832464, 34.68201732243329, 33.10662485481031, 31.214927613605553, 32.029968812375536, 30.22978713446994, 30.006385311136157, 35.93242036627175, 28.27503557816144, 40.05260488722243, 29.484665100149478, 32.21969133317617, 26.27284425602562, 112.88529704842342, 463.02833097022716, 109.60424623715198, 51.35301250779175, 187.9558571524916, 72.11482667103445, 146.29501567005022, 311.9024590721408, 51.028403515880655, 58.93298389750499, 108.8579413660829, 116.64933536247666, 112.71056696160176, 77.55243557023711, 67.31859129480935, 142.95565889029618, 143.39048216049244, 132.05878544886525, 207.18122205790723, 158.9019766507052, 116.70934960603665, 197.27643116456187, 178.50606185580602, 153.01873373326842, 90.06413087902222, 118.48006793679117, 98.26002953124754, 91.5756605898985, 113.12794730424972, 107.28330987432487, 105.77104366021364, 169.99893178709877, 134.94142036117015, 88.19600868105998, 74.69248466223537, 64.22722431563598, 57.34794991445371, 96.97784229363039, 55.987007519340274, 50.3903753268951, 49.82190452158797, 49.64177933899495, 48.35528494712258, 44.53087822272003, 65.0416643318218, 61.37300444618466, 37.783944124972, 32.09232878825194, 96.16702561870173, 35.4459974485704, 30.13938038235215, 62.49795784601835, 32.99238262458071, 26.735388473844193, 27.24006576163482, 29.322261174009892, 25.004260762505947, 22.81193009491405, 32.445641068481905, 22.690021794917882, 21.71982937599352, 57.602588040282185, 30.868433004488075, 186.16237196998202, 197.55162874598227, 64.51164895173709, 78.09128679786657, 93.42079484603312, 141.3016667800276, 155.76793971608095, 279.73838556506394, 39.03658822428128, 153.79217827483174, 58.25043031445622, 60.7513195172762, 93.6570274108246, 116.47858898492952, 100.57161055221279, 82.71122732139621, 90.78899678615288, 86.67557804275577, 67.81340861881773, 64.0457969452115, 64.43335552386941, 59.71850051839619], \"Total\": [524.0, 454.0, 484.0, 381.0, 212.0, 170.0, 198.0, 359.0, 207.0, 135.0, 192.0, 160.0, 199.0, 156.0, 144.0, 224.0, 98.0, 98.0, 88.0, 117.0, 182.0, 160.0, 102.0, 108.0, 75.0, 116.0, 101.0, 82.0, 192.0, 326.0, 117.73571480572043, 83.11422170344665, 43.015232172424604, 64.88686702030638, 48.59568968495539, 42.75882387520822, 74.08719481876423, 42.914567249584216, 35.88937474706873, 37.91666019983009, 35.166322201979256, 33.42177859547548, 70.4581637119227, 37.23228268651608, 32.271416506200936, 28.82265444968649, 27.82257180559223, 24.644214209230213, 27.08513907672576, 31.077516443366232, 23.80474902422609, 24.18967446017131, 41.36424302707162, 23.057377920567635, 21.471948429758328, 60.33684490339891, 20.876598838092363, 20.916846760047804, 20.91075364297405, 19.794278128172888, 30.378288952866235, 52.22949268292862, 70.41359763647534, 43.7120704606942, 72.8115563897367, 67.89049217703587, 103.51531802502058, 63.90597274567825, 69.51084385127126, 153.29019701551087, 43.70557616944621, 245.89895397574486, 281.8863982185441, 97.40892609600981, 161.56788357808136, 88.14416329471533, 68.31289137547867, 237.9905751751321, 67.0604367823727, 113.50302756872364, 230.6986212593188, 60.54066312264744, 103.01973989911333, 286.8716636986962, 286.4082386063704, 314.0521121419847, 326.23831129844933, 151.53978292172536, 204.60873121160876, 90.75045322465975, 114.32661979048014, 234.79954586185937, 201.8799460359475, 154.8561208801713, 381.368315054542, 329.04414503976113, 180.20925535935666, 236.21194494123597, 242.13976295071086, 454.14582852421364, 524.9381400453682, 108.56324018111701, 101.06615404091706, 156.84971349054786, 75.99858471405483, 75.51362719868632, 84.23989575642196, 144.84701354061545, 207.9584497167423, 47.7661589502144, 46.60646519071935, 43.9524149009275, 51.609668664511936, 73.93560687796665, 39.07050823031027, 36.53566552221295, 36.12695682002337, 35.36994993679007, 33.79034059851795, 31.87002569787169, 32.707755931461264, 30.88500600760675, 30.661297938788614, 36.74677406096187, 28.93028080378654, 40.98545739796933, 30.173907505448604, 33.028632677839326, 26.943026113268036, 116.54431024234543, 484.962597669926, 114.27093699925281, 52.8777950530194, 199.33386424507654, 75.989944944668, 160.23600053465597, 359.80463682468877, 53.79457900671312, 62.92077815731121, 123.40644670032378, 133.6422147693892, 129.2809936719317, 86.6655345025764, 74.27258729281105, 186.90861290244112, 192.36152635885225, 173.79218720086834, 329.04414503976113, 236.21194494123597, 158.2115095222684, 326.23831129844933, 314.0521121419847, 286.8716636986962, 115.12689692511114, 201.8799460359475, 145.0662168653995, 127.23433546422939, 232.03487135409546, 242.13976295071086, 286.4082386063704, 170.63843360513354, 135.58830570484358, 88.84932402563796, 75.32758551401108, 64.87104796043187, 57.98177871918147, 98.05286069310719, 56.621642456784464, 51.037917089177355, 50.471580021996154, 50.2918973328937, 49.00014921492232, 45.17835999752114, 66.01392541467693, 62.33593170371191, 38.42221044741776, 32.731762715534074, 98.12107161394468, 36.172265818959104, 30.787616354187, 63.95651648818537, 33.763766196012746, 27.365574525646142, 27.907976455450473, 30.076284441667124, 25.6576256393588, 23.445532799738963, 33.351760587647924, 23.33452347671642, 22.357094000358895, 59.7420366001987, 31.821402772080503, 198.917130773913, 212.92191557599284, 67.62412082834071, 82.88727900961669, 102.15710151484909, 160.72039644430154, 192.8429975908624, 381.368315054542, 41.3069682114985, 224.306333248446, 68.36035145806088, 72.28336978117261, 128.23063764188564, 182.54139892862202, 180.20925535935666, 139.8711100933861, 221.49386492772612, 232.03487135409546, 151.53978292172536, 151.68275094036994, 242.13976295071086, 145.71355041605244], \"Category\": [\"Default\", \"Default\", \"Default\", \"Default\", \"Default\", \"Default\", \"Default\", \"Default\", \"Default\", \"Default\", \"Default\", \"Default\", \"Default\", \"Default\", \"Default\", \"Default\", \"Default\", \"Default\", \"Default\", \"Default\", \"Default\", \"Default\", \"Default\", \"Default\", \"Default\", \"Default\", \"Default\", \"Default\", \"Default\", \"Default\", \"Topic1\", \"Topic1\", \"Topic1\", \"Topic1\", \"Topic1\", \"Topic1\", \"Topic1\", \"Topic1\", \"Topic1\", \"Topic1\", \"Topic1\", \"Topic1\", \"Topic1\", \"Topic1\", \"Topic1\", \"Topic1\", \"Topic1\", \"Topic1\", \"Topic1\", \"Topic1\", \"Topic1\", \"Topic1\", \"Topic1\", \"Topic1\", \"Topic1\", \"Topic1\", \"Topic1\", \"Topic1\", \"Topic1\", \"Topic1\", \"Topic1\", \"Topic1\", \"Topic1\", \"Topic1\", \"Topic1\", \"Topic1\", \"Topic1\", \"Topic1\", \"Topic1\", \"Topic1\", \"Topic1\", \"Topic1\", \"Topic1\", \"Topic1\", \"Topic1\", \"Topic1\", \"Topic1\", \"Topic1\", \"Topic1\", \"Topic1\", \"Topic1\", \"Topic1\", \"Topic1\", \"Topic1\", \"Topic1\", \"Topic1\", \"Topic1\", \"Topic1\", \"Topic1\", \"Topic1\", \"Topic1\", \"Topic1\", \"Topic1\", \"Topic1\", \"Topic1\", \"Topic1\", \"Topic1\", \"Topic1\", \"Topic1\", \"Topic2\", \"Topic2\", \"Topic2\", \"Topic2\", \"Topic2\", \"Topic2\", \"Topic2\", \"Topic2\", \"Topic2\", \"Topic2\", \"Topic2\", \"Topic2\", \"Topic2\", \"Topic2\", \"Topic2\", \"Topic2\", \"Topic2\", \"Topic2\", \"Topic2\", \"Topic2\", \"Topic2\", \"Topic2\", \"Topic2\", \"Topic2\", \"Topic2\", \"Topic2\", \"Topic2\", \"Topic2\", \"Topic2\", \"Topic2\", \"Topic2\", \"Topic2\", \"Topic2\", \"Topic2\", \"Topic2\", \"Topic2\", \"Topic2\", \"Topic2\", \"Topic2\", \"Topic2\", \"Topic2\", \"Topic2\", \"Topic2\", \"Topic2\", \"Topic2\", \"Topic2\", \"Topic2\", \"Topic2\", \"Topic2\", \"Topic2\", \"Topic2\", \"Topic2\", \"Topic2\", \"Topic2\", \"Topic2\", \"Topic2\", \"Topic2\", \"Topic2\", \"Topic2\", \"Topic2\", \"Topic2\", \"Topic3\", \"Topic3\", \"Topic3\", \"Topic3\", \"Topic3\", \"Topic3\", \"Topic3\", \"Topic3\", \"Topic3\", \"Topic3\", \"Topic3\", \"Topic3\", \"Topic3\", \"Topic3\", \"Topic3\", \"Topic3\", \"Topic3\", \"Topic3\", \"Topic3\", \"Topic3\", \"Topic3\", \"Topic3\", \"Topic3\", \"Topic3\", \"Topic3\", \"Topic3\", \"Topic3\", \"Topic3\", \"Topic3\", \"Topic3\", \"Topic3\", \"Topic3\", \"Topic3\", \"Topic3\", \"Topic3\", \"Topic3\", \"Topic3\", \"Topic3\", \"Topic3\", \"Topic3\", \"Topic3\", \"Topic3\", \"Topic3\", \"Topic3\", \"Topic3\", \"Topic3\", \"Topic3\", \"Topic3\", \"Topic3\", \"Topic3\", \"Topic3\", \"Topic3\", \"Topic3\", \"Topic3\"], \"logprob\": [30.0, 29.0, 28.0, 27.0, 26.0, 25.0, 24.0, 23.0, 22.0, 21.0, 20.0, 19.0, 18.0, 17.0, 16.0, 15.0, 14.0, 13.0, 12.0, 11.0, 10.0, 9.0, 8.0, 7.0, 6.0, 5.0, 4.0, 3.0, 2.0, 1.0, -4.9901, -5.3414, -6.0063, -5.5953, -5.8844, -6.0127, -5.4631, -6.0094, -6.1906, -6.1368, -6.2124, -6.2645, -5.521, -6.1593, -6.3027, -6.4169, -6.4534, -6.5749, -6.4812, -6.3442, -6.6109, -6.595, -6.059, -6.6434, -6.7165, -5.6838, -6.7455, -6.7449, -6.7457, -6.8006, -6.3758, -5.8422, -5.5701, -6.0342, -5.5584, -5.6413, -5.2565, -5.7033, -5.6277, -4.9632, -6.0604, -4.568, -4.4853, -5.3867, -4.9691, -5.4803, -5.6906, -4.7902, -5.7356, -5.3607, -4.9147, -5.819, -5.4867, -4.8589, -4.9475, -4.9162, -4.9169, -5.3292, -5.2485, -5.6032, -5.5054, -5.2766, -5.3715, -5.4539, -5.2647, -5.3222, -5.44, -5.4796, -5.498, -3.6275, -3.4834, -5.0634, -5.1355, -4.6979, -5.4228, -5.4292, -5.323, -4.781, -4.4211, -5.8922, -5.9174, -5.9768, -5.8163, -5.4572, -6.0966, -6.1649, -6.1765, -6.1982, -6.2447, -6.3036, -6.2778, -6.3356, -6.343, -6.1628, -6.4025, -6.0543, -6.3606, -6.2719, -6.4759, -5.0181, -3.6067, -5.0476, -5.8057, -4.5083, -5.4662, -4.7588, -4.0018, -5.8121, -5.6681, -5.0544, -4.9853, -5.0196, -5.3935, -5.535, -4.7819, -4.7789, -4.8612, -4.4109, -4.6762, -4.9848, -4.4599, -4.5598, -4.7139, -5.2439, -4.9697, -5.1568, -5.2273, -5.0159, -5.069, -5.0832, -4.2735, -4.5044, -4.9297, -5.0959, -5.2468, -5.3601, -4.8348, -5.3841, -5.4895, -5.5008, -5.5044, -5.5307, -5.6131, -5.2342, -5.2923, -5.7774, -5.9407, -4.8432, -5.8413, -6.0034, -5.2741, -5.913, -6.1233, -6.1046, -6.0309, -6.1902, -6.282, -5.9297, -6.2873, -6.331, -5.3557, -5.9795, -4.1826, -4.1233, -5.2424, -5.0514, -4.8722, -4.4584, -4.3609, -3.7754, -5.7448, -4.3737, -5.3445, -5.3025, -4.8696, -4.6516, -4.7984, -4.9939, -4.9007, -4.9471, -5.1925, -5.2497, -5.2436, -5.3196], \"loglift\": [30.0, 29.0, 28.0, 27.0, 26.0, 25.0, 24.0, 23.0, 22.0, 21.0, 20.0, 19.0, 18.0, 17.0, 16.0, 15.0, 14.0, 13.0, 12.0, 11.0, 10.0, 9.0, 8.0, 7.0, 6.0, 5.0, 4.0, 3.0, 2.0, 1.0, 0.9878, 0.9847, 0.9784, 0.9784, 0.9784, 0.978, 0.978, 0.9777, 0.9753, 0.9741, 0.9739, 0.9726, 0.9703, 0.9698, 0.9694, 0.9682, 0.967, 0.9669, 0.9661, 0.9656, 0.9655, 0.9654, 0.9649, 0.9649, 0.963, 0.9625, 0.9622, 0.9609, 0.9603, 0.9603, 0.9568, 0.9484, 0.9218, 0.9345, 0.9, 0.8871, 0.8501, 0.8856, 0.8771, 0.7508, 0.9084, 0.6734, 0.6195, 0.7807, 0.6923, 0.787, 0.8316, 0.4839, 0.8051, 0.6538, 0.3905, 0.824, 0.6247, 0.2284, 0.1414, 0.0806, 0.0418, 0.3963, 0.1767, 0.635, 0.5018, 0.011, 0.0671, 0.2499, -0.4622, -0.372, 0.1122, -0.198, -0.2412, 1.0004, 0.9996, 0.9956, 0.995, 0.9931, 0.9928, 0.9928, 0.9897, 0.9896, 0.9878, 0.9878, 0.9872, 0.9864, 0.9864, 0.9859, 0.9844, 0.9831, 0.9828, 0.9822, 0.9814, 0.9811, 0.9809, 0.9804, 0.9803, 0.9794, 0.9789, 0.9788, 0.9788, 0.9771, 0.9767, 0.97, 0.9556, 0.9602, 0.9726, 0.9431, 0.9495, 0.9108, 0.859, 0.9491, 0.9364, 0.8764, 0.8659, 0.8647, 0.8908, 0.9036, 0.7338, 0.7081, 0.7272, 0.5393, 0.6054, 0.6976, 0.4988, 0.4369, 0.3734, 0.7563, 0.4689, 0.6123, 0.673, 0.2835, 0.1878, 0.0057, 1.3333, 1.3323, 1.3297, 1.3286, 1.3271, 1.3261, 1.326, 1.3258, 1.3243, 1.3241, 1.324, 1.3238, 1.3226, 1.3222, 1.3215, 1.3203, 1.3173, 1.3169, 1.3168, 1.3158, 1.314, 1.3139, 1.3138, 1.3128, 1.3117, 1.3113, 1.3097, 1.3095, 1.309, 1.3081, 1.3006, 1.3066, 1.2708, 1.2621, 1.2899, 1.2774, 1.2477, 1.2083, 1.1235, 1.0271, 1.2805, 0.9596, 1.177, 1.1632, 1.0229, 0.8878, 0.7538, 0.8117, 0.4452, 0.3523, 0.533, 0.4749, 0.0132, 0.445]}, \"token.table\": {\"Topic\": [1, 2, 3, 1, 2, 3, 1, 3, 1, 3, 2, 1, 3, 2, 1, 2, 1, 3, 2, 2, 3, 1, 2, 2, 3, 3, 1, 2, 3, 1, 2, 1, 3, 1, 3, 1, 3, 1, 2, 3, 1, 2, 1, 1, 2, 1, 3, 1, 2, 3, 1, 3, 1, 2, 3, 3, 1, 3, 1, 2, 2, 1, 2, 3, 1, 2, 3, 3, 3, 3, 1, 2, 3, 1, 1, 2, 3, 1, 2, 3, 1, 2, 3, 1, 2, 3, 1, 2, 3, 1, 2, 2, 1, 2, 1, 2, 3, 1, 2, 3, 3, 1, 1, 2, 1, 1, 1, 2, 3, 1, 1, 2, 3, 1, 2, 3, 1, 2, 3, 1, 1, 2, 3, 1, 2, 1, 2, 3, 2, 1, 3, 2, 1, 2, 3, 1, 2, 1, 2, 3, 1, 2, 3, 1, 2, 3, 1, 2, 2, 3, 2, 2, 3, 1, 2, 3, 1, 2, 3, 1, 2, 3, 1, 2, 3, 1, 2, 3, 3, 2, 1, 1, 3, 2, 3, 1, 2, 3, 1, 3, 2, 3, 1, 2, 3, 2, 1, 3, 1, 2, 3, 1, 2, 3, 2, 2, 2, 1, 3, 1, 3, 3, 1, 2, 1, 2, 3, 1, 2, 3, 1, 3, 1, 2, 3, 2, 1, 1, 3, 3, 2, 1, 2, 3, 1, 2, 3, 1, 2, 3, 1, 2, 2, 3, 2, 3, 3, 1, 1, 2, 3, 2, 2, 3, 1, 2, 3, 3, 1, 3, 2, 3, 3, 3, 1, 2, 3, 1, 3, 1, 3, 3, 2, 1, 1, 1, 2, 1, 2, 3, 3, 3, 2, 1, 3, 1, 3, 1, 1, 2, 1, 2, 3, 2, 2, 2, 3, 1, 2, 3, 1, 2, 3, 1, 1, 2, 1, 2, 3, 1, 2, 3, 2, 1, 2, 1, 2, 3, 3, 1, 2, 3, 3, 1, 2, 3, 1, 3, 1, 2, 3, 1, 1], \"Freq\": [0.6122808504990789, 0.008746869292843984, 0.3761153795922913, 0.18725728823566098, 0.7650797776485577, 0.0481518741177414, 0.8694365405731178, 0.13524568408915166, 0.9573135298008104, 0.03829254119203242, 0.9796778334957242, 0.9670187841663447, 0.024175469604158617, 0.9688563348088736, 0.10384751045102533, 0.9000117572422196, 0.9598733470839533, 0.9840277094888467, 0.9713451243173215, 0.015148318990551487, 0.9846407343858466, 0.4778629322457438, 0.5230661825933142, 0.9872485217646718, 0.0069038358165361665, 0.9795888536882713, 0.8490344769804232, 0.014638525465179712, 0.1463852546517971, 0.9863321029195502, 0.015411439108117972, 0.9152150253075324, 0.06864112689806494, 0.9546291446827458, 0.03291824636837055, 0.8110139713698794, 0.1847879934766814, 0.008686067519482346, 0.7817460767534112, 0.20846562046757633, 0.9669028435110598, 0.026858412319751664, 0.9668341148875212, 0.8424090085812356, 0.1486604132790416, 0.11821772730995313, 0.8772999763528101, 0.42596540027492924, 0.37010108548477455, 0.20599966078869528, 0.9653281031857924, 0.032177603439526414, 0.6882205073605342, 0.19866158975355624, 0.11352090843060357, 0.986641079824451, 0.016042112031838824, 0.9785688339421683, 0.3170965714414498, 0.6755535652448278, 0.9649992502956584, 0.013159635800870088, 0.9474937776626464, 0.039478907402610265, 0.01750226306460651, 0.962624468553358, 0.026253394596909767, 0.9796638039251518, 0.9674653425016365, 0.9956511879177364, 0.7828289240691474, 0.08480646677415764, 0.1304714873448579, 0.9786886526371048, 0.9752189957797643, 0.9882070967846599, 0.006375529656675225, 0.10475731806868188, 0.8754718724311271, 0.022447996729003262, 0.0019049863664194304, 0.9982128560037815, 0.9890112921015939, 0.2890892398133262, 0.4418935522860843, 0.26431016211504105, 0.40120730008984845, 0.5699691009212926, 0.03184184921348004, 0.975824342254854, 0.9678440451340251, 0.9931982184177843, 0.9612700182261722, 0.01657362100389952, 0.8168436491848434, 0.011345050683122826, 0.18152081092996522, 0.10534295693294515, 0.8832601773608478, 0.00810330437945732, 0.9906565234971714, 0.9738594136635556, 0.05518379950972979, 0.9431413007117455, 0.9564456806041488, 0.986594090871449, 0.9580104573119984, 0.14628362474313794, 0.8484450235102001, 0.9921588667725308, 0.25857495488439053, 0.05349826652780494, 0.6865610871068301, 0.020588339186260792, 0.5696107174865486, 0.41176678372521586, 0.025741282382312082, 0.9695883030670884, 0.008580427460770694, 0.987380127174543, 0.03619373245021031, 0.024129154966806877, 0.9410370437054683, 0.09424742364774924, 0.9020824834855998, 0.891947163418965, 0.028772489142547257, 0.08631746742764176, 0.9610952772611029, 0.9599359976091754, 0.9904408498888199, 0.9783307719706795, 0.006320652669452277, 0.7395163623259164, 0.2528261067780911, 0.011870859893885444, 0.9852813711924918, 0.00547820935891383, 0.3560836083293989, 0.6354722856340043, 0.2552848949488209, 0.6290949196953086, 0.11548602390541897, 0.7136373516640888, 0.1850170911721712, 0.10572405209838354, 0.01891152985856014, 0.9644880227865671, 0.02038298162772782, 0.9783831181309353, 0.968805653195822, 0.9480509178003906, 0.0371784673647212, 0.07149439218237003, 0.33602364325713907, 0.5934034551136712, 0.38622073385100586, 0.6038530521321283, 0.009195731758357282, 0.6008641304168008, 0.36135884766325077, 0.042018470658517534, 0.3747877777062372, 0.3747877777062372, 0.2512781691439545, 0.41618284172165254, 0.027745522781443502, 0.5604595601851587, 0.9744177546866213, 0.9726006064727926, 0.9661937614462098, 0.19186592441639785, 0.8089482218637315, 0.9376870682128455, 0.06357200462459969, 0.007735089061410199, 0.8740650639393525, 0.12376142498256318, 0.02998342463427126, 0.9594695882966803, 0.7433918970534271, 0.25472869199732817, 0.7238745717379411, 0.22366910924486944, 0.05286724400333278, 0.9727008159290631, 0.03347726515224538, 0.970840689415116, 0.12658796896647884, 0.7595278137988729, 0.10932597319832262, 0.04894422341527792, 0.039155378732222336, 0.9103625555241692, 0.9869875308449672, 0.9948118702041561, 0.9895405580881168, 0.9780202327095642, 0.9856640107928404, 0.6942114089947148, 0.2975191752834492, 0.9675921374451285, 0.024398898133305844, 0.9759559253322337, 0.937956028343867, 0.04575395260213985, 0.022876976301069926, 0.8985057854777698, 0.014729603040619177, 0.08837761824371507, 0.9064495153313763, 0.08240450139376149, 0.6891883057512076, 0.11648253054949988, 0.19413755091583312, 0.986860482760146, 0.9763983100601412, 0.9937511331465183, 0.9642148469584209, 0.9962585591554894, 0.9881869293043697, 0.1379103055211326, 0.48699576637149944, 0.3749436431355792, 0.15163227102231183, 0.42193327588817203, 0.42193327588817203, 0.23337020011028323, 0.03408778203858069, 0.7341983823694304, 0.9853254692470975, 0.01349760916776846, 0.015635623309545463, 0.9694086451918188, 0.01019858057104393, 0.9892623153912612, 0.9743691934475027, 0.9822533969263783, 0.5461671132328467, 0.33376879142007304, 0.11703580997846716, 0.9974769590465311, 0.9853385585138096, 0.994195937151435, 0.43986392695491056, 0.3567785185300941, 0.20038245561279258, 0.9776436508508969, 0.03142539023695653, 0.9741870973456523, 0.1521788487905434, 0.8439008887475588, 0.9956610881610672, 0.9960520922510041, 0.00961730577778482, 0.9857738422229442, 0.00480865288889241, 0.04841798095080883, 0.944150628540772, 0.8919354099629869, 0.09388793789084074, 0.9890211157816744, 0.9784321609571516, 0.9541414498990176, 0.9561670661660616, 0.46362194956867914, 0.5333395359699843, 0.3048110036006516, 0.6731242996181057, 0.02540091696672097, 0.9830674611771322, 0.9773791172590532, 0.9783612201049696, 0.5477109601171323, 0.4487270516622288, 0.0443628687996595, 0.9611954906592891, 0.9704350909276153, 0.04536432315750169, 0.9547128009965128, 0.1986511004011659, 0.38827260532955155, 0.4108465940115022, 0.9894509289382337, 0.9839602143640449, 0.98734565228482, 0.013525282908011232, 0.0027792860281765632, 0.8671372407910877, 0.13062644332429846, 0.03757245926685627, 0.03757245926685627, 0.9299183668546926, 0.9714580608416017, 0.0811303324884744, 0.9111560417936355, 0.8350676298416234, 0.059647687845830244, 0.10438345373020293, 0.742721866143696, 0.12378697769061599, 0.1361656754596776, 0.9766104577663649, 0.9373189584877988, 0.07100901200665143, 0.39627512078765315, 0.5845058031617884, 0.014860317029536992, 0.9809971134567723, 0.10217367782499885, 0.723075258453838, 0.17290930093461346, 0.9865726238774012, 0.05027219104304239, 0.015081657312912717, 0.9350627534005884, 0.9793045456324325, 0.014192819501919312, 0.21835655280913924, 0.046790689887672696, 0.7330541415735389, 0.9606023954369455, 0.9877419234335961], \"Term\": [\"academic\", \"academic\", \"academic\", \"action\", \"action\", \"action\", \"actively\", \"actively\", \"activist\", \"activist\", \"administrative\", \"appears\", \"appears\", \"appointed\", \"area\", \"area\", \"attending\", \"baptist\", \"bartlett\", \"biden\", \"biden\", \"board\", \"board\", \"body\", \"body\", \"categorizations\", \"characterized\", \"characterized\", \"characterized\", \"children\", \"children\", \"civil\", \"civil\", \"college\", \"college\", \"commentator\", \"commentator\", \"concept\", \"concept\", \"concept\", \"concern\", \"concern\", \"concerned\", \"concerns\", \"concerns\", \"conservative\", \"conservative\", \"context\", \"context\", \"context\", \"criticism\", \"criticism\", \"crt\", \"crt\", \"crt\", \"cruz\", \"culture\", \"culture\", \"curriculum\", \"curriculum\", \"date\", \"decision\", \"decision\", \"decision\", \"decisions\", \"decisions\", \"decisions\", \"democratic\", \"democrats\", \"desantis\", \"described\", \"described\", \"described\", \"description\", \"details\", \"discusses\", \"discusses\", \"district\", \"district\", \"district\", \"does\", \"does\", \"donald\", \"education\", \"education\", \"education\", \"educational\", \"educational\", \"educational\", \"educator\", \"ellyn\", \"employed\", \"engaged\", \"engaged\", \"engaging\", \"engaging\", \"engaging\", \"entity\", \"entity\", \"entity\", \"examines\", \"expert\", \"explicitly\", \"explicitly\", \"express\", \"expressing\", \"father\", \"federal\", \"federal\", \"field\", \"figure\", \"figure\", \"figure\", \"florida\", \"florida\", \"florida\", \"focuses\", \"focuses\", \"focuses\", \"fox\", \"framework\", \"framework\", \"framework\", \"general\", \"general\", \"given\", \"given\", \"given\", \"glen\", \"glenn\", \"gop\", \"governing\", \"government\", \"government\", \"government\", \"governmental\", \"governmental\", \"governor\", \"governor\", \"governor\", \"group\", \"group\", \"group\", \"groups\", \"groups\", \"groups\", \"highlighting\", \"highlighting\", \"house\", \"house\", \"idaho\", \"implementing\", \"implementing\", \"including\", \"including\", \"including\", \"individual\", \"individual\", \"individual\", \"individuals\", \"individuals\", \"individuals\", \"involved\", \"involved\", \"involved\", \"issues\", \"issues\", \"issues\", \"joe\", \"jurisdiction\", \"king\", \"known\", \"known\", \"lawmakers\", \"lawmakers\", \"laws\", \"laws\", \"laws\", \"left\", \"left\", \"legislative\", \"legislative\", \"likely\", \"likely\", \"likely\", \"lisle\", \"major\", \"major\", \"making\", \"making\", \"making\", \"member\", \"member\", \"member\", \"mentioning\", \"mentions\", \"mississippi\", \"mother\", \"msnbc\", \"news\", \"news\", \"noem\", \"oklahoma\", \"oklahoma\", \"opinions\", \"opinions\", \"opinions\", \"opposing\", \"opposing\", \"opposing\", \"opposition\", \"opposition\", \"organization\", \"organization\", \"organization\", \"overseeing\", \"parent\", \"parents\", \"parties\", \"party\", \"pledge\", \"policies\", \"policies\", \"policies\", \"policy\", \"policy\", \"policy\", \"political\", \"political\", \"political\", \"possibly\", \"possibly\", \"power\", \"power\", \"president\", \"president\", \"progressive\", \"provide\", \"public\", \"public\", \"public\", \"reference\", \"regulations\", \"relate\", \"related\", \"related\", \"related\", \"rep\", \"representative\", \"representative\", \"representatives\", \"representatives\", \"republican\", \"republicans\", \"responsible\", \"responsible\", \"responsible\", \"right\", \"right\", \"rights\", \"rights\", \"ron\", \"roselle\", \"rufo\", \"scholar\", \"school\", \"school\", \"schools\", \"schools\", \"schools\", \"senator\", \"served\", \"signing\", \"social\", \"social\", \"society\", \"society\", \"speaking\", \"specific\", \"specific\", \"specifically\", \"specifically\", \"specifically\", \"specify\", \"specifying\", \"standards\", \"standards\", \"state\", \"state\", \"state\", \"states\", \"states\", \"states\", \"student\", \"subject\", \"subject\", \"suggesting\", \"suggesting\", \"suggesting\", \"suggests\", \"suggests\", \"suggests\", \"superintendent\", \"teacher\", \"teacher\", \"teaching\", \"teaching\", \"teaching\", \"ted\", \"texas\", \"texas\", \"texas\", \"trump\", \"united\", \"united\", \"united\", \"university\", \"university\", \"various\", \"various\", \"various\", \"writer\", \"youngkin\"]}, \"R\": 30, \"lambda.step\": 0.01, \"plot.opts\": {\"xlab\": \"PC1\", \"ylab\": \"PC2\"}, \"topic.order\": [3, 2, 1]};\n",
       "\n",
       "function LDAvis_load_lib(url, callback){\n",
       "  var s = document.createElement('script');\n",
       "  s.src = url;\n",
       "  s.async = true;\n",
       "  s.onreadystatechange = s.onload = callback;\n",
       "  s.onerror = function(){console.warn(\"failed to load library \" + url);};\n",
       "  document.getElementsByTagName(\"head\")[0].appendChild(s);\n",
       "}\n",
       "\n",
       "if(typeof(LDAvis) !== \"undefined\"){\n",
       "   // already loaded: just create the visualization\n",
       "   !function(LDAvis){\n",
       "       new LDAvis(\"#\" + \"ldavis_el7310863267566082892679054\", ldavis_el7310863267566082892679054_data);\n",
       "   }(LDAvis);\n",
       "}else if(typeof define === \"function\" && define.amd){\n",
       "   // require.js is available: use it to load d3/LDAvis\n",
       "   require.config({paths: {d3: \"https://d3js.org/d3.v5\"}});\n",
       "   require([\"d3\"], function(d3){\n",
       "      window.d3 = d3;\n",
       "      LDAvis_load_lib(\"https://cdn.jsdelivr.net/gh/bmabey/pyLDAvis@3.4.0/pyLDAvis/js/ldavis.v3.0.0.js\", function(){\n",
       "        new LDAvis(\"#\" + \"ldavis_el7310863267566082892679054\", ldavis_el7310863267566082892679054_data);\n",
       "      });\n",
       "    });\n",
       "}else{\n",
       "    // require.js not available: dynamically load d3 & LDAvis\n",
       "    LDAvis_load_lib(\"https://d3js.org/d3.v5.js\", function(){\n",
       "         LDAvis_load_lib(\"https://cdn.jsdelivr.net/gh/bmabey/pyLDAvis@3.4.0/pyLDAvis/js/ldavis.v3.0.0.js\", function(){\n",
       "                 new LDAvis(\"#\" + \"ldavis_el7310863267566082892679054\", ldavis_el7310863267566082892679054_data);\n",
       "            })\n",
       "         });\n",
       "}\n",
       "</script>"
      ],
      "text/plain": [
       "PreparedData(topic_coordinates=              x         y  topics  cluster       Freq\n",
       "topic                                                \n",
       "2      0.026436 -0.175294       1        1  37.018356\n",
       "1     -0.209679  0.069956       2        1  36.719670\n",
       "0      0.183242  0.105338       3        1  26.261974, topic_info=           Term        Freq       Total Category  logprob  loglift\n",
       "651        does  524.000000  524.000000  Default  30.0000  30.0000\n",
       "1701  reference  454.000000  454.000000  Default  29.0000  29.0000\n",
       "1919   specific  484.000000  484.000000  Default  28.0000  28.0000\n",
       "1534  political  381.000000  381.000000  Default  27.0000  27.0000\n",
       "1947     states  212.000000  212.000000  Default  26.0000  26.0000\n",
       "...         ...         ...         ...      ...      ...      ...\n",
       "1529   policies   86.675578  232.034871   Topic3  -4.9471   0.3523\n",
       "1897     social   67.813409  151.539783   Topic3  -5.1925   0.5330\n",
       "1530     policy   64.045797  151.682751   Topic3  -5.2497   0.4749\n",
       "675   education   64.433356  242.139763   Topic3  -5.2436   0.0132\n",
       "824     florida   59.718501  145.713550   Topic3  -5.3196   0.4450\n",
       "\n",
       "[214 rows x 6 columns], token_table=      Topic      Freq      Term\n",
       "term                           \n",
       "8         1  0.612281  academic\n",
       "8         2  0.008747  academic\n",
       "8         3  0.376115  academic\n",
       "26        1  0.187257    action\n",
       "26        2  0.765080    action\n",
       "...     ...       ...       ...\n",
       "2105      1  0.218357   various\n",
       "2105      2  0.046791   various\n",
       "2105      3  0.733054   various\n",
       "2174      1  0.960602    writer\n",
       "2185      1  0.987742  youngkin\n",
       "\n",
       "[323 rows x 3 columns], R=30, lambda_step=0.01, plot_opts={'xlab': 'PC1', 'ylab': 'PC2'}, topic_order=[3, 2, 1])"
      ]
     },
     "execution_count": 17,
     "metadata": {},
     "output_type": "execute_result"
    }
   ],
   "source": [
    "# The TFIDF representation model\n",
    "# not as helpful as TF-- could be due to French? Not sure\n",
    "\n",
    "pyLDAvis.lda_model.prepare(lda_tfidf, dtm_tfidf, tfidf_vectorizer)"
   ]
  },
  {
   "cell_type": "code",
   "execution_count": null,
   "id": "1cc09283",
   "metadata": {},
   "outputs": [],
   "source": []
  }
 ],
 "metadata": {
  "kernelspec": {
   "display_name": "Python 3 (ipykernel)",
   "language": "python",
   "name": "python3"
  },
  "language_info": {
   "codemirror_mode": {
    "name": "ipython",
    "version": 3
   },
   "file_extension": ".py",
   "mimetype": "text/x-python",
   "name": "python",
   "nbconvert_exporter": "python",
   "pygments_lexer": "ipython3",
   "version": "3.11.4"
  }
 },
 "nbformat": 4,
 "nbformat_minor": 5
}
