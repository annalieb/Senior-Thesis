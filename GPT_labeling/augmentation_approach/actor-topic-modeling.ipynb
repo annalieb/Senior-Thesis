{
 "cells": [
  {
   "cell_type": "markdown",
   "id": "75f77bfc",
   "metadata": {},
   "source": [
    "# Topic Modeling and Visualization\n",
    "\n",
    "Topic modeling using `sklearn` and `pyLDAvis` to visualize topic modeling that works with the results of both`sklearn` and `gensim`."
   ]
  },
  {
   "cell_type": "markdown",
   "id": "b18c1e3a",
   "metadata": {},
   "source": [
    " <a id=\"sec1\"></a>\n",
    " ## 1. Prepare the notebook materials"
   ]
  },
  {
   "cell_type": "code",
   "execution_count": 1,
   "id": "f89bafa7",
   "metadata": {},
   "outputs": [],
   "source": [
    "from sklearn.feature_extraction.text import CountVectorizer, TfidfVectorizer\n",
    "from sklearn.decomposition import LatentDirichletAllocation"
   ]
  },
  {
   "cell_type": "markdown",
   "id": "8b6c70cd",
   "metadata": {},
   "source": [
    "Now install `pyLDAvis`:"
   ]
  },
  {
   "cell_type": "markdown",
   "id": "d22a87bb",
   "metadata": {},
   "source": [
    "Import the needed packages and enable pyLDAvis to work inside the notebook:"
   ]
  },
  {
   "cell_type": "code",
   "execution_count": 7,
   "id": "f889c05a",
   "metadata": {
    "scrolled": true
   },
   "outputs": [],
   "source": [
    "import pyLDAvis\n",
    "import pyLDAvis.lda_model\n",
    "pyLDAvis.enable_notebook()"
   ]
  },
  {
   "cell_type": "code",
   "execution_count": 8,
   "id": "4744a4a2",
   "metadata": {},
   "outputs": [],
   "source": [
    "import pandas"
   ]
  },
  {
   "cell_type": "markdown",
   "id": "a85a5b1b",
   "metadata": {},
   "source": [
    "### Load city article dataset"
   ]
  },
  {
   "cell_type": "code",
   "execution_count": 10,
   "id": "a3ca9135",
   "metadata": {},
   "outputs": [
    {
     "data": {
      "text/html": [
       "<div>\n",
       "<style scoped>\n",
       "    .dataframe tbody tr th:only-of-type {\n",
       "        vertical-align: middle;\n",
       "    }\n",
       "\n",
       "    .dataframe tbody tr th {\n",
       "        vertical-align: top;\n",
       "    }\n",
       "\n",
       "    .dataframe thead th {\n",
       "        text-align: right;\n",
       "    }\n",
       "</style>\n",
       "<table border=\"1\" class=\"dataframe\">\n",
       "  <thead>\n",
       "    <tr style=\"text-align: right;\">\n",
       "      <th></th>\n",
       "      <th>full_article</th>\n",
       "      <th>date</th>\n",
       "    </tr>\n",
       "  </thead>\n",
       "  <tbody>\n",
       "    <tr>\n",
       "      <th>0</th>\n",
       "      <td>\\n\\n\\n\\r\\nAccra Technical University to offer ...</td>\n",
       "      <td>2018-12-08</td>\n",
       "    </tr>\n",
       "    <tr>\n",
       "      <th>1</th>\n",
       "      <td>\\n\\n\\n\\r\\nMeteorological Agency warns of rains...</td>\n",
       "      <td>2021-12-25</td>\n",
       "    </tr>\n",
       "    <tr>\n",
       "      <th>2</th>\n",
       "      <td>\\n\\n\\n\\r\\nMining; First Ecowas Mining and Petr...</td>\n",
       "      <td>2016-01-25</td>\n",
       "    </tr>\n",
       "    <tr>\n",
       "      <th>3</th>\n",
       "      <td>\\n\\n\\n\\r\\nMövenpick Ambassador Hotel Accra: Po...</td>\n",
       "      <td>2019-12-19</td>\n",
       "    </tr>\n",
       "    <tr>\n",
       "      <th>4</th>\n",
       "      <td>\\n\\n\\n\\r\\nPHOTOS: Accra Floods After Heavy Dow...</td>\n",
       "      <td>2016-07-26</td>\n",
       "    </tr>\n",
       "  </tbody>\n",
       "</table>\n",
       "</div>"
      ],
      "text/plain": [
       "                                        full_article       date\n",
       "0  \\n\\n\\n\\r\\nAccra Technical University to offer ... 2018-12-08\n",
       "1  \\n\\n\\n\\r\\nMeteorological Agency warns of rains... 2021-12-25\n",
       "2  \\n\\n\\n\\r\\nMining; First Ecowas Mining and Petr... 2016-01-25\n",
       "3  \\n\\n\\n\\r\\nMövenpick Ambassador Hotel Accra: Po... 2019-12-19\n",
       "4  \\n\\n\\n\\r\\nPHOTOS: Accra Floods After Heavy Dow... 2016-07-26"
      ]
     },
     "execution_count": 10,
     "metadata": {},
     "output_type": "execute_result"
    }
   ],
   "source": [
    "accra = pandas.read_excel(\"LexisUni_articles/processed/accra_articles.xlsx\")\n",
    " \n",
    "# displaying the contents of the CSV file\n",
    "accra.head()"
   ]
  },
  {
   "cell_type": "code",
   "execution_count": 11,
   "id": "a3056c31",
   "metadata": {},
   "outputs": [
    {
     "name": "stdout",
     "output_type": "stream",
     "text": [
      "579\n"
     ]
    }
   ],
   "source": [
    "docs_raw = accra['full_article'].tolist()\n",
    "print(len(docs_raw))"
   ]
  },
  {
   "cell_type": "markdown",
   "id": "081565a0",
   "metadata": {},
   "source": [
    "<a id=\"sec2\"></a>\n",
    "## 2. Convert to document-term matrices\n",
    "\n",
    "Next, the raw documents are converted into document-term matrix (dtm), initially as raw counts (with `CountVectorizer`) and then as TF-IDF values (with `TfidfVectorizer`).\n",
    "\n",
    "We're creating two different vectorizers, to notice the difference that different feature representations make in the process of modeling."
   ]
  },
  {
   "cell_type": "code",
   "execution_count": 12,
   "id": "f50ad7a6",
   "metadata": {},
   "outputs": [
    {
     "name": "stdout",
     "output_type": "stream",
     "text": [
      "(579, 2679)\n"
     ]
    }
   ],
   "source": [
    "# Create the TF vector represetnation, this only counts the terms in each document\n",
    "\n",
    "tf_vectorizer = CountVectorizer(strip_accents = 'unicode',\n",
    "                                stop_words = 'english',\n",
    "                                lowercase = True,\n",
    "                                token_pattern = r'\\b[a-zA-Z]{3,}\\b',\n",
    "                                max_df = 0.5, \n",
    "                                min_df = 10)\n",
    "\n",
    "dtm_tf = tf_vectorizer.fit_transform(docs_raw)\n",
    "print(dtm_tf.shape)"
   ]
  },
  {
   "cell_type": "markdown",
   "id": "9c7183ef",
   "metadata": {},
   "source": [
    "Let's look at some of the features (i.e. words in the corpus):"
   ]
  },
  {
   "cell_type": "code",
   "execution_count": 14,
   "id": "99404606",
   "metadata": {},
   "outputs": [
    {
     "data": {
      "text/plain": [
       "array(['construct', 'constructed', 'construction', 'consultant',\n",
       "       'consumers', 'consumption', 'contact', 'contain', 'contained',\n",
       "       'containers', 'containing', 'contemporary', 'content',\n",
       "       'contentservices', 'context', 'continent', 'continental',\n",
       "       'continue', 'continued', 'continues'], dtype=object)"
      ]
     },
     "execution_count": 14,
     "metadata": {},
     "output_type": "execute_result"
    }
   ],
   "source": [
    "tf_vectorizer.get_feature_names_out()[500:520]"
   ]
  },
  {
   "cell_type": "markdown",
   "id": "a996c8c2",
   "metadata": {},
   "source": [
    "To be able to compare the results of TF and TFIDF representation, we will use the same parameters.\n",
    "This is why we will initialize the `TfidfVectorizer` with the parmeters of the `CountVectorizer`."
   ]
  },
  {
   "cell_type": "markdown",
   "id": "1897c093",
   "metadata": {},
   "source": [
    "Initialize and prepare Document-Term-Matrix:"
   ]
  },
  {
   "cell_type": "code",
   "execution_count": 15,
   "id": "b072937c",
   "metadata": {},
   "outputs": [
    {
     "name": "stdout",
     "output_type": "stream",
     "text": [
      "(579, 2679)\n"
     ]
    },
    {
     "name": "stderr",
     "output_type": "stream",
     "text": [
      "/Users/annalieb/miniconda3/lib/python3.11/site-packages/sklearn/feature_extraction/text.py:2078: UserWarning: Only (<class 'numpy.float64'>, <class 'numpy.float32'>, <class 'numpy.float16'>) 'dtype' should be used. <class 'numpy.int64'> 'dtype' will be converted to np.float64.\n",
      "  warnings.warn(\n"
     ]
    }
   ],
   "source": [
    "# TF IDF = measures term importance relative to the other documents\n",
    "tfidf_vectorizer = TfidfVectorizer(**tf_vectorizer.get_params())\n",
    "\n",
    "dtm_tfidf = tfidf_vectorizer.fit_transform(docs_raw)\n",
    "print(dtm_tfidf.shape)"
   ]
  },
  {
   "cell_type": "markdown",
   "id": "f8f70850",
   "metadata": {},
   "source": [
    "<a id=\"sec3\"></a>\n",
    "## 3. Fit Latent Dirichlet Allocation models\n",
    "\n",
    "We will fit two LDA models, each with 3 topics. "
   ]
  },
  {
   "cell_type": "code",
   "execution_count": 36,
   "id": "8fa05a16",
   "metadata": {},
   "outputs": [
    {
     "data": {
      "text/html": [
       "<style>#sk-container-id-7 {color: black;}#sk-container-id-7 pre{padding: 0;}#sk-container-id-7 div.sk-toggleable {background-color: white;}#sk-container-id-7 label.sk-toggleable__label {cursor: pointer;display: block;width: 100%;margin-bottom: 0;padding: 0.3em;box-sizing: border-box;text-align: center;}#sk-container-id-7 label.sk-toggleable__label-arrow:before {content: \"▸\";float: left;margin-right: 0.25em;color: #696969;}#sk-container-id-7 label.sk-toggleable__label-arrow:hover:before {color: black;}#sk-container-id-7 div.sk-estimator:hover label.sk-toggleable__label-arrow:before {color: black;}#sk-container-id-7 div.sk-toggleable__content {max-height: 0;max-width: 0;overflow: hidden;text-align: left;background-color: #f0f8ff;}#sk-container-id-7 div.sk-toggleable__content pre {margin: 0.2em;color: black;border-radius: 0.25em;background-color: #f0f8ff;}#sk-container-id-7 input.sk-toggleable__control:checked~div.sk-toggleable__content {max-height: 200px;max-width: 100%;overflow: auto;}#sk-container-id-7 input.sk-toggleable__control:checked~label.sk-toggleable__label-arrow:before {content: \"▾\";}#sk-container-id-7 div.sk-estimator input.sk-toggleable__control:checked~label.sk-toggleable__label {background-color: #d4ebff;}#sk-container-id-7 div.sk-label input.sk-toggleable__control:checked~label.sk-toggleable__label {background-color: #d4ebff;}#sk-container-id-7 input.sk-hidden--visually {border: 0;clip: rect(1px 1px 1px 1px);clip: rect(1px, 1px, 1px, 1px);height: 1px;margin: -1px;overflow: hidden;padding: 0;position: absolute;width: 1px;}#sk-container-id-7 div.sk-estimator {font-family: monospace;background-color: #f0f8ff;border: 1px dotted black;border-radius: 0.25em;box-sizing: border-box;margin-bottom: 0.5em;}#sk-container-id-7 div.sk-estimator:hover {background-color: #d4ebff;}#sk-container-id-7 div.sk-parallel-item::after {content: \"\";width: 100%;border-bottom: 1px solid gray;flex-grow: 1;}#sk-container-id-7 div.sk-label:hover label.sk-toggleable__label {background-color: #d4ebff;}#sk-container-id-7 div.sk-serial::before {content: \"\";position: absolute;border-left: 1px solid gray;box-sizing: border-box;top: 0;bottom: 0;left: 50%;z-index: 0;}#sk-container-id-7 div.sk-serial {display: flex;flex-direction: column;align-items: center;background-color: white;padding-right: 0.2em;padding-left: 0.2em;position: relative;}#sk-container-id-7 div.sk-item {position: relative;z-index: 1;}#sk-container-id-7 div.sk-parallel {display: flex;align-items: stretch;justify-content: center;background-color: white;position: relative;}#sk-container-id-7 div.sk-item::before, #sk-container-id-7 div.sk-parallel-item::before {content: \"\";position: absolute;border-left: 1px solid gray;box-sizing: border-box;top: 0;bottom: 0;left: 50%;z-index: -1;}#sk-container-id-7 div.sk-parallel-item {display: flex;flex-direction: column;z-index: 1;position: relative;background-color: white;}#sk-container-id-7 div.sk-parallel-item:first-child::after {align-self: flex-end;width: 50%;}#sk-container-id-7 div.sk-parallel-item:last-child::after {align-self: flex-start;width: 50%;}#sk-container-id-7 div.sk-parallel-item:only-child::after {width: 0;}#sk-container-id-7 div.sk-dashed-wrapped {border: 1px dashed gray;margin: 0 0.4em 0.5em 0.4em;box-sizing: border-box;padding-bottom: 0.4em;background-color: white;}#sk-container-id-7 div.sk-label label {font-family: monospace;font-weight: bold;display: inline-block;line-height: 1.2em;}#sk-container-id-7 div.sk-label-container {text-align: center;}#sk-container-id-7 div.sk-container {/* jupyter's `normalize.less` sets `[hidden] { display: none; }` but bootstrap.min.css set `[hidden] { display: none !important; }` so we also need the `!important` here to be able to override the default hidden behavior on the sphinx rendered scikit-learn.org. See: https://github.com/scikit-learn/scikit-learn/issues/21755 */display: inline-block !important;position: relative;}#sk-container-id-7 div.sk-text-repr-fallback {display: none;}</style><div id=\"sk-container-id-7\" class=\"sk-top-container\"><div class=\"sk-text-repr-fallback\"><pre>LatentDirichletAllocation(n_components=4, random_state=0)</pre><b>In a Jupyter environment, please rerun this cell to show the HTML representation or trust the notebook. <br />On GitHub, the HTML representation is unable to render, please try loading this page with nbviewer.org.</b></div><div class=\"sk-container\" hidden><div class=\"sk-item\"><div class=\"sk-estimator sk-toggleable\"><input class=\"sk-toggleable__control sk-hidden--visually\" id=\"sk-estimator-id-7\" type=\"checkbox\" checked><label for=\"sk-estimator-id-7\" class=\"sk-toggleable__label sk-toggleable__label-arrow\">LatentDirichletAllocation</label><div class=\"sk-toggleable__content\"><pre>LatentDirichletAllocation(n_components=4, random_state=0)</pre></div></div></div></div></div>"
      ],
      "text/plain": [
       "LatentDirichletAllocation(n_components=4, random_state=0)"
      ]
     },
     "execution_count": 36,
     "metadata": {},
     "output_type": "execute_result"
    }
   ],
   "source": [
    "# for TF DTM\n",
    "lda_tf = LatentDirichletAllocation(n_components=4, random_state=0)\n",
    "lda_tf.fit(dtm_tf)\n",
    "\n",
    "lda_tf"
   ]
  },
  {
   "cell_type": "code",
   "execution_count": 31,
   "id": "7f22d323",
   "metadata": {},
   "outputs": [
    {
     "data": {
      "text/html": [
       "<style>#sk-container-id-6 {color: black;}#sk-container-id-6 pre{padding: 0;}#sk-container-id-6 div.sk-toggleable {background-color: white;}#sk-container-id-6 label.sk-toggleable__label {cursor: pointer;display: block;width: 100%;margin-bottom: 0;padding: 0.3em;box-sizing: border-box;text-align: center;}#sk-container-id-6 label.sk-toggleable__label-arrow:before {content: \"▸\";float: left;margin-right: 0.25em;color: #696969;}#sk-container-id-6 label.sk-toggleable__label-arrow:hover:before {color: black;}#sk-container-id-6 div.sk-estimator:hover label.sk-toggleable__label-arrow:before {color: black;}#sk-container-id-6 div.sk-toggleable__content {max-height: 0;max-width: 0;overflow: hidden;text-align: left;background-color: #f0f8ff;}#sk-container-id-6 div.sk-toggleable__content pre {margin: 0.2em;color: black;border-radius: 0.25em;background-color: #f0f8ff;}#sk-container-id-6 input.sk-toggleable__control:checked~div.sk-toggleable__content {max-height: 200px;max-width: 100%;overflow: auto;}#sk-container-id-6 input.sk-toggleable__control:checked~label.sk-toggleable__label-arrow:before {content: \"▾\";}#sk-container-id-6 div.sk-estimator input.sk-toggleable__control:checked~label.sk-toggleable__label {background-color: #d4ebff;}#sk-container-id-6 div.sk-label input.sk-toggleable__control:checked~label.sk-toggleable__label {background-color: #d4ebff;}#sk-container-id-6 input.sk-hidden--visually {border: 0;clip: rect(1px 1px 1px 1px);clip: rect(1px, 1px, 1px, 1px);height: 1px;margin: -1px;overflow: hidden;padding: 0;position: absolute;width: 1px;}#sk-container-id-6 div.sk-estimator {font-family: monospace;background-color: #f0f8ff;border: 1px dotted black;border-radius: 0.25em;box-sizing: border-box;margin-bottom: 0.5em;}#sk-container-id-6 div.sk-estimator:hover {background-color: #d4ebff;}#sk-container-id-6 div.sk-parallel-item::after {content: \"\";width: 100%;border-bottom: 1px solid gray;flex-grow: 1;}#sk-container-id-6 div.sk-label:hover label.sk-toggleable__label {background-color: #d4ebff;}#sk-container-id-6 div.sk-serial::before {content: \"\";position: absolute;border-left: 1px solid gray;box-sizing: border-box;top: 0;bottom: 0;left: 50%;z-index: 0;}#sk-container-id-6 div.sk-serial {display: flex;flex-direction: column;align-items: center;background-color: white;padding-right: 0.2em;padding-left: 0.2em;position: relative;}#sk-container-id-6 div.sk-item {position: relative;z-index: 1;}#sk-container-id-6 div.sk-parallel {display: flex;align-items: stretch;justify-content: center;background-color: white;position: relative;}#sk-container-id-6 div.sk-item::before, #sk-container-id-6 div.sk-parallel-item::before {content: \"\";position: absolute;border-left: 1px solid gray;box-sizing: border-box;top: 0;bottom: 0;left: 50%;z-index: -1;}#sk-container-id-6 div.sk-parallel-item {display: flex;flex-direction: column;z-index: 1;position: relative;background-color: white;}#sk-container-id-6 div.sk-parallel-item:first-child::after {align-self: flex-end;width: 50%;}#sk-container-id-6 div.sk-parallel-item:last-child::after {align-self: flex-start;width: 50%;}#sk-container-id-6 div.sk-parallel-item:only-child::after {width: 0;}#sk-container-id-6 div.sk-dashed-wrapped {border: 1px dashed gray;margin: 0 0.4em 0.5em 0.4em;box-sizing: border-box;padding-bottom: 0.4em;background-color: white;}#sk-container-id-6 div.sk-label label {font-family: monospace;font-weight: bold;display: inline-block;line-height: 1.2em;}#sk-container-id-6 div.sk-label-container {text-align: center;}#sk-container-id-6 div.sk-container {/* jupyter's `normalize.less` sets `[hidden] { display: none; }` but bootstrap.min.css set `[hidden] { display: none !important; }` so we also need the `!important` here to be able to override the default hidden behavior on the sphinx rendered scikit-learn.org. See: https://github.com/scikit-learn/scikit-learn/issues/21755 */display: inline-block !important;position: relative;}#sk-container-id-6 div.sk-text-repr-fallback {display: none;}</style><div id=\"sk-container-id-6\" class=\"sk-top-container\"><div class=\"sk-text-repr-fallback\"><pre>LatentDirichletAllocation(n_components=3, random_state=0)</pre><b>In a Jupyter environment, please rerun this cell to show the HTML representation or trust the notebook. <br />On GitHub, the HTML representation is unable to render, please try loading this page with nbviewer.org.</b></div><div class=\"sk-container\" hidden><div class=\"sk-item\"><div class=\"sk-estimator sk-toggleable\"><input class=\"sk-toggleable__control sk-hidden--visually\" id=\"sk-estimator-id-6\" type=\"checkbox\" checked><label for=\"sk-estimator-id-6\" class=\"sk-toggleable__label sk-toggleable__label-arrow\">LatentDirichletAllocation</label><div class=\"sk-toggleable__content\"><pre>LatentDirichletAllocation(n_components=3, random_state=0)</pre></div></div></div></div></div>"
      ],
      "text/plain": [
       "LatentDirichletAllocation(n_components=3, random_state=0)"
      ]
     },
     "execution_count": 31,
     "metadata": {},
     "output_type": "execute_result"
    }
   ],
   "source": [
    "# for TFIDF DTM\n",
    "lda_tfidf = LatentDirichletAllocation(n_components=3, random_state=0)\n",
    "lda_tfidf.fit(dtm_tfidf)"
   ]
  },
  {
   "cell_type": "markdown",
   "id": "ed566cf8",
   "metadata": {},
   "source": [
    "Given that the models are probability distributions over topics and words, we will focus on their visualization to learn more about them."
   ]
  },
  {
   "cell_type": "markdown",
   "id": "35f02065",
   "metadata": {},
   "source": [
    "<a id=\"sec4\"></a>\n",
    "## 4. Visualizing the models with pyLDAvis\n",
    "\n",
    "Note on relevance metric: lambda influences the order in which the words are sorted. Adjust lambda to help with interpretation of the different categories. \n",
    "\n",
    "see this link: https://we1s.ucsb.edu/research/we1s-tools-and-software/topic-model-observatory/tmo-guide/tmo-guide-pyldavis/"
   ]
  },
  {
   "cell_type": "code",
   "execution_count": 37,
   "id": "ad93bdaf",
   "metadata": {
    "scrolled": false
   },
   "outputs": [
    {
     "data": {
      "text/html": [
       "\n",
       "<link rel=\"stylesheet\" type=\"text/css\" href=\"https://cdn.jsdelivr.net/gh/bmabey/pyLDAvis@3.4.0/pyLDAvis/js/ldavis.v1.0.0.css\">\n",
       "\n",
       "\n",
       "<div id=\"ldavis_el9877161203371685732172653\" style=\"background-color:white;\"></div>\n",
       "<script type=\"text/javascript\">\n",
       "\n",
       "var ldavis_el9877161203371685732172653_data = {\"mdsDat\": {\"x\": [0.14156173679482373, -0.15001669155861896, 0.051189197296645846, -0.042734242532850325], \"y\": [-0.003942411906718755, -0.06469214584348151, -0.06615772576940551, 0.13479228351960584], \"topics\": [1, 2, 3, 4], \"cluster\": [1, 1, 1, 1], \"Freq\": [38.42160435404939, 22.33625885256202, 21.928951912072364, 17.313184881316225]}, \"tinfo\": {\"Term\": [\"city\", \"flood\", \"flooding\", \"project\", \"floods\", \"waste\", \"drainage\", \"sanitation\", \"supply\", \"african\", \"africa\", \"les\", \"drains\", \"club\", \"des\", \"june\", \"climate\", \"disaster\", \"rains\", \"company\", \"greater\", \"planning\", \"victims\", \"countries\", \"development\", \"urban\", \"gwcl\", \"areas\", \"works\", \"agriculture\", \"agriculture\", \"agricultural\", \"products\", \"cassava\", \"cocoa\", \"partner\", \"forestry\", \"liberia\", \"trade\", \"delegates\", \"extreme\", \"economies\", \"manufacturing\", \"transformation\", \"seeds\", \"india\", \"platform\", \"innovation\", \"forests\", \"farmer\", \"hunger\", \"achieving\", \"mining\", \"renewable\", \"literacy\", \"commitments\", \"ecowas\", \"maize\", \"exports\", \"partnerships\", \"african\", \"workshop\", \"london\", \"farmers\", \"countries\", \"climate\", \"industry\", \"partners\", \"states\", \"launched\", \"secretary\", \"conference\", \"africa\", \"food\", \"tourism\", \"research\", \"theme\", \"opportunities\", \"forum\", \"continent\", \"sectors\", \"sector\", \"energy\", \"global\", \"economic\", \"world\", \"bank\", \"development\", \"change\", \"sustainable\", \"support\", \"international\", \"business\", \"united\", \"west\", \"poverty\", \"based\", \"women\", \"new\", \"growth\", \"year\", \"national\", \"country\", \"management\", \"regional\", \"gna\", \"education\", \"president\", \"motorway\", \"torrential\", \"exposure\", \"interchange\", \"submerged\", \"intensity\", \"downpour\", \"quarshie\", \"alajo\", \"hour\", \"motorists\", \"victims\", \"claimed\", \"airport\", \"commuters\", \"traders\", \"vehicular\", \"destroyed\", \"highway\", \"stadium\", \"test\", \"passengers\", \"evening\", \"waters\", \"homeless\", \"stranded\", \"stretch\", \"memorial\", \"burnt\", \"shop\", \"bridge\", \"traffic\", \"morning\", \"death\", \"hours\", \"club\", \"night\", \"workers\", \"rains\", \"flooded\", \"circle\", \"street\", \"recorded\", \"nkrumah\", \"hit\", \"disaster\", \"heavy\", \"kwame\", \"road\", \"rain\", \"floods\", \"june\", \"station\", \"daily\", \"affected\", \"parts\", \"flood\", \"capital\", \"guide\", \"roads\", \"time\", \"areas\", \"gna\", \"president\", \"agency\", \"national\", \"city\", \"area\", \"public\", \"flooding\", \"ghanaian\", \"residents\", \"year\", \"lives\", \"gwcl\", \"gallons\", \"tender\", \"kpong\", \"toilets\", \"desalination\", \"tendersbiz\", \"piped\", \"pipelines\", \"nationwide\", \"notice\", \"purchaser\", \"htlive\", \"contentservices\", \"gama\", \"deficit\", \"units\", \"toilet\", \"component\", \"competition\", \"parliamentary\", \"npp\", \"potable\", \"providers\", \"shortage\", \"details\", \"weija\", \"ida\", \"borehole\", \"church\", \"supply\", \"plant\", \"spaces\", \"ndc\", \"speaker\", \"sanitation\", \"association\", \"delivery\", \"consumers\", \"facility\", \"greater\", \"housing\", \"project\", \"tema\", \"company\", \"access\", \"facilities\", \"million\", \"communities\", \"region\", \"district\", \"drinking\", \"treatment\", \"works\", \"residents\", \"construction\", \"country\", \"situation\", \"area\", \"gna\", \"urban\", \"minister\", \"provided\", \"development\", \"areas\", \"services\", \"years\", \"agency\", \"service\", \"les\", \"des\", \"dans\", \"wetlands\", \"garid\", \"une\", \"sur\", \"qui\", \"par\", \"ont\", \"desilting\", \"que\", \"mayor\", \"sont\", \"drainage\", \"ete\", \"silt\", \"rivers\", \"buffer\", \"urbanization\", \"spreading\", \"dump\", \"dredging\", \"hazards\", \"runoff\", \"mmdas\", \"dumped\", \"ill\", \"permits\", \"rubbish\", \"plastic\", \"drains\", \"waste\", \"solid\", \"assemblies\", \"lagoon\", \"flooding\", \"odaw\", \"city\", \"pays\", \"drain\", \"pour\", \"ama\", \"flood\", \"planning\", \"est\", \"river\", \"cities\", \"floods\", \"urban\", \"metropolitan\", \"long\", \"building\", \"project\", \"management\", \"land\", \"resilience\", \"areas\", \"plan\", \"works\", \"country\", \"need\", \"work\", \"development\", \"world\", \"june\", \"services\"], \"Freq\": [555.0, 532.0, 403.0, 736.0, 442.0, 300.0, 209.0, 437.0, 278.0, 438.0, 829.0, 139.0, 184.0, 203.0, 131.0, 410.0, 354.0, 257.0, 195.0, 375.0, 374.0, 226.0, 128.0, 341.0, 806.0, 289.0, 108.0, 487.0, 195.0, 170.0, 169.59680308401838, 117.14387301847044, 101.19467372563068, 71.56734608437176, 94.58794746054221, 45.78610100244651, 41.85424906964733, 40.85672971209258, 178.01109343196643, 38.88244942044315, 40.78606315718397, 36.888179970507785, 42.66461856038686, 33.92431742272526, 33.924163838362006, 94.88471840671393, 34.841116938440145, 31.930572534137024, 40.58441509446834, 25.99650343570317, 25.979107886910054, 24.01257004693187, 80.65761459637635, 23.028603617267674, 23.022395061634526, 27.814272823786396, 76.7406666783771, 23.012588014759604, 22.03224343595631, 22.0299460770915, 418.119288896346, 80.35399196623976, 37.225650312858285, 149.7189724266403, 315.06189961543856, 327.14947501193456, 88.15502748216123, 112.47293322735918, 123.57480689101286, 51.13537055029483, 80.29668487479059, 129.5697694075003, 707.8286991008766, 265.46825818847674, 80.06045594343672, 200.4196649751926, 62.936728256034314, 78.98126668547884, 70.4255981648183, 86.92765298749387, 78.06533378705556, 226.9754492579394, 177.57391812292073, 246.24912853767572, 239.41664371075396, 406.03907762496095, 255.44934475574186, 529.6184959378634, 218.79993476902095, 157.0614219688478, 247.076213894694, 195.75118753623215, 175.04607642953025, 111.44159083770488, 183.85375517194137, 114.73148775527055, 122.8404647243189, 126.97855610868766, 215.18475237658535, 135.48502008683667, 227.24333225058402, 209.53899632500924, 211.82765390139818, 187.65841756829846, 158.85662415216603, 189.79902074117857, 147.24292564843265, 168.6063183962183, 64.33008108938316, 54.47860669895034, 60.304556234801574, 48.531152448199414, 45.60302807210023, 57.23702251064037, 89.03296594557618, 34.75400814841455, 43.343952983865506, 30.788195211722872, 29.82585806986622, 125.04939218162102, 28.824150943184573, 29.754503388803982, 24.886646912396948, 66.96819919291887, 22.924501196752622, 29.610156542428548, 22.893242703351493, 27.56920118870434, 19.960457552725746, 19.94296190817715, 27.49842567648105, 49.316108771432, 17.980863718103564, 17.008830310807102, 20.758587184150723, 17.926269947419804, 16.01371733754523, 15.00872714708065, 34.67736278118802, 104.85368596276044, 63.93634058755282, 36.4056472977988, 86.14509845712982, 178.07928972706654, 63.055971556416495, 104.66033534352168, 165.33503222344447, 95.25368113924614, 77.0216432318149, 84.43204000115665, 63.59124206371073, 99.35573998088168, 68.92194266044451, 185.12407295802558, 112.83484916633535, 93.5177252790973, 156.32920355071525, 95.62989991623739, 274.4383962734309, 253.2505545791031, 124.21155717066614, 130.9783561714102, 116.34201741194073, 135.62918149059473, 262.5156240604472, 187.85744676751577, 97.96015522478844, 99.26788475906993, 167.05911803875483, 193.44169302064927, 203.40853156142373, 169.39885386033595, 159.1152500131306, 150.21434666185465, 147.7533160054906, 129.67319045620502, 125.63605668266936, 123.6517221767743, 110.6951718207293, 108.22579374457251, 105.48026866903032, 99.38178230682566, 107.39536046215072, 71.99987151078747, 52.283623843558026, 38.57914455337434, 36.59692457802616, 30.71705928089578, 29.732678166124042, 13.018891186113834, 13.941121610921314, 11.041208164725084, 39.421617014564454, 10.071813800552961, 10.071813420486594, 10.071813151410652, 96.24431175716398, 21.537141312952517, 24.2215860584622, 32.97589091309759, 38.42000791574064, 29.397515982660874, 27.589793921541304, 34.60973534699641, 50.55095466477628, 14.93988965623808, 39.373666295357104, 29.8149132475141, 73.98092860868287, 23.505035455686347, 25.08807652515915, 22.20430196756082, 237.31857387472368, 94.73891730773391, 55.49419871283556, 41.46278219678653, 49.66056520635519, 308.27039301413464, 69.36684770560872, 55.04623990443214, 39.315116880944345, 78.66613196806219, 234.15720350101427, 130.41352038770393, 411.92432228163517, 108.79936402176064, 217.4655739589789, 138.39395476502148, 114.30074091580227, 203.4029889558298, 190.8288651700849, 205.75180174094623, 111.72988600961257, 63.627388014345605, 62.17168023312481, 103.83632195207325, 137.25337433097351, 95.54436318419677, 182.10318628232076, 103.94848077260956, 136.48040204889637, 162.54996089056849, 114.81697919766009, 122.07486141913206, 110.87527910903773, 163.13536783644062, 122.58730804953437, 107.87273858669474, 114.28066175954896, 111.43239502242028, 95.81877734448634, 138.93983924631553, 130.38962341365283, 61.03831275462176, 57.1936540745117, 48.680927539130494, 43.938034933785595, 42.98821787773073, 42.98815133826437, 37.288078439841954, 32.5377726079465, 38.10478736031714, 24.937829400734117, 63.60382025847652, 23.03767435752415, 201.41205700940432, 19.210796043269124, 17.32660788434247, 16.348820025960592, 14.480122871860969, 14.471316725446684, 13.51849812133836, 18.83854039447483, 50.10979888113674, 17.874685839031034, 27.59207131104235, 26.6847087946613, 10.671611457742982, 9.724858013015602, 18.44873145254263, 26.35170295719669, 35.45592240995139, 152.48994303698362, 238.43167828310976, 72.5207228065343, 87.77457610415763, 47.29959821162863, 277.1622709324238, 85.57371904696613, 350.8413988426209, 27.048010701799054, 47.48569375312225, 37.582087984991624, 79.50871398778385, 244.99097130460729, 127.37809666963015, 48.285829471066435, 88.69024534626138, 78.81367252978715, 165.73875663981138, 125.17100477288429, 99.7700292106796, 84.0293413576679, 86.36122585762826, 173.41642917540068, 132.2768423954244, 79.4346539844237, 64.40266322099012, 124.24219169554088, 75.19331621370515, 80.4490378177448, 118.08110344203831, 86.53403679223382, 91.06398336200375, 107.98920421309893, 99.18529400816188, 86.95054220083752, 80.41438100830517], \"Total\": [555.0, 532.0, 403.0, 736.0, 442.0, 300.0, 209.0, 437.0, 278.0, 438.0, 829.0, 139.0, 184.0, 203.0, 131.0, 410.0, 354.0, 257.0, 195.0, 375.0, 374.0, 226.0, 128.0, 341.0, 806.0, 289.0, 108.0, 487.0, 195.0, 170.0, 170.3914673755569, 117.88428907534335, 102.03158477604947, 72.31043000261667, 96.07584100148357, 46.550872231798756, 42.58835807730615, 41.59746814237771, 181.2716003821178, 39.61617852080558, 41.59451055353253, 37.63458155322863, 43.57820243607046, 34.66240082731189, 34.66246122557815, 97.06395342130558, 35.65248331825022, 32.68052286770553, 41.586377294889004, 26.736526360620026, 26.73623815064821, 24.754906936186774, 83.19377516727927, 23.764375307187954, 23.76428151309857, 28.711879046280767, 79.23188675145896, 23.764288391953187, 22.773566470645292, 22.773474778908355, 438.55655295320975, 83.19797388428033, 38.61059947558303, 158.33912581132523, 341.17341963044714, 354.5584175082682, 93.08116777258446, 119.80395986530563, 132.4136973022756, 53.42238030669643, 85.1205197536628, 140.3697300049605, 829.1849256918739, 299.0233272745784, 85.1516621440028, 225.41792981283967, 66.25592034057027, 84.98278440507842, 75.1139630854372, 94.85273217579422, 85.03932074798445, 282.1814449308967, 214.60852108020316, 311.81498057149565, 305.65900954662794, 565.9896931215304, 334.4085759296536, 806.4723338179293, 291.3252757731275, 195.11286122710712, 351.5358076464307, 266.49145735627144, 245.5934004600835, 131.21270506037573, 270.2448622796068, 137.2117286670704, 152.8781969016445, 161.2213218785684, 383.2982244216445, 179.31796691996868, 472.3721440216392, 495.66520069060334, 598.4496904842501, 463.00480471345065, 292.67964727480415, 562.2191911877818, 238.89260030225444, 454.6734507226961, 65.07519329997457, 55.213994846746914, 61.12996853303385, 49.29728996636025, 46.33891354514176, 58.165690975613025, 90.6797916005318, 35.49164122226154, 44.35668564127472, 31.547035615020725, 30.560989900684827, 128.19052515220162, 29.574579545924166, 30.5609090491337, 25.6303241531885, 69.02587314233162, 23.658201006834904, 30.5619040774123, 23.657375043740156, 28.587817438480364, 20.6998984248637, 20.699731250002248, 28.576259957248332, 51.27462367529785, 18.727354116720477, 17.7415205259282, 21.67897586948738, 18.72764169699741, 16.755209560098198, 15.76912356689202, 36.48248482774971, 112.38762047197433, 68.04858024706019, 38.455622340235415, 92.69527736180873, 203.24601582184414, 69.04391212886159, 119.26877018276295, 195.2124982496494, 108.00787250851903, 87.39018731441145, 99.482846991403, 72.94615168371294, 121.88104569805601, 80.68638134687512, 257.3762678989608, 145.7024306671957, 117.86944097613095, 221.61300342796557, 122.58440169552333, 442.39482709731055, 410.08155392727247, 169.40573950610622, 187.9286323822006, 162.23410076524686, 207.18988042390373, 532.1829523102183, 372.9377769622172, 136.68711380271023, 140.3752103339096, 350.4324013762932, 487.1878964494648, 562.2191911877818, 454.6734507226961, 403.2025454235571, 495.66520069060334, 555.5594790209568, 384.215132668802, 363.2605959366957, 403.6443170478217, 327.70997736173035, 309.74938691723565, 472.3721440216392, 162.25657576317644, 108.12948791300043, 72.73979620006584, 53.07936356752765, 39.31624629606351, 37.35016876416142, 31.45193116379379, 30.46884366527138, 13.757089348220882, 14.740519715191624, 11.790954847197346, 42.21376261450337, 10.807921960172036, 10.8079219630916, 10.807921965158583, 104.17845744292579, 23.59755970899501, 26.541361601286024, 36.27843706356059, 42.278117263026154, 32.45136123404666, 30.48510481143672, 38.34224731340854, 56.06418670902171, 16.714271267651675, 44.123452939791754, 33.43918246837669, 83.5748710740315, 26.553566523068945, 28.52373048265474, 25.561442204293776, 278.5103177454863, 111.8302377948141, 66.51286883076749, 49.2009900209371, 60.03490553888108, 437.7159833834425, 86.56158121219916, 67.90747183052495, 47.18286799906489, 105.36148257105683, 374.35724488494117, 190.1430727017325, 736.345860051257, 161.30470557744928, 375.411398367499, 216.6051335973364, 174.37482509436907, 395.189272723541, 369.98282333541886, 431.9693355143615, 193.57842520398384, 87.65383783199496, 88.10843196230577, 195.86348903370293, 309.74938691723565, 176.63912351884372, 598.4496904842501, 229.84890668497988, 384.215132668802, 562.2191911877818, 289.92550505516783, 343.054888553399, 315.99315196515136, 806.4723338179293, 487.1878964494648, 322.5743751900119, 413.802895146634, 403.2025454235571, 289.66005834167316, 139.6799925297999, 131.12984046221305, 61.7785899212831, 57.98008723710257, 49.428632361311735, 44.67828011621991, 43.728254878998236, 43.72825747431108, 38.02815348451398, 33.27807644522899, 38.983231016145986, 25.677931088213544, 65.62576129379153, 23.777901900979803, 209.29247449259466, 19.978867462123734, 18.078213190867665, 17.12934382434515, 15.228030910390874, 15.228374033445956, 14.27843523426406, 19.99300028865925, 53.311144013928214, 19.043559466667077, 29.521512402093677, 28.57516672913038, 11.428261552310012, 10.478137894802337, 20.0079536873371, 28.582563220880694, 40.07755581171094, 184.52660025318775, 300.7158083941228, 85.9841269602399, 109.03121310798082, 56.37569162531655, 403.6443170478217, 109.16608488500611, 555.5594790209568, 30.5270428341592, 60.32138328500676, 45.91118046423587, 117.24143943627807, 532.1829523102183, 226.8666766441071, 65.25129112530787, 154.32328066150643, 135.01896666425506, 442.39482709731055, 289.92550505516783, 209.94879827497394, 176.34707509509798, 186.24893303532681, 736.345860051257, 463.00480471345065, 172.61832900014704, 108.19869815457804, 487.1878964494648, 161.10062290982745, 195.86348903370293, 598.4496904842501, 254.5698483153955, 354.012280689498, 806.4723338179293, 565.9896931215304, 410.08155392727247, 322.5743751900119], \"Category\": [\"Default\", \"Default\", \"Default\", \"Default\", \"Default\", \"Default\", \"Default\", \"Default\", \"Default\", \"Default\", \"Default\", \"Default\", \"Default\", \"Default\", \"Default\", \"Default\", \"Default\", \"Default\", \"Default\", \"Default\", \"Default\", \"Default\", \"Default\", \"Default\", \"Default\", \"Default\", \"Default\", \"Default\", \"Default\", \"Default\", \"Topic1\", \"Topic1\", \"Topic1\", \"Topic1\", \"Topic1\", \"Topic1\", \"Topic1\", \"Topic1\", \"Topic1\", \"Topic1\", \"Topic1\", \"Topic1\", \"Topic1\", \"Topic1\", \"Topic1\", \"Topic1\", \"Topic1\", \"Topic1\", \"Topic1\", \"Topic1\", \"Topic1\", \"Topic1\", \"Topic1\", \"Topic1\", \"Topic1\", \"Topic1\", \"Topic1\", \"Topic1\", \"Topic1\", \"Topic1\", \"Topic1\", \"Topic1\", \"Topic1\", \"Topic1\", \"Topic1\", \"Topic1\", \"Topic1\", \"Topic1\", \"Topic1\", \"Topic1\", \"Topic1\", \"Topic1\", \"Topic1\", \"Topic1\", \"Topic1\", \"Topic1\", \"Topic1\", \"Topic1\", \"Topic1\", \"Topic1\", \"Topic1\", \"Topic1\", \"Topic1\", \"Topic1\", \"Topic1\", \"Topic1\", \"Topic1\", \"Topic1\", \"Topic1\", \"Topic1\", \"Topic1\", \"Topic1\", \"Topic1\", \"Topic1\", \"Topic1\", \"Topic1\", \"Topic1\", \"Topic1\", \"Topic1\", \"Topic1\", \"Topic1\", \"Topic1\", \"Topic1\", \"Topic1\", \"Topic1\", \"Topic1\", \"Topic1\", \"Topic1\", \"Topic2\", \"Topic2\", \"Topic2\", \"Topic2\", \"Topic2\", \"Topic2\", \"Topic2\", \"Topic2\", \"Topic2\", \"Topic2\", \"Topic2\", \"Topic2\", \"Topic2\", \"Topic2\", \"Topic2\", \"Topic2\", \"Topic2\", \"Topic2\", \"Topic2\", \"Topic2\", \"Topic2\", \"Topic2\", \"Topic2\", \"Topic2\", \"Topic2\", \"Topic2\", \"Topic2\", \"Topic2\", \"Topic2\", \"Topic2\", \"Topic2\", \"Topic2\", \"Topic2\", \"Topic2\", \"Topic2\", \"Topic2\", \"Topic2\", \"Topic2\", \"Topic2\", \"Topic2\", \"Topic2\", \"Topic2\", \"Topic2\", \"Topic2\", \"Topic2\", \"Topic2\", \"Topic2\", \"Topic2\", \"Topic2\", \"Topic2\", \"Topic2\", \"Topic2\", \"Topic2\", \"Topic2\", \"Topic2\", \"Topic2\", \"Topic2\", \"Topic2\", \"Topic2\", \"Topic2\", \"Topic2\", \"Topic2\", \"Topic2\", \"Topic2\", \"Topic2\", \"Topic2\", \"Topic2\", \"Topic2\", \"Topic2\", \"Topic2\", \"Topic2\", \"Topic2\", \"Topic2\", \"Topic2\", \"Topic3\", \"Topic3\", \"Topic3\", \"Topic3\", \"Topic3\", \"Topic3\", \"Topic3\", \"Topic3\", \"Topic3\", \"Topic3\", \"Topic3\", \"Topic3\", \"Topic3\", \"Topic3\", \"Topic3\", \"Topic3\", \"Topic3\", \"Topic3\", \"Topic3\", \"Topic3\", \"Topic3\", \"Topic3\", \"Topic3\", \"Topic3\", \"Topic3\", \"Topic3\", \"Topic3\", \"Topic3\", \"Topic3\", \"Topic3\", \"Topic3\", \"Topic3\", \"Topic3\", \"Topic3\", \"Topic3\", \"Topic3\", \"Topic3\", \"Topic3\", \"Topic3\", \"Topic3\", \"Topic3\", \"Topic3\", \"Topic3\", \"Topic3\", \"Topic3\", \"Topic3\", \"Topic3\", \"Topic3\", \"Topic3\", \"Topic3\", \"Topic3\", \"Topic3\", \"Topic3\", \"Topic3\", \"Topic3\", \"Topic3\", \"Topic3\", \"Topic3\", \"Topic3\", \"Topic3\", \"Topic3\", \"Topic3\", \"Topic3\", \"Topic3\", \"Topic3\", \"Topic3\", \"Topic3\", \"Topic3\", \"Topic3\", \"Topic4\", \"Topic4\", \"Topic4\", \"Topic4\", \"Topic4\", \"Topic4\", \"Topic4\", \"Topic4\", \"Topic4\", \"Topic4\", \"Topic4\", \"Topic4\", \"Topic4\", \"Topic4\", \"Topic4\", \"Topic4\", \"Topic4\", \"Topic4\", \"Topic4\", \"Topic4\", \"Topic4\", \"Topic4\", \"Topic4\", \"Topic4\", \"Topic4\", \"Topic4\", \"Topic4\", \"Topic4\", \"Topic4\", \"Topic4\", \"Topic4\", \"Topic4\", \"Topic4\", \"Topic4\", \"Topic4\", \"Topic4\", \"Topic4\", \"Topic4\", \"Topic4\", \"Topic4\", \"Topic4\", \"Topic4\", \"Topic4\", \"Topic4\", \"Topic4\", \"Topic4\", \"Topic4\", \"Topic4\", \"Topic4\", \"Topic4\", \"Topic4\", \"Topic4\", \"Topic4\", \"Topic4\", \"Topic4\", \"Topic4\", \"Topic4\", \"Topic4\", \"Topic4\", \"Topic4\", \"Topic4\", \"Topic4\", \"Topic4\", \"Topic4\", \"Topic4\", \"Topic4\", \"Topic4\"], \"logprob\": [30.0, 29.0, 28.0, 27.0, 26.0, 25.0, 24.0, 23.0, 22.0, 21.0, 20.0, 19.0, 18.0, 17.0, 16.0, 15.0, 14.0, 13.0, 12.0, 11.0, 10.0, 9.0, 8.0, 7.0, 6.0, 5.0, 4.0, 3.0, 2.0, 1.0, -5.7341, -6.1041, -6.2505, -6.5969, -6.318, -7.0435, -7.1333, -7.1574, -5.6857, -7.207, -7.1592, -7.2596, -7.1141, -7.3434, -7.3434, -6.3148, -7.3167, -7.4039, -7.1641, -7.6095, -7.6102, -7.6889, -6.4773, -7.7308, -7.731, -7.542, -6.5271, -7.7315, -7.775, -7.7751, -4.8317, -6.4811, -7.2505, -5.8587, -5.1147, -5.0771, -6.3884, -6.1448, -6.0507, -6.933, -6.4818, -6.0033, -4.3053, -5.286, -6.4847, -5.5671, -6.7254, -6.4983, -6.6129, -6.4024, -6.51, -5.4427, -5.6881, -5.3612, -5.3893, -4.8611, -5.3245, -4.5953, -5.4793, -5.8109, -5.3578, -5.5907, -5.7025, -6.154, -5.6534, -6.1249, -6.0566, -6.0235, -5.496, -5.9586, -5.4415, -5.5226, -5.5117, -5.6329, -5.7995, -5.6215, -5.8754, -5.7399, -6.1611, -6.3273, -6.2257, -6.4429, -6.5051, -6.2779, -5.8361, -6.7768, -6.5559, -6.898, -6.9297, -5.4964, -6.9639, -6.9321, -7.1108, -6.1209, -7.1929, -6.937, -7.1942, -7.0084, -7.3313, -7.3322, -7.011, -6.4268, -7.4358, -7.4914, -7.2921, -7.4388, -7.5516, -7.6165, -6.779, -5.6725, -6.1672, -6.7304, -5.8691, -5.1429, -6.1811, -5.6744, -5.2171, -5.7685, -5.981, -5.8891, -6.1726, -5.7264, -6.0921, -5.1041, -5.5992, -5.7869, -5.2731, -5.7646, -4.7104, -4.7907, -5.5031, -5.4501, -5.5686, -5.4152, -4.7548, -5.0894, -5.7405, -5.7273, -5.2067, -5.0601, -5.0099, -5.1928, -5.2555, -5.313, -5.3295, -5.4601, -5.4917, -5.5076, -5.6183, -5.6409, -5.6666, -5.7261, -5.6302, -6.03, -6.35, -6.654, -6.7067, -6.8819, -6.9144, -7.7403, -7.6718, -7.9051, -6.6324, -7.9969, -7.9969, -7.9969, -5.7398, -7.2369, -7.1194, -6.8109, -6.6581, -6.9258, -6.9892, -6.7626, -6.3837, -7.6027, -6.6336, -6.9117, -6.0029, -7.1495, -7.0843, -7.2064, -4.8373, -5.7556, -6.2904, -6.5819, -6.4015, -4.5757, -6.0673, -6.2985, -6.6351, -5.9415, -4.8507, -5.436, -4.2858, -5.6172, -4.9246, -5.3766, -5.5679, -4.9915, -5.0553, -4.98, -5.5906, -6.1536, -6.1768, -5.6639, -5.3849, -5.7471, -5.1021, -5.6628, -5.3905, -5.2157, -5.5633, -5.5021, -5.5983, -5.2121, -5.4979, -5.6257, -5.568, -5.5933, -5.7442, -5.1363, -5.1998, -5.9588, -6.0239, -6.1851, -6.2876, -6.3094, -6.3094, -6.4517, -6.5879, -6.43, -6.854, -5.9177, -6.9332, -4.765, -7.1149, -7.2181, -7.2762, -7.3976, -7.3982, -7.4663, -7.1344, -6.1561, -7.187, -6.7528, -6.7863, -7.7028, -7.7957, -7.1554, -6.7988, -6.5021, -5.0433, -4.5963, -5.7865, -5.5956, -6.2138, -4.4457, -5.621, -4.21, -6.7727, -6.2099, -6.4438, -5.6945, -4.5691, -5.2232, -6.1932, -5.5852, -5.7033, -4.9599, -5.2407, -5.4675, -5.6392, -5.6118, -4.9147, -5.1855, -5.6954, -5.9052, -5.2481, -5.7503, -5.6827, -5.299, -5.6098, -5.5588, -5.3883, -5.4734, -5.605, -5.6832], \"loglift\": [30.0, 29.0, 28.0, 27.0, 26.0, 25.0, 24.0, 23.0, 22.0, 21.0, 20.0, 19.0, 18.0, 17.0, 16.0, 15.0, 14.0, 13.0, 12.0, 11.0, 10.0, 9.0, 8.0, 7.0, 6.0, 5.0, 4.0, 3.0, 2.0, 1.0, 0.9519, 0.9502, 0.9483, 0.9462, 0.9409, 0.94, 0.9392, 0.9386, 0.9384, 0.9379, 0.9369, 0.9365, 0.9354, 0.935, 0.935, 0.9338, 0.9335, 0.9333, 0.9322, 0.9285, 0.9278, 0.9261, 0.9256, 0.9251, 0.9248, 0.9248, 0.9246, 0.9244, 0.9235, 0.9234, 0.9088, 0.9218, 0.92, 0.9006, 0.8769, 0.8761, 0.9022, 0.8934, 0.8875, 0.9128, 0.8982, 0.8765, 0.7983, 0.8375, 0.8949, 0.839, 0.9052, 0.8833, 0.8921, 0.8693, 0.871, 0.7388, 0.7671, 0.7205, 0.7123, 0.6244, 0.6872, 0.536, 0.6703, 0.7396, 0.6039, 0.6481, 0.6179, 0.7932, 0.5714, 0.7776, 0.7378, 0.7178, 0.3792, 0.6763, 0.2248, 0.0956, -0.082, 0.0534, 0.3455, -0.1294, 0.4726, -0.0355, 1.4874, 1.4856, 1.4854, 1.4833, 1.483, 1.4829, 1.4806, 1.478, 1.4759, 1.4746, 1.4746, 1.4742, 1.4733, 1.4722, 1.4695, 1.4687, 1.4675, 1.4673, 1.4661, 1.4627, 1.4626, 1.4617, 1.4605, 1.46, 1.4583, 1.4568, 1.4556, 1.4552, 1.4537, 1.4495, 1.4482, 1.4296, 1.4366, 1.4442, 1.4257, 1.3668, 1.4082, 1.3683, 1.3328, 1.3733, 1.3727, 1.3349, 1.3617, 1.2946, 1.3414, 1.1694, 1.2433, 1.2675, 1.15, 1.2506, 1.0215, 1.017, 1.1886, 1.1379, 1.1665, 1.0752, 0.7923, 0.8132, 1.1658, 1.1525, 0.7581, 0.5753, 0.4823, 0.5116, 0.5691, 0.3051, 0.1745, 0.4128, 0.4372, 0.3159, 0.4136, 0.4474, -0.0003, 1.0087, 1.5105, 1.5071, 1.5023, 1.4984, 1.497, 1.4937, 1.4929, 1.4622, 1.4616, 1.4517, 1.4489, 1.4468, 1.4468, 1.4468, 1.4381, 1.426, 1.4259, 1.4219, 1.4217, 1.4185, 1.4176, 1.4149, 1.4138, 1.4051, 1.4035, 1.4026, 1.3954, 1.3954, 1.389, 1.3766, 1.3573, 1.3515, 1.3362, 1.3462, 1.3276, 1.1668, 1.2959, 1.3074, 1.3349, 1.2252, 1.0481, 1.1403, 0.9365, 1.1236, 0.9714, 1.0694, 1.095, 0.8532, 0.8553, 0.7757, 0.9678, 1.197, 1.1687, 0.8828, 0.7034, 0.9028, 0.3276, 0.7238, 0.4823, 0.2765, 0.5911, 0.4841, 0.47, -0.0807, 0.1375, 0.422, 0.2306, 0.2313, 0.4111, 1.7484, 1.748, 1.7416, 1.74, 1.7385, 1.737, 1.7366, 1.7366, 1.734, 1.7312, 1.7309, 1.7245, 1.7224, 1.7221, 1.7153, 1.7145, 1.7112, 1.7071, 1.7033, 1.7027, 1.699, 1.6942, 1.6918, 1.6904, 1.6861, 1.6853, 1.6852, 1.6791, 1.6726, 1.6724, 1.6312, 1.563, 1.5216, 1.5834, 1.5368, 1.5782, 1.3778, 1.5102, 1.2941, 1.6327, 1.5144, 1.5535, 1.3653, 0.9779, 1.1765, 1.4526, 1.1998, 1.2154, 0.7719, 0.9138, 1.0097, 1.0124, 0.9852, 0.3077, 0.5009, 0.9776, 1.2349, 0.3873, 0.9917, 0.8639, 0.1307, 0.6747, 0.3959, -0.2569, 0.0121, 0.2027, 0.3646]}, \"token.table\": {\"Topic\": [1, 2, 3, 4, 1, 1, 2, 3, 4, 1, 2, 3, 4, 1, 2, 3, 4, 1, 2, 3, 4, 1, 1, 2, 2, 4, 2, 3, 4, 1, 2, 3, 4, 1, 2, 3, 4, 1, 3, 4, 1, 3, 4, 1, 2, 3, 4, 1, 2, 3, 4, 1, 3, 1, 2, 4, 1, 2, 3, 4, 2, 1, 2, 3, 4, 1, 2, 3, 4, 1, 1, 2, 3, 4, 2, 3, 2, 4, 1, 2, 3, 4, 1, 2, 3, 4, 2, 1, 2, 4, 1, 2, 1, 3, 1, 1, 2, 3, 4, 2, 1, 2, 3, 4, 1, 3, 1, 3, 4, 1, 2, 3, 4, 1, 2, 3, 4, 1, 3, 4, 3, 1, 2, 4, 1, 2, 3, 4, 1, 2, 3, 4, 2, 3, 4, 4, 1, 2, 1, 3, 1, 1, 3, 4, 4, 3, 4, 2, 1, 3, 1, 2, 3, 4, 1, 2, 3, 4, 1, 2, 3, 4, 2, 4, 2, 4, 2, 4, 2, 4, 3, 4, 1, 2, 3, 2, 4, 4, 1, 2, 3, 4, 1, 1, 3, 1, 2, 3, 4, 1, 3, 4, 1, 2, 3, 4, 4, 2, 4, 1, 2, 1, 1, 2, 3, 4, 1, 2, 3, 1, 1, 3, 4, 1, 2, 4, 2, 4, 1, 2, 3, 4, 1, 2, 4, 1, 2, 3, 1, 1, 4, 1, 4, 3, 1, 3, 4, 4, 1, 2, 3, 4, 1, 2, 3, 4, 1, 2, 3, 4, 1, 2, 3, 4, 1, 2, 3, 4, 1, 2, 3, 4, 3, 2, 4, 2, 4, 2, 2, 3, 4, 2, 2, 1, 2, 3, 1, 2, 3, 4, 3, 1, 1, 3, 4, 1, 3, 1, 3, 1, 2, 2, 1, 2, 3, 4, 1, 2, 3, 4, 3, 1, 2, 3, 4, 2, 3, 4, 1, 2, 3, 4, 1, 4, 4, 1, 1, 1, 2, 3, 4, 1, 2, 4, 1, 2, 3, 4, 1, 1, 2, 3, 4, 1, 2, 4, 2, 1, 2, 3, 4, 1, 2, 3, 4, 1, 2, 3, 1, 2, 3, 4, 1, 4, 1, 2, 2, 2, 1, 2, 3, 4, 3, 1, 3, 1, 2, 3, 4, 1, 2, 3, 4, 1, 2, 1, 2, 3, 4, 1, 3, 4, 2, 3, 2, 4, 4, 1, 3, 4, 4, 1, 3, 1, 1, 3, 4, 1, 1, 2, 3, 4, 2, 2, 3, 4, 2, 4, 3, 3, 1, 2, 3, 4, 1, 3, 4, 1, 3, 4, 1, 2, 4, 1, 1, 3, 1, 2, 4, 1, 3, 4, 1, 2, 3, 4, 1, 1, 2, 3, 4, 1, 2, 3, 4, 1, 3, 1, 2, 3, 4, 3, 2, 4, 4, 1, 2, 4, 1, 2, 4, 1, 2, 3, 1, 2, 3, 4, 1, 2, 3, 4, 1, 1, 2, 3, 4, 2, 3, 4, 1, 4, 1, 2, 3, 4, 4, 1, 2, 3, 4, 1, 2, 3, 4, 2, 4, 2, 4, 1, 2, 3, 4, 1, 2, 3, 4, 1, 2, 3, 4, 1, 2, 4, 1, 1, 2, 3, 4, 1, 2, 3, 4, 2, 1, 3, 4, 4, 1, 2, 3, 4, 1, 2, 3, 4, 4, 2, 3, 4, 1, 3, 4, 2, 3, 1, 2, 4, 1, 2, 3, 4, 2, 1, 2, 3, 4, 2, 2, 1, 3, 1, 2, 3, 4, 4, 1, 3, 4, 1, 2, 3, 4, 3, 3, 2, 1, 4, 1, 2, 3, 4, 3, 4, 3, 2, 1, 2, 3, 1, 3, 1, 2, 2, 3, 1, 1, 2, 3, 4, 4, 1, 2, 3, 4, 2, 3, 1, 2, 3, 4, 4, 2, 1, 2, 1, 2, 3, 4, 1, 2, 2, 3, 1, 2, 3, 4, 4, 1, 2, 3, 4, 1, 2, 3, 4, 2, 3, 1, 2, 3, 4, 1, 2, 1, 2, 3, 4, 1, 2, 3, 4, 1, 2, 3, 4], \"Freq\": [0.3231687025946868, 0.009233391502705336, 0.6371040136866682, 0.02770017450811601, 0.9695047556376287, 0.06780325435968007, 0.7150161368838989, 0.1417704409338765, 0.07396718657419644, 0.8538505441464015, 0.028944086242250897, 0.04341612936337635, 0.07477222279248148, 0.9531267910266457, 0.011401038170175187, 0.022802076340350374, 0.013681245804210224, 0.30753774103717574, 0.39434274858799145, 0.2752958810897299, 0.022321287655924046, 0.9924986689720954, 0.9977025412035798, 0.9816461922571771, 0.9694141791330707, 0.022544515793792342, 0.1961763699813728, 0.11941170346692258, 0.6823525912395576, 0.1561625113077488, 0.3383521078334557, 0.3539683589642306, 0.15095709426415715, 0.09647201899416488, 0.3961510567207196, 0.2524693263038783, 0.25452192245269034, 0.018343371067689285, 0.1742620251430482, 0.8071083269783285, 0.17328703785145325, 0.7971203741166849, 0.023104938380193767, 0.7625402527166109, 0.02691318538999803, 0.13755628088221217, 0.07475884830555009, 0.8045620794385292, 0.03270577558693208, 0.07195270629125058, 0.08503501652602341, 0.10517558360132093, 0.8764631966776745, 0.027410413647026833, 0.9593644776459391, 0.9193572092401701, 0.3167803382197586, 0.08053737412366745, 0.13959811514769024, 0.46174761164236, 0.9549268806582583, 0.7125598638732269, 0.08143541301408308, 0.13436843147323707, 0.06922010106197062, 0.09653084837164996, 0.5041055414963943, 0.2118315839266763, 0.19038028428853188, 0.9957069816538854, 0.7517370383287596, 0.0034325892161130574, 0.01373035686445223, 0.22998347747957484, 0.1173642698257481, 0.8606713120554861, 0.8811057896348277, 0.1144293233291984, 0.08887640230457253, 0.08887640230457253, 0.23700373947886008, 0.5851029818384358, 0.017999872880618748, 0.26639811863315743, 0.0845994025389081, 0.631795538109718, 0.9805718439705307, 0.922273971939686, 0.002820409700121364, 0.07333065220315546, 0.12300364117303937, 0.8757859251520403, 0.9888021693042796, 0.010408443887413469, 0.9752061143356975, 0.30812241220357933, 0.12162726797509711, 0.5162401818498566, 0.051353735367263224, 0.9754070939789466, 0.3356317910109263, 0.07192109807376991, 0.5780325289632618, 0.013318721865512946, 0.09244604497060423, 0.8936451013825075, 0.0709586943367418, 0.8988101282653962, 0.02365289811224727, 0.9261255969887949, 0.007124043053759961, 0.021372129161279882, 0.04986830137631972, 0.11322519950041768, 0.10190267955037591, 0.5434809576020049, 0.243434178925898, 0.1271648005822561, 0.8265712037846648, 0.02119413343037602, 0.9252472429239335, 0.9172113233255058, 0.021085317777597836, 0.0632559533327935, 0.9232841185025559, 0.02637954624293017, 0.011724242774635631, 0.0381037890175658, 0.3542486584435444, 0.14370464446294726, 0.304119131305307, 0.19717614007706719, 0.697073130046401, 0.2660584465825958, 0.037248182521563415, 0.9873970914150815, 0.05200799982652827, 0.9361439968775088, 0.08475452651307974, 0.9322997916438772, 0.9844462907879421, 0.17671104042789446, 0.809925601961183, 0.014725920035657872, 0.9913838035779611, 0.9856310519872294, 0.9747781035456309, 0.9816142320194116, 0.08971511198986663, 0.8971511198986664, 0.6571831143802805, 0.007439808842040911, 0.20211480687544475, 0.1339165591567364, 0.062165793803029196, 0.7187919908475251, 0.0077707242253786495, 0.20980955408522353, 0.13947835339371456, 0.08781970398863509, 0.57857687333689, 0.19630286773930197, 0.9814755683611215, 0.011027815374844062, 0.19893442998981542, 0.7791598507934437, 0.03344601862523097, 0.9603785348102037, 0.1734167320922458, 0.8237294774381676, 0.05627341253859065, 0.9378902089765109, 0.23957878536077842, 0.02281702717721699, 0.7301448696709437, 0.05001750540499097, 0.9503326026948283, 0.9625260980990196, 0.781917079278963, 0.006543239157146134, 0.11777830482863041, 0.08833372862147282, 0.9831383390743669, 0.9718309528780992, 0.02524236241241816, 0.6153392772066233, 0.23860094422297637, 0.108835518417498, 0.03767383329836469, 0.8294172062882728, 0.15842800569551277, 0.013978941679015833, 0.13792830524558505, 0.0613014689980378, 0.0613014689980378, 0.7356176279764537, 0.9510048573083791, 0.9448402289310601, 0.03499408255300222, 0.9660322650102958, 0.981515309754769, 0.9857069948505011, 0.3039429571976183, 0.028673863886567764, 0.653764096613745, 0.011469545554627106, 0.20880495854035636, 0.04745567239553554, 0.7497996238494615, 0.9724524289099556, 0.9473337637264587, 0.03157779212421529, 0.018946675274529173, 0.04509727321368611, 0.49419095229997695, 0.46036799738971235, 0.8795655149350984, 0.11110301241285454, 0.0049548573224754465, 0.3072011539934777, 0.0024774286612377233, 0.6862477391628493, 0.004520848521495198, 0.6193562474448421, 0.3752304272841014, 0.8862184847427089, 0.09698240021712663, 0.013376882788569192, 0.9861850021022609, 0.9858997745648532, 0.02404633596499642, 0.9319172777553967, 0.05325241587173696, 0.9898295535770945, 0.05759348091026499, 0.9214956945642399, 0.01919782697008833, 0.9913282577155174, 0.3570230022958805, 0.33871413038327125, 0.22580942025551415, 0.07933844495464011, 0.7889293822545995, 0.07696872021996093, 0.05772654016497069, 0.07376169021079589, 0.3379464859578936, 0.3610691402602758, 0.28992251163756133, 0.010671994293407166, 0.13089101565286967, 0.11486354434843665, 0.6250713808728878, 0.12821977043546418, 0.7528526132590595, 0.016730058072423542, 0.1171104065069648, 0.10595703445868244, 0.0804757646421377, 0.7169659031754086, 0.1316876148689526, 0.073159786038307, 0.9895543025792446, 0.05251119160524331, 0.9452014488943796, 0.7755532936722755, 0.21962571148241433, 0.9722126802942113, 0.8551629016966973, 0.08675565669386784, 0.04957466096792448, 0.9611608713015648, 0.9826596824596647, 0.04315214446564712, 0.9277711060114132, 0.032364108349235345, 0.04733277879714203, 0.02103679057650757, 0.683695693736496, 0.24718228927396393, 0.9252472431008844, 0.9724629117043394, 0.1129791735281093, 0.9038333882248744, 0.9543680471088745, 0.9787361492237288, 0.020604971562604817, 0.9454114307525798, 0.04297324685238999, 0.979176500007042, 0.9799591313012724, 0.9939694460575192, 0.7354832381661237, 0.09381163752118925, 0.11632643052627467, 0.05628698251271355, 0.13168112411507504, 0.6169504518724812, 0.03901662936742964, 0.21215292218539866, 0.9919563456368119, 0.033935852812011016, 0.7974925410822589, 0.06787170562402203, 0.10180755843603305, 0.10642884950976972, 0.05321442475488486, 0.8336926544931962, 0.28386325069777646, 0.028965637826303722, 0.22593197504516904, 0.4576570776555988, 0.9546560768578709, 0.03743749321011258, 0.9951317828882699, 0.9856369108732117, 0.9678390649985649, 0.09860925466190655, 0.6101447632205468, 0.049304627330953275, 0.2403600582383972, 0.9582860795362279, 0.025899623771249405, 0.025899623771249405, 0.19847224560501325, 0.14743652530658127, 0.17578970325015458, 0.4763333894520318, 0.9678387848460894, 0.4060433025448871, 0.12742848324546988, 0.18142360326473678, 0.2850942337017292, 0.9867318428997, 0.015237918468072754, 0.9752267819566562, 0.9611461117865112, 0.019052264327615365, 0.09526132163807682, 0.40486061696182646, 0.4763066081903841, 0.29353023476714935, 0.050608661166749884, 0.5136779108425114, 0.14170425126689967, 0.9736305371060731, 0.012020130087729296, 0.012020130087729296, 0.4110129448805459, 0.049554752219640286, 0.3556282218115362, 0.1807290963304528, 0.034995421355864566, 0.9448763766083433, 0.0587815349780616, 0.9405045596489856, 0.9816435952334038, 0.9834776779683421, 0.4236730755102637, 0.30262362536447407, 0.16543424853257915, 0.10894450513121066, 0.9329185076656152, 0.14227355988205123, 0.833316565023443, 0.48316798243761766, 0.058922924687514346, 0.11784584937502869, 0.34175296318758325, 0.5609209391053447, 0.10174844941910904, 0.19567009503674815, 0.14088246842645868, 0.0724176809487293, 0.9124627799539892, 0.04922832722377684, 0.8122673991923178, 0.04922832722377684, 0.09025193324359088, 0.023688956825100214, 0.9238693161789084, 0.04737791365020043, 0.07824267512225033, 0.9128312097595872, 0.21068814572060404, 0.7877904579118239, 0.9916438546053987, 0.9296000425620216, 0.011767089146354702, 0.05883544573177352, 0.9729633602921933, 0.0656058101938913, 0.9184813427144782, 0.988166231793559, 0.9348605849582974, 0.058428786559893586, 0.008346969508556226, 0.9660361544991497, 0.019305962201513562, 0.6564027148514611, 0.23167154641816273, 0.0965298110075678, 0.966196119092021, 0.09827352149036378, 0.03275784049678793, 0.8844616934132741, 0.049980123686156536, 0.8996422263508177, 0.9449673307298254, 0.9497629846505043, 0.41588914300785657, 0.012414601283816613, 0.10552411091244121, 0.465547548143123, 0.15868350756719699, 0.27769613824259476, 0.5598001516953894, 0.07153700249371181, 0.8495019046128277, 0.08047912780542578, 0.049903242837368494, 0.07485486425605274, 0.8733067496539487, 0.98169879746031, 0.08918349294801083, 0.9096716280697104, 0.02178118684573979, 0.15246830792017854, 0.827685100138112, 0.8381207723068282, 0.09474408730425014, 0.06559206044140395, 0.3716953337200077, 0.3716953337200077, 0.1715516924861574, 0.08357646557017925, 0.9898895545108536, 0.20099250641498512, 0.004074172427330779, 0.5595196800200937, 0.23494394330940827, 0.40823669499719567, 0.1740544048437656, 0.35127343523014515, 0.06645713639489233, 0.05982911154106799, 0.8974366731160199, 0.23949748740477542, 0.34685843003450234, 0.21472188525945382, 0.19820481716257277, 0.925247243350823, 0.9861476898410331, 0.9735986872974856, 0.9833458382205396, 0.06526115793973936, 0.7831338952768722, 0.15499525010688095, 0.010245245657592479, 0.8452327667513796, 0.13831081637749848, 0.013708742365682262, 0.8773595114036647, 0.1096699389254581, 0.3009472879485862, 0.1689934770788215, 0.4768857024416059, 0.05555949931358515, 0.5432560872629144, 0.07858421388079893, 0.3211702654258739, 0.058083984172764426, 0.9678352450966066, 0.887240869286912, 0.0221810217321728, 0.05323445215721472, 0.03548963477147648, 0.34866897098607447, 0.44229304652863155, 0.20661864947322933, 0.397416981289073, 0.5915043442442017, 0.03239951858570859, 0.16199759292854293, 0.2267966300999601, 0.5767114308256128, 0.9340696388649713, 0.0721979295100377, 0.7039298127228675, 0.19854430615260366, 0.02256185297188678, 0.03561882463510853, 0.7052527277751488, 0.14247529854043411, 0.11398023883234729, 0.06997273073602163, 0.9096454995682812, 0.03387360330255572, 0.9484608924715602, 0.2010436066779662, 0.002284586439522343, 0.7036526233728817, 0.09366804402041606, 0.9398438852525631, 0.023496097131314078, 0.011748048565657039, 0.011748048565657039, 0.8044469403563722, 0.01063145736153796, 0.10985839273589225, 0.07442020153076571, 0.9172227542968552, 0.03527779824218674, 0.03527779824218674, 0.9808882231049045, 0.26928117202819124, 0.2830904629014318, 0.33142298095777384, 0.1173789724225449, 0.3658071101602299, 0.052701024345117864, 0.33480650760427816, 0.24800482044761346, 0.9512259788168044, 0.022663684126546957, 0.8838836809353313, 0.09065473650618783, 0.9403584204100253, 0.05220821005012061, 0.30889857612988025, 0.4524711537677119, 0.1870794193462655, 0.03489016061519397, 0.023260107076795978, 0.09304042830718391, 0.8489939083030532, 0.9672846702699304, 0.015034684529160175, 0.8269076491038096, 0.15034684529160175, 0.16656976321089717, 0.8328488160544859, 0.9804995974911944, 0.9794381841235232, 0.03497993514726869, 0.9364590108599663, 0.007552088797257792, 0.06041671037806234, 0.029514938599939086, 0.7319704772784893, 0.05312688947989035, 0.18299261931962232, 0.9582042291784117, 0.020103968276790812, 0.8443666676252141, 0.11057182552234947, 0.020103968276790812, 0.9686804453506024, 0.9926862000160708, 0.14721178135119364, 0.8509559068349487, 0.7026311249874971, 0.07396117105131549, 0.1877475880533393, 0.034135925100607145, 0.9833458965830352, 0.804662486176426, 0.08200382024727908, 0.11275525284000873, 0.018598341500704527, 0.2913740168443709, 0.6757397411922644, 0.012398894333803019, 0.9796650996737276, 0.9846123577769454, 0.966188315976323, 0.9508584240648366, 0.04527897257451603, 0.25682556649023525, 0.4765541067096587, 0.12555916583967056, 0.1426808702723529, 0.9096312485067453, 0.08269374986424957, 0.990624707310629, 0.9780129141150445, 0.9395001575507633, 0.011743751969384542, 0.046975007877538166, 0.981951941863914, 0.01654975182916709, 0.02897464253550248, 0.9706505249393331, 0.9342665994622019, 0.062284439964146794, 0.9808899322752636, 0.13619581841081677, 0.01134965153423473, 0.7036783951225533, 0.1475454699450515, 0.9848185714746511, 0.845954665357481, 0.007621213201418748, 0.05334849240993123, 0.09145455841702498, 0.07535408431732804, 0.9042490118079366, 0.14141563706924787, 0.031042456917639773, 0.39665361616984157, 0.43114523496721907, 0.9193364944446408, 0.9721787380771366, 0.015601777101898789, 0.9751110688686744, 0.13634135238498923, 0.013301595354633097, 0.05985717909584893, 0.7914449236006692, 0.019502824756601023, 0.9556384130734502, 0.10768787177700466, 0.8854336123887049, 0.6808640077295004, 0.05550521802142667, 0.199818784877136, 0.0629059137576169, 0.9830961406957768, 0.7877369973163734, 0.1364583774878757, 0.06202653522176168, 0.012405307044352335, 0.37286842067429965, 0.2655275116923043, 0.10451614821931127, 0.257053229404252, 0.8803645735518357, 0.11738194314024476, 0.056161564640090686, 0.005105596785462789, 0.5309820656881301, 0.4084477428370232, 0.9615618778321648, 0.02403904694580412, 0.7173275501906055, 0.030035882643449, 0.07773993154775034, 0.17491484598243828, 0.4805533155858598, 0.22228237064544176, 0.19899564610163356, 0.09738084809228877, 0.35282498434010195, 0.2029951964696477, 0.27549348092309334, 0.16916266372470642], \"Term\": [\"access\", \"access\", \"access\", \"access\", \"achieving\", \"affected\", \"affected\", \"affected\", \"affected\", \"africa\", \"africa\", \"africa\", \"africa\", \"african\", \"african\", \"african\", \"african\", \"agency\", \"agency\", \"agency\", \"agency\", \"agricultural\", \"agriculture\", \"airport\", \"alajo\", \"alajo\", \"ama\", \"ama\", \"ama\", \"area\", \"area\", \"area\", \"area\", \"areas\", \"areas\", \"areas\", \"areas\", \"assemblies\", \"assemblies\", \"assemblies\", \"association\", \"association\", \"association\", \"bank\", \"bank\", \"bank\", \"bank\", \"based\", \"based\", \"based\", \"based\", \"borehole\", \"borehole\", \"bridge\", \"bridge\", \"buffer\", \"building\", \"building\", \"building\", \"building\", \"burnt\", \"business\", \"business\", \"business\", \"business\", \"capital\", \"capital\", \"capital\", \"capital\", \"cassava\", \"change\", \"change\", \"change\", \"change\", \"church\", \"church\", \"circle\", \"circle\", \"cities\", \"cities\", \"cities\", \"cities\", \"city\", \"city\", \"city\", \"city\", \"claimed\", \"climate\", \"climate\", \"climate\", \"club\", \"club\", \"cocoa\", \"cocoa\", \"commitments\", \"communities\", \"communities\", \"communities\", \"communities\", \"commuters\", \"company\", \"company\", \"company\", \"company\", \"competition\", \"competition\", \"component\", \"component\", \"component\", \"conference\", \"conference\", \"conference\", \"conference\", \"construction\", \"construction\", \"construction\", \"construction\", \"consumers\", \"consumers\", \"consumers\", \"contentservices\", \"continent\", \"continent\", \"continent\", \"countries\", \"countries\", \"countries\", \"countries\", \"country\", \"country\", \"country\", \"country\", \"daily\", \"daily\", \"daily\", \"dans\", \"death\", \"death\", \"deficit\", \"deficit\", \"delegates\", \"delivery\", \"delivery\", \"delivery\", \"des\", \"desalination\", \"desilting\", \"destroyed\", \"details\", \"details\", \"development\", \"development\", \"development\", \"development\", \"disaster\", \"disaster\", \"disaster\", \"disaster\", \"district\", \"district\", \"district\", \"district\", \"downpour\", \"downpour\", \"drain\", \"drain\", \"drainage\", \"drainage\", \"drains\", \"drains\", \"dredging\", \"dredging\", \"drinking\", \"drinking\", \"drinking\", \"dump\", \"dump\", \"dumped\", \"economic\", \"economic\", \"economic\", \"economic\", \"economies\", \"ecowas\", \"ecowas\", \"education\", \"education\", \"education\", \"education\", \"energy\", \"energy\", \"energy\", \"est\", \"est\", \"est\", \"est\", \"ete\", \"evening\", \"evening\", \"exports\", \"exposure\", \"extreme\", \"facilities\", \"facilities\", \"facilities\", \"facilities\", \"facility\", \"facility\", \"facility\", \"farmer\", \"farmers\", \"farmers\", \"farmers\", \"flood\", \"flood\", \"flood\", \"flooded\", \"flooded\", \"flooding\", \"flooding\", \"flooding\", \"flooding\", \"floods\", \"floods\", \"floods\", \"food\", \"food\", \"food\", \"forestry\", \"forests\", \"forests\", \"forum\", \"forum\", \"gallons\", \"gama\", \"gama\", \"gama\", \"garid\", \"ghanaian\", \"ghanaian\", \"ghanaian\", \"ghanaian\", \"global\", \"global\", \"global\", \"global\", \"gna\", \"gna\", \"gna\", \"gna\", \"greater\", \"greater\", \"greater\", \"greater\", \"growth\", \"growth\", \"growth\", \"growth\", \"guide\", \"guide\", \"guide\", \"guide\", \"gwcl\", \"hazards\", \"hazards\", \"heavy\", \"heavy\", \"highway\", \"hit\", \"hit\", \"hit\", \"homeless\", \"hour\", \"hours\", \"hours\", \"hours\", \"housing\", \"housing\", \"housing\", \"housing\", \"htlive\", \"hunger\", \"ida\", \"ida\", \"ill\", \"india\", \"india\", \"industry\", \"industry\", \"innovation\", \"intensity\", \"interchange\", \"international\", \"international\", \"international\", \"international\", \"june\", \"june\", \"june\", \"june\", \"kpong\", \"kwame\", \"kwame\", \"kwame\", \"kwame\", \"lagoon\", \"lagoon\", \"lagoon\", \"land\", \"land\", \"land\", \"land\", \"launched\", \"launched\", \"les\", \"liberia\", \"literacy\", \"lives\", \"lives\", \"lives\", \"lives\", \"london\", \"london\", \"london\", \"long\", \"long\", \"long\", \"long\", \"maize\", \"management\", \"management\", \"management\", \"management\", \"manufacturing\", \"mayor\", \"mayor\", \"memorial\", \"metropolitan\", \"metropolitan\", \"metropolitan\", \"metropolitan\", \"million\", \"million\", \"million\", \"million\", \"mining\", \"mining\", \"mining\", \"minister\", \"minister\", \"minister\", \"minister\", \"mmdas\", \"mmdas\", \"morning\", \"morning\", \"motorists\", \"motorway\", \"national\", \"national\", \"national\", \"national\", \"nationwide\", \"ndc\", \"ndc\", \"need\", \"need\", \"need\", \"need\", \"new\", \"new\", \"new\", \"new\", \"night\", \"night\", \"nkrumah\", \"nkrumah\", \"nkrumah\", \"nkrumah\", \"notice\", \"notice\", \"notice\", \"npp\", \"npp\", \"odaw\", \"odaw\", \"ont\", \"opportunities\", \"opportunities\", \"opportunities\", \"par\", \"parliamentary\", \"parliamentary\", \"partner\", \"partners\", \"partners\", \"partners\", \"partnerships\", \"parts\", \"parts\", \"parts\", \"parts\", \"passengers\", \"pays\", \"pays\", \"pays\", \"permits\", \"permits\", \"piped\", \"pipelines\", \"plan\", \"plan\", \"plan\", \"plan\", \"planning\", \"planning\", \"planning\", \"plant\", \"plant\", \"plant\", \"plastic\", \"plastic\", \"plastic\", \"platform\", \"potable\", \"potable\", \"pour\", \"pour\", \"pour\", \"poverty\", \"poverty\", \"poverty\", \"president\", \"president\", \"president\", \"president\", \"products\", \"project\", \"project\", \"project\", \"project\", \"provided\", \"provided\", \"provided\", \"provided\", \"providers\", \"providers\", \"public\", \"public\", \"public\", \"public\", \"purchaser\", \"quarshie\", \"que\", \"qui\", \"rain\", \"rain\", \"rain\", \"rains\", \"rains\", \"rains\", \"recorded\", \"recorded\", \"recorded\", \"region\", \"region\", \"region\", \"region\", \"regional\", \"regional\", \"regional\", \"regional\", \"renewable\", \"research\", \"research\", \"research\", \"research\", \"residents\", \"residents\", \"residents\", \"resilience\", \"resilience\", \"river\", \"river\", \"river\", \"river\", \"rivers\", \"road\", \"road\", \"road\", \"road\", \"roads\", \"roads\", \"roads\", \"roads\", \"rubbish\", \"rubbish\", \"runoff\", \"runoff\", \"sanitation\", \"sanitation\", \"sanitation\", \"sanitation\", \"secretary\", \"secretary\", \"secretary\", \"secretary\", \"sector\", \"sector\", \"sector\", \"sector\", \"sectors\", \"sectors\", \"sectors\", \"seeds\", \"service\", \"service\", \"service\", \"service\", \"services\", \"services\", \"services\", \"services\", \"shop\", \"shortage\", \"shortage\", \"shortage\", \"silt\", \"situation\", \"situation\", \"situation\", \"situation\", \"solid\", \"solid\", \"solid\", \"solid\", \"sont\", \"spaces\", \"spaces\", \"spaces\", \"speaker\", \"speaker\", \"spreading\", \"stadium\", \"stadium\", \"states\", \"states\", \"states\", \"station\", \"station\", \"station\", \"station\", \"stranded\", \"street\", \"street\", \"street\", \"street\", \"stretch\", \"submerged\", \"supply\", \"supply\", \"support\", \"support\", \"support\", \"support\", \"sur\", \"sustainable\", \"sustainable\", \"sustainable\", \"tema\", \"tema\", \"tema\", \"tema\", \"tender\", \"tendersbiz\", \"test\", \"theme\", \"theme\", \"time\", \"time\", \"time\", \"time\", \"toilet\", \"toilet\", \"toilets\", \"torrential\", \"tourism\", \"tourism\", \"tourism\", \"trade\", \"trade\", \"traders\", \"traders\", \"traffic\", \"traffic\", \"transformation\", \"treatment\", \"treatment\", \"treatment\", \"treatment\", \"une\", \"united\", \"united\", \"united\", \"united\", \"units\", \"units\", \"urban\", \"urban\", \"urban\", \"urban\", \"urbanization\", \"vehicular\", \"victims\", \"victims\", \"waste\", \"waste\", \"waste\", \"waste\", \"waters\", \"waters\", \"weija\", \"weija\", \"west\", \"west\", \"west\", \"west\", \"wetlands\", \"women\", \"women\", \"women\", \"women\", \"work\", \"work\", \"work\", \"work\", \"workers\", \"workers\", \"works\", \"works\", \"works\", \"works\", \"workshop\", \"workshop\", \"world\", \"world\", \"world\", \"world\", \"year\", \"year\", \"year\", \"year\", \"years\", \"years\", \"years\", \"years\"]}, \"R\": 30, \"lambda.step\": 0.01, \"plot.opts\": {\"xlab\": \"PC1\", \"ylab\": \"PC2\"}, \"topic.order\": [1, 3, 2, 4]};\n",
       "\n",
       "function LDAvis_load_lib(url, callback){\n",
       "  var s = document.createElement('script');\n",
       "  s.src = url;\n",
       "  s.async = true;\n",
       "  s.onreadystatechange = s.onload = callback;\n",
       "  s.onerror = function(){console.warn(\"failed to load library \" + url);};\n",
       "  document.getElementsByTagName(\"head\")[0].appendChild(s);\n",
       "}\n",
       "\n",
       "if(typeof(LDAvis) !== \"undefined\"){\n",
       "   // already loaded: just create the visualization\n",
       "   !function(LDAvis){\n",
       "       new LDAvis(\"#\" + \"ldavis_el9877161203371685732172653\", ldavis_el9877161203371685732172653_data);\n",
       "   }(LDAvis);\n",
       "}else if(typeof define === \"function\" && define.amd){\n",
       "   // require.js is available: use it to load d3/LDAvis\n",
       "   require.config({paths: {d3: \"https://d3js.org/d3.v5\"}});\n",
       "   require([\"d3\"], function(d3){\n",
       "      window.d3 = d3;\n",
       "      LDAvis_load_lib(\"https://cdn.jsdelivr.net/gh/bmabey/pyLDAvis@3.4.0/pyLDAvis/js/ldavis.v3.0.0.js\", function(){\n",
       "        new LDAvis(\"#\" + \"ldavis_el9877161203371685732172653\", ldavis_el9877161203371685732172653_data);\n",
       "      });\n",
       "    });\n",
       "}else{\n",
       "    // require.js not available: dynamically load d3 & LDAvis\n",
       "    LDAvis_load_lib(\"https://d3js.org/d3.v5.js\", function(){\n",
       "         LDAvis_load_lib(\"https://cdn.jsdelivr.net/gh/bmabey/pyLDAvis@3.4.0/pyLDAvis/js/ldavis.v3.0.0.js\", function(){\n",
       "                 new LDAvis(\"#\" + \"ldavis_el9877161203371685732172653\", ldavis_el9877161203371685732172653_data);\n",
       "            })\n",
       "         });\n",
       "}\n",
       "</script>"
      ],
      "text/plain": [
       "PreparedData(topic_coordinates=              x         y  topics  cluster       Freq\n",
       "topic                                                \n",
       "0      0.141562 -0.003942       1        1  38.421604\n",
       "2     -0.150017 -0.064692       2        1  22.336259\n",
       "1      0.051189 -0.066158       3        1  21.928952\n",
       "3     -0.042734  0.134792       4        1  17.313185, topic_info=             Term        Freq       Total Category  logprob  loglift\n",
       "388          city  555.000000  555.000000  Default  30.0000  30.0000\n",
       "978         flood  532.000000  532.000000  Default  29.0000  29.0000\n",
       "980      flooding  403.000000  403.000000  Default  28.0000  28.0000\n",
       "1903      project  736.000000  736.000000  Default  27.0000  27.0000\n",
       "981        floods  442.000000  442.000000  Default  26.0000  26.0000\n",
       "...           ...         ...         ...      ...      ...      ...\n",
       "2651         work   91.063983  354.012281   Topic4  -5.5588   0.3959\n",
       "672   development  107.989204  806.472334   Topic4  -5.3883  -0.2569\n",
       "2658        world   99.185294  565.989693   Topic4  -5.4734   0.0121\n",
       "1342         june   86.950542  410.081554   Topic4  -5.6050   0.2027\n",
       "2207     services   80.414381  322.574375   Topic4  -5.6832   0.3646\n",
       "\n",
       "[318 rows x 6 columns], token_table=      Topic      Freq       Term\n",
       "term                            \n",
       "9         1  0.323169     access\n",
       "9         2  0.009233     access\n",
       "9         3  0.637104     access\n",
       "9         4  0.027700     access\n",
       "19        1  0.969505  achieving\n",
       "...     ...       ...        ...\n",
       "2669      4  0.097381       year\n",
       "2670      1  0.352825      years\n",
       "2670      2  0.202995      years\n",
       "2670      3  0.275493      years\n",
       "2670      4  0.169163      years\n",
       "\n",
       "[656 rows x 3 columns], R=30, lambda_step=0.01, plot_opts={'xlab': 'PC1', 'ylab': 'PC2'}, topic_order=[1, 3, 2, 4])"
      ]
     },
     "execution_count": 37,
     "metadata": {},
     "output_type": "execute_result"
    }
   ],
   "source": [
    "# the TF representation model\n",
    "\n",
    "pyLDAvis.lda_model.prepare(lda_tf, dtm_tf, tf_vectorizer)"
   ]
  },
  {
   "cell_type": "code",
   "execution_count": 34,
   "id": "103736b9",
   "metadata": {},
   "outputs": [],
   "source": [
    "# The TFIDF representation model\n",
    "# not as helpful as TF-- could be due to French? Not sure\n",
    "\n",
    "# pyLDAvis.lda_model.prepare(lda_tfidf, dtm_tfidf, tfidf_vectorizer)"
   ]
  },
  {
   "cell_type": "markdown",
   "id": "45858ee7",
   "metadata": {},
   "source": [
    "## Repeat process for Kumasi"
   ]
  },
  {
   "cell_type": "code",
   "execution_count": 35,
   "id": "566ebd64",
   "metadata": {},
   "outputs": [
    {
     "name": "stdout",
     "output_type": "stream",
     "text": [
      "334\n"
     ]
    }
   ],
   "source": [
    "kumasi = pandas.read_excel(\"LexisUni_articles/processed/kumasi_articles.xlsx\")\n",
    "kumasi_docs_raw = kumasi['full_article'].tolist()\n",
    "print(len(kumasi_docs_raw))"
   ]
  },
  {
   "cell_type": "code",
   "execution_count": 38,
   "id": "8d4d3efb",
   "metadata": {},
   "outputs": [
    {
     "name": "stdout",
     "output_type": "stream",
     "text": [
      "(334, 2433)\n"
     ]
    }
   ],
   "source": [
    "# Create the TF vector represetnation\n",
    "kumasi_tf_vectorizer = CountVectorizer(strip_accents = 'unicode',\n",
    "                                stop_words = 'english',\n",
    "                                lowercase = True,\n",
    "                                token_pattern = r'\\b[a-zA-Z]{3,}\\b',\n",
    "                                max_df = 0.5, \n",
    "                                min_df = 10)\n",
    "\n",
    "kumasi_dtm_tf = kumasi_tf_vectorizer.fit_transform(kumasi_docs_raw)\n",
    "print(kumasi_dtm_tf.shape)"
   ]
  },
  {
   "cell_type": "code",
   "execution_count": null,
   "id": "4e8d64db",
   "metadata": {},
   "outputs": [],
   "source": [
    "# TF IDF = measures term importance relative to the other documents\n",
    "kumasi_tfidf_vectorizer = TfidfVectorizer(**kumasi_tf_vectorizer.get_params())\n",
    "\n",
    "dtm_tfidf = tfidf_vectorizer.fit_transform(docs_raw)\n",
    "print(dtm_tfidf.shape)"
   ]
  }
 ],
 "metadata": {
  "kernelspec": {
   "display_name": "Python 3 (ipykernel)",
   "language": "python",
   "name": "python3"
  },
  "language_info": {
   "codemirror_mode": {
    "name": "ipython",
    "version": 3
   },
   "file_extension": ".py",
   "mimetype": "text/x-python",
   "name": "python",
   "nbconvert_exporter": "python",
   "pygments_lexer": "ipython3",
   "version": "3.11.4"
  }
 },
 "nbformat": 4,
 "nbformat_minor": 5
}
